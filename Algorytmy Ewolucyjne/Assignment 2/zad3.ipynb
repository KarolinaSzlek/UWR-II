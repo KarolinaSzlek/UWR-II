{
 "cells": [
  {
   "cell_type": "code",
   "execution_count": 2,
   "metadata": {},
   "outputs": [],
   "source": [
    "import numpy as np\n",
    "from tqdm import tqdm, trange\n",
    "import itertools\n",
    "\n",
    "from SGA import SGA"
   ]
  },
  {
   "cell_type": "markdown",
   "metadata": {},
   "source": [
    "## Zadanie 3.\n",
    "Spróbuj ulepszyć algorytm ewolucyjny z Zadania 1 wprowadzając dodatkową mutację polegającą na przeszukiwaniu lokalnym (dla danej permutacji początkowej, sprawdzamy wszystkie permutacje różniące się od niej na nie więcej niż K pozycjach i permutację początkową zamieniamy na najlepszą znalezioną) i iterowanym przeszukiwaniu lokalnym (dla danej permutacji początkowej, sprawdzamy wszystkie permutacje różniące się od niej na nie więcej niż K pozycjach, permutację początkową zamieniamy na najlepszą znalezioną i powtarzamy procedurę dopóki możliwa jest poprawa rozwiązania)."
   ]
  },
  {
   "cell_type": "code",
   "execution_count": 3,
   "metadata": {},
   "outputs": [],
   "source": [
    "def gen_2perms(perm):\n",
    "    all_perms = np.array([perm])\n",
    "    for i in range(len(perm)):\n",
    "        for j in range(len(perm)):\n",
    "            if i == j:\n",
    "                continue\n",
    "                \n",
    "            p = perm.copy()\n",
    "            p[i], p[j] = p[j], p[i]\n",
    "            all_perms = np.vstack((all_perms, p))\n",
    "    return all_perms[1:]\n",
    "\n",
    "def compute_dists(coords, n):\n",
    "    A = np.empty((n, n))\n",
    "    for i in range(n):\n",
    "        for j in range(n):\n",
    "            A[i, j] = np.sqrt(((coords[i, :] - coords[j, :])**2).sum())\n",
    "    return A\n",
    "\n",
    "def mutation_local_search(perm, K, objective_func, dists):\n",
    "    last_perms = [perm]\n",
    "    all_perms = [perm]\n",
    "    for _ in range(2, K+1):\n",
    "        last_perms = np.array(list(map(lambda p: gen_2perms(p), last_perms))).reshape(-1, len(perm))\n",
    "        all_perms = np.vstack((all_perms, last_perms))\n",
    "    \n",
    "    all_perms = all_perms[np.count_nonzero(all_perms != perm, axis=1) <= K]\n",
    "    objective_values = np.array(list(map(lambda ind: objective_func(ind, dists), all_perms)))\n",
    "    \n",
    "    return all_perms[objective_values.argmin()]"
   ]
  },
  {
   "cell_type": "code",
   "execution_count": 4,
   "metadata": {},
   "outputs": [],
   "source": [
    "def tsp_objective_function(p, dist):\n",
    "    s = 0.0\n",
    "    for i in range(n):\n",
    "        s += dist[p[i-1], p[i]]\n",
    "    return s\n",
    "\n",
    "def PMX(ind1, ind2, separator_no=2):\n",
    "    new_ind1, new_ind2 = ind1.copy(), ind2.copy()\n",
    "    idxs = sorted(np.random.choice(len(ind1), separator_no, replace=False))\n",
    "    \n",
    "    group = np.random.choice(separator_no-1)\n",
    "    start, end = idxs[group], idxs[group+1]\n",
    "    \n",
    "    tmp = ind1[start:end].copy()\n",
    "    ind1[start:end] = ind2[start:end]\n",
    "    ind2[start:end] = tmp\n",
    "    \n",
    "    for i in range(len(ind1)):\n",
    "        if start <= i < end:\n",
    "            continue\n",
    "            \n",
    "        while ind1[i] in ind1[start:end]:\n",
    "            # get elem from the other ind\n",
    "            idx_of_elem = np.nonzero(ind1[start:end] == ind1[i])[0][0]\n",
    "            ind1[i] = ind2[start+idx_of_elem]\n",
    "        \n",
    "        while ind2[i] in ind2[start:end]:\n",
    "            # get elem from the other ind\n",
    "            idx_of_elem = np.nonzero(ind2[start:end] == ind2[i])[0][0]\n",
    "            ind2[i] = ind1[start+idx_of_elem]\n",
    "\n",
    "    return ind1, ind2"
   ]
  },
  {
   "cell_type": "code",
   "execution_count": 5,
   "metadata": {},
   "outputs": [],
   "source": [
    "def reverse_sequence_mutation(p, *args):\n",
    "    a = np.random.choice(len(p), 2, False)\n",
    "    i, j = a.min(), a.max()\n",
    "    q = p.copy()\n",
    "    q[i:j+1] = q[i:j+1][::-1]\n",
    "    return q\n",
    "\n",
    "def mutation_function(perm, *args):\n",
    "    perm = reverse_sequence_mutation(perm)\n",
    "    return mutation_local_search(perm, K, tsp_objective_function, dists)"
   ]
  },
  {
   "cell_type": "code",
   "execution_count": 6,
   "metadata": {},
   "outputs": [],
   "source": [
    "def iterative_mutation_function(perm, *args):\n",
    "    perm = reverse_sequence_mutation(perm)\n",
    "    \n",
    "    best_perm = perm\n",
    "    prev_best_perm = None\n",
    "    \n",
    "    while np.count_nonzero(best_perm != prev_best_perm):\n",
    "        prev_best_perm = best_perm\n",
    "        best_perm = mutation_local_search(best_perm, K, tsp_objective_function, dists)\n",
    "    \n",
    "    return best_perm"
   ]
  },
  {
   "cell_type": "markdown",
   "metadata": {},
   "source": [
    "#### Bays29"
   ]
  },
  {
   "cell_type": "code",
   "execution_count": 6,
   "metadata": {},
   "outputs": [],
   "source": [
    "n = 29\n",
    "\n",
    "data = open('data/bays29.tsp').read()\n",
    "coords = []\n",
    "for row in data.split('\\n')[38:]:\n",
    "    coords.extend(row.split()[1:])\n",
    "coords = np.array(list(map(lambda x: int(float(x)), coords)))\n",
    "coords = coords.reshape(n, 2)\n",
    "\n",
    "dists = compute_dists(coords, n)"
   ]
  },
  {
   "cell_type": "code",
   "execution_count": 9,
   "metadata": {},
   "outputs": [
    {
     "name": "stderr",
     "output_type": "stream",
     "text": [
      "100%|██████████| 100/100 [04:58<00:00,  2.98s/it]\n"
     ]
    }
   ],
   "source": [
    "K = 2\n",
    "\n",
    "sga = SGA(population_size=500, chromosome_length=n, crossover_func=PMX, objective_func=tsp_objective_function,\n",
    "             distance_matrix=dists, mutation_func=mutation_function, replace_method='mu+lambda',\n",
    "             number_of_offspring=500, crossover_probability=0.95, mutation_probability=0.25, \n",
    "             number_of_iterations=100)\n",
    "\n",
    "sga.run(with_tqdm=True)"
   ]
  },
  {
   "cell_type": "code",
   "execution_count": 10,
   "metadata": {},
   "outputs": [
    {
     "data": {
      "image/png": "[encoded data removed]",
      "text/plain": [
       "<Figure size 432x288 with 1 Axes>"
      ]
     },
     "metadata": {
      "needs_background": "light"
     },
     "output_type": "display_data"
    }
   ],
   "source": [
    "sga.plot_costs()"
   ]
  },
  {
   "cell_type": "code",
   "execution_count": 12,
   "metadata": {},
   "outputs": [
    {
     "name": "stderr",
     "output_type": "stream",
     "text": [
      "100%|██████████| 50/50 [17:12<00:00, 20.64s/it]\n"
     ]
    }
   ],
   "source": [
    "K = 2\n",
    "\n",
    "sga = SGA(population_size=500, chromosome_length=n, crossover_func=PMX, objective_func=tsp_objective_function,\n",
    "             distance_matrix=dists, mutation_func=iterative_mutation_function, replace_method='mu+lambda',\n",
    "             number_of_offspring=500, crossover_probability=0.95, mutation_probability=0.25, \n",
    "             number_of_iterations=50)\n",
    "\n",
    "sga.run(with_tqdm=True)"
   ]
  },
  {
   "cell_type": "code",
   "execution_count": 13,
   "metadata": {},
   "outputs": [
    {
     "data": {
      "image/png": "[encoded data removed]",
      "text/plain": [
       "<Figure size 432x288 with 1 Axes>"
      ]
     },
     "metadata": {
      "needs_background": "light"
     },
     "output_type": "display_data"
    }
   ],
   "source": [
    "sga.plot_costs()"
   ]
  },
  {
   "cell_type": "code",
   "execution_count": null,
   "metadata": {},
   "outputs": [],
   "source": []
  }
 ],
 "metadata": {
  "kernelspec": {
   "display_name": "Python 3",
   "language": "python",
   "name": "python3"
  },
  "language_info": {
   "codemirror_mode": {
    "name": "ipython",
    "version": 3
   },
   "file_extension": ".py",
   "mimetype": "text/x-python",
   "name": "python",
   "nbconvert_exporter": "python",
   "pygments_lexer": "ipython3",
   "version": "3.7.3"
  }
 },
 "nbformat": 4,
 "nbformat_minor": 4
}
