{
 "cells": [
  {
   "cell_type": "code",
   "execution_count": 1,
   "metadata": {},
   "outputs": [],
   "source": [
    "import numpy as np\n",
    "import matplotlib.pyplot as plt\n",
    "import time\n",
    "\n",
    "from tqdm import tqdm, trange\n",
    "\n",
    "from SGA import SGA"
   ]
  },
  {
   "cell_type": "markdown",
   "metadata": {},
   "source": [
    "## Zadanie 2.\n",
    "Rozszerz algorytm ewolucyjny dodając lub zmieniając operatory krzyżowania i mutacji (według własnych pomysłów, można też sprawdzić popularne w literaturze tematu operatory OX, CX, PBX, OBX, PPX, LCSX, LOX). Przeanalizuj działanie nowego algorytmu i otrzymane wyniki."
   ]
  },
  {
   "cell_type": "code",
   "execution_count": 2,
   "metadata": {},
   "outputs": [],
   "source": [
    "def OX(ind1, ind2, separator_no=2):\n",
    "    new_ind1, new_ind2 = ind1.copy(), ind2.copy()\n",
    "    idxs = sorted(np.random.choice(len(ind1), separator_no, replace=False))\n",
    "    \n",
    "    group = np.random.choice(separator_no-1)\n",
    "    start, end = idxs[group], idxs[group+1]\n",
    "    \n",
    "    ind1_seq = np.append(new_ind1[end:], new_ind1[:end])\n",
    "    ind2_seq = np.append(new_ind2[end:], new_ind2[:end])\n",
    "    \n",
    "    to_put_in1 = list(filter(lambda x: x not in new_ind1[start:end], ind2_seq))\n",
    "    to_put_in2 = list(filter(lambda x: x not in new_ind2[start:end], ind1_seq))\n",
    "    \n",
    "    for i, idx in enumerate(np.append(np.arange(end, len(ind1)), np.arange(start))):\n",
    "        new_ind1[idx] = to_put_in1[i]\n",
    "        new_ind2[idx] = to_put_in2[i]\n",
    "    return new_ind1, new_ind2"
   ]
  },
  {
   "cell_type": "code",
   "execution_count": 13,
   "metadata": {},
   "outputs": [],
   "source": [
    "def LOX(ind1, ind2, separator_no=2):\n",
    "    new_ind1, new_ind2 = ind1.copy(), ind2.copy()\n",
    "    idxs = sorted(np.random.choice(len(ind1), separator_no, replace=False))\n",
    "    \n",
    "    group = np.random.choice(separator_no-1)\n",
    "    start, end = idxs[group], idxs[group+1]\n",
    "    \n",
    "    ind1_seq = np.append(new_ind1[end:], new_ind1[:end])\n",
    "    ind2_seq = np.append(new_ind2[end:], new_ind2[:end])\n",
    "    \n",
    "    to_put_in1 = list(filter(lambda x: x not in new_ind1[start:end], ind2_seq))\n",
    "    to_put_in2 = list(filter(lambda x: x not in new_ind2[start:end], ind1_seq))\n",
    "    \n",
    "    i = 0\n",
    "    for idx in range(len(ind1)):\n",
    "        if start <= idx < end:\n",
    "            continue\n",
    "        new_ind1[idx] = to_put_in1[i]\n",
    "        new_ind2[idx] = to_put_in2[i]\n",
    "        i += 1\n",
    "    return new_ind1, new_ind2"
   ]
  },
  {
   "cell_type": "code",
   "execution_count": 4,
   "metadata": {},
   "outputs": [],
   "source": [
    "def PMX(ind1, ind2, separator_no=2):\n",
    "    new_ind1, new_ind2 = ind1.copy(), ind2.copy()\n",
    "    idxs = sorted(np.random.choice(len(ind1), separator_no, replace=False))\n",
    "    \n",
    "    group = np.random.choice(separator_no-1)\n",
    "    start, end = idxs[group], idxs[group+1]\n",
    "    \n",
    "    tmp = ind1[start:end].copy()\n",
    "    ind1[start:end] = ind2[start:end]\n",
    "    ind2[start:end] = tmp\n",
    "    \n",
    "    for i in range(len(ind1)):\n",
    "        if start <= i < end:\n",
    "            continue\n",
    "            \n",
    "        while ind1[i] in ind1[start:end]:\n",
    "            # get elem from the other ind\n",
    "            idx_of_elem = np.nonzero(ind1[start:end] == ind1[i])[0][0]\n",
    "            ind1[i] = ind2[start+idx_of_elem]\n",
    "        \n",
    "        while ind2[i] in ind2[start:end]:\n",
    "            # get elem from the other ind\n",
    "            idx_of_elem = np.nonzero(ind2[start:end] == ind2[i])[0][0]\n",
    "            ind2[i] = ind1[start+idx_of_elem]\n",
    "\n",
    "    return ind1, ind2"
   ]
  },
  {
   "cell_type": "code",
   "execution_count": 5,
   "metadata": {},
   "outputs": [],
   "source": [
    "def reverse_sequence_mutation(p, *args):\n",
    "    a = np.random.choice(len(p), 2, False)\n",
    "    i, j = a.min(), a.max()\n",
    "    q = p.copy()\n",
    "    q[i:j+1] = q[i:j+1][::-1]\n",
    "    return q"
   ]
  },
  {
   "cell_type": "code",
   "execution_count": 6,
   "metadata": {},
   "outputs": [],
   "source": [
    "def tsp_objective_function(p, dist):\n",
    "    s = 0.0\n",
    "    for i in range(n):\n",
    "        s += dist[p[i-1], p[i]]\n",
    "    return s"
   ]
  },
  {
   "cell_type": "code",
   "execution_count": 7,
   "metadata": {},
   "outputs": [],
   "source": [
    "n = 200\n",
    "\n",
    "data = open('data/kroA200.tsp').read()\n",
    "coords = []\n",
    "for row in data.split('\\n')[6:]:\n",
    "    coords.extend(row.split()[1:])\n",
    "coords = np.array(list(map(int, coords)))\n",
    "coords = coords.reshape(n, 2)\n",
    "\n",
    "dists = np.empty((n, n))\n",
    "for i in range(n):\n",
    "    for j in range(n):\n",
    "        dists[i, j] = np.sqrt(((coords[i, :] - coords[j, :])**2).sum())"
   ]
  },
  {
   "cell_type": "code",
   "execution_count": 8,
   "metadata": {},
   "outputs": [],
   "source": [
    "N = 5\n",
    "number_of_iterations = 250"
   ]
  },
  {
   "cell_type": "code",
   "execution_count": 9,
   "metadata": {},
   "outputs": [
    {
     "name": "stderr",
     "output_type": "stream",
     "text": [
      "100%|██████████| 5/5 [11:27<00:00, 137.50s/it]\n"
     ]
    }
   ],
   "source": [
    "ox_mean_costs = np.zeros((N, number_of_iterations))\n",
    "\n",
    "for i in trange(N, position=0, leave=True):\n",
    "    sga = SGA(population_size=500, chromosome_length=n, crossover_func=OX, \n",
    "              objective_func=tsp_objective_function,distance_matrix=dists, \n",
    "              mutation_func=reverse_sequence_mutation, replace_method='mu+lambda',\n",
    "              number_of_offspring=500, crossover_probability=0.95, mutation_probability=0.25, \n",
    "              number_of_iterations=number_of_iterations)\n",
    "\n",
    "    sga.run()\n",
    "    ox_mean_costs[i] = sga.mean_costs"
   ]
  },
  {
   "cell_type": "code",
   "execution_count": 14,
   "metadata": {},
   "outputs": [
    {
     "name": "stderr",
     "output_type": "stream",
     "text": [
      "100%|██████████| 5/5 [10:30<00:00, 126.17s/it]\n"
     ]
    }
   ],
   "source": [
    "lox_mean_costs = np.zeros((N, number_of_iterations))\n",
    "\n",
    "for i in trange(N, position=0, leave=True):\n",
    "    sga = SGA(population_size=500, chromosome_length=n, crossover_func=LOX, \n",
    "              objective_func=tsp_objective_function,distance_matrix=dists, \n",
    "              mutation_func=reverse_sequence_mutation, replace_method='mu+lambda',\n",
    "              number_of_offspring=500, crossover_probability=0.95, mutation_probability=0.25, \n",
    "              number_of_iterations=number_of_iterations)\n",
    "\n",
    "    sga.run()\n",
    "    lox_mean_costs[i] = sga.mean_costs"
   ]
  },
  {
   "cell_type": "code",
   "execution_count": 15,
   "metadata": {},
   "outputs": [
    {
     "name": "stderr",
     "output_type": "stream",
     "text": [
      "100%|██████████| 5/5 [08:49<00:00, 105.92s/it]\n"
     ]
    }
   ],
   "source": [
    "pmx_mean_costs = np.zeros((N, number_of_iterations))\n",
    "\n",
    "for i in trange(N, position=0, leave=True):\n",
    "    sga = SGA(population_size=500, chromosome_length=n, crossover_func=PMX, \n",
    "              objective_func=tsp_objective_function,distance_matrix=dists, \n",
    "              mutation_func=reverse_sequence_mutation, replace_method='mu+lambda',\n",
    "              number_of_offspring=500, crossover_probability=0.95, mutation_probability=0.25, \n",
    "              number_of_iterations=250)\n",
    "\n",
    "    sga.run()\n",
    "    pmx_mean_costs[i] = sga.mean_costs"
   ]
  },
  {
   "cell_type": "code",
   "execution_count": 17,
   "metadata": {},
   "outputs": [
    {
     "name": "stdout",
     "output_type": "stream",
     "text": [
      "Best of:\n",
      "\tOX:\t78365.0, \n",
      "\tPMX:\t71949.0\n",
      "\tLOX:\t100705.0\n"
     ]
    },
    {
     "data": {
      "image/png": "[encoded data removed]",
      "text/plain": [
       "<Figure size 432x288 with 1 Axes>"
      ]
     },
     "metadata": {
      "needs_background": "light"
     },
     "output_type": "display_data"
    }
   ],
   "source": [
    "print(f'Best of:\\n\\tOX:\\t{round(ox_mean_costs.min())}, \\n\\tPMX:\\t{round(pmx_mean_costs.min())}\\n\\tLOX:\\t{round(lox_mean_costs.min())}')\n",
    "\n",
    "plt.title('Comparasion')\n",
    "plt.plot(ox_mean_costs.mean(axis=0), label='OX')\n",
    "plt.plot(pmx_mean_costs.mean(axis=0), label='PMX')\n",
    "plt.plot(lox_mean_costs.mean(axis=0), label='LOX')\n",
    "plt.legend()\n",
    "plt.show()"
   ]
  },
  {
   "cell_type": "code",
   "execution_count": null,
   "metadata": {},
   "outputs": [],
   "source": []
  }
 ],
 "metadata": {
  "kernelspec": {
   "display_name": "Python 3",
   "language": "python",
   "name": "python3"
  },
  "language_info": {
   "codemirror_mode": {
    "name": "ipython",
    "version": 3
   },
   "file_extension": ".py",
   "mimetype": "text/x-python",
   "name": "python",
   "nbconvert_exporter": "python",
   "pygments_lexer": "ipython3",
   "version": "3.7.3"
  }
 },
 "nbformat": 4,
 "nbformat_minor": 4
}
