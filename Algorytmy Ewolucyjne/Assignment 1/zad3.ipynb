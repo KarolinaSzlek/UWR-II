{
 "cells": [
  {
   "cell_type": "markdown",
   "metadata": {},
   "source": [
    "### Zadanie 3.\n",
    "Zastosuj algorytm PBIL do rozwiązywania uproszczonego problemu klasyfikacji wielospektralnych obrazów satelitarnych w następujący sposób:\n",
    "- Dany jest obraz wielospektralny o 3 spektrach i rozmiarze 106 x 148 punktów (zapisany w formacie BSQ, pliki ImageRaw.bsq i ImageRaw.hdr). Każdy punkt obrazu można przedstawić jako wektor rozmiaru 3 x 1, a więc cały obraz można przedstawić jako macierz rozmiaru 3 x 15688 (zapisana w pliku ImageRaw.txt). Dana jest wzorcowa klasyfikacja tego obrazu - jest to bitmapa o 11 kolorach i rozmiarze 106 x 148 punktów (zapisana w pliku ImageExpert.bmp). Można przedstawić ją jako wektor rozmiaru 1 x 15688 o wartościach ze zbioru {1, 2, ..., 11} (zapisany w pliku ImageExpert.txt).\n",
    "- Interesują nas tylko 3 klasy punktów (klasa nr 3, 7 i 9), pozostałe punkty więc usuwamy z danych, otrzymując macierz X rozmiaru 3 x 9350 (punkty obrazu wielospektralnego) oraz wektor C rozmiaru 1 x 9350 o wartościach ze zbioru {1, 2, 3} (wzorcowa klasyfikacja). Dane te zapisane są odpowiednio w plikach ImageRawReduced.txt i ImageExpertReduced.txt.\n",
    "  \n",
    "- Dostępnych jest 266 utworzonych wcześniej reguł klasyfikujących. Każda reguła to określona funkcja, która na wejściu dostaje punkt obrazu (wektor rozmiaru 3 x 1), a na wyjściu zwraca etykietę klasy (liczbę ze zbioru {1, 2, 3}). Dla wygody dostępne są już policzone wartości każdej reguły klasyfikującej dla każdego punktu obrazu, a nie same definicje tych reguł (plik ClassificationRules.txt).\n",
    "- Klasyfikacja oparta na pojedynczej regule klasyfikującej nie daje dobrych wyników, podobnie jak i klasyfikacja oparta na wszystkich 266 regułach klasyfikujących (\"większością głosów”). Dobre wyniki natomiast uzyskuje się, jeśli najpierw wybierze się pewien podzbiór zbioru wszystkich reguł klasyfikujących, a później opiera się decyzję na \"większości głosów” reguł z tego podzbioru.\n",
    "- Do wyznaczenia takiego podzbioru użyj algorytmu PBIL. Przestrzenią poszukiwań będzie zbiór wszystkich wektorów binarnych długości d = 266 (kolejne pozycje odpowiadają kolejnym regułom klasyfikującym: 1 oznacza włączenie, a 0 nie włączanie danej reguły do konstruowanego zbioru). Funkcją celu będzie liczba poprawnie poklasyfikowanych punktów obrazu przez klasyfikator oparty na danym podzbiorze reguł klasyfikujących."
   ]
  },
  {
   "cell_type": "code",
   "execution_count": 1,
   "metadata": {},
   "outputs": [],
   "source": [
    "import numpy as np\n",
    "import pandas as pd\n",
    "from tqdm import tqdm, trange\n",
    "import scipy.stats as sstats\n",
    "\n",
    "from PBIL import PBIL"
   ]
  },
  {
   "cell_type": "code",
   "execution_count": 2,
   "metadata": {},
   "outputs": [],
   "source": [
    "# X = open('data/ImageRawReduced.txt').read().split()\n",
    "# X = np.array(X).reshape(3, 9350)\n",
    "\n",
    "Y = open('data/ImageExpertReduced.txt').read().split()\n",
    "Y = np.array(Y).astype(float).astype(int)"
   ]
  },
  {
   "cell_type": "code",
   "execution_count": 3,
   "metadata": {},
   "outputs": [],
   "source": [
    "rules = open('data/ClassificationRules.txt').read().split()\n",
    "rules = np.array(rules).reshape(266, -1) # i-th column contains prediction for each rule\n",
    "rules = rules.astype(float).astype(int)"
   ]
  },
  {
   "cell_type": "code",
   "execution_count": 4,
   "metadata": {},
   "outputs": [
    {
     "data": {
      "text/plain": [
       "array([1, 1, 1, ..., 1, 1, 3])"
      ]
     },
     "execution_count": 4,
     "metadata": {},
     "output_type": "execute_result"
    }
   ],
   "source": [
    "tmp = [0]\n",
    "sstats.mode(rules[tmp], axis=0)[0].ravel()"
   ]
  },
  {
   "cell_type": "code",
   "execution_count": 110,
   "metadata": {},
   "outputs": [],
   "source": [
    "def eval_func(population):\n",
    "#     res = np.zeros(len(population))\n",
    "#     preds = np.zeros((len(population), len(Y)))\n",
    "    \n",
    "#     print(preds.shape)\n",
    "    \n",
    "#     preds = np.array([sstats.mode(rules[individual], axis=0)[0][0] \n",
    "#                       for individual in population])\n",
    "    np.dot(population, rules)\n",
    "    \n",
    "#     for i, individual in enumerate(population):\n",
    "#         tmp_rules = rules[individual]\n",
    "\n",
    "#         preds[i,:] = sstats.mode(tmp_rules, axis=0)[0].ravel()\n",
    "\n",
    "    return np.count_nonzero(preds == Y, axis=1) / len(Y)"
   ]
  },
  {
   "cell_type": "code",
   "execution_count": 111,
   "metadata": {},
   "outputs": [
    {
     "data": {
      "text/plain": [
       "array([1, 2])"
      ]
     },
     "execution_count": 111,
     "metadata": {},
     "output_type": "execute_result"
    }
   ],
   "source": [
    "a = np.array([[1, 2, 4, 7, 5],\n",
    "             [0, 0, 0, 2, 4]])\n",
    "np.count_nonzero(a == np.array([1, 0, 0, 0, 0]), axis=1)"
   ]
  },
  {
   "cell_type": "code",
   "execution_count": 112,
   "metadata": {},
   "outputs": [],
   "source": [
    "pbil = PBIL(population_size=100, learning_rate=0.01, mutation_prob=0.1, \n",
    "            disturbance_rate=0.01, allele_no=266, max_iter=4, eval_func=eval_func)"
   ]
  },
  {
   "cell_type": "code",
   "execution_count": 113,
   "metadata": {},
   "outputs": [
    {
     "name": "stderr",
     "output_type": "stream",
     "text": [
      "epoch: 100%|██████████| 4/4 [01:40<00:00, 25.23s/it]\n"
     ]
    }
   ],
   "source": [
    "pbil.fit()"
   ]
  },
  {
   "cell_type": "code",
   "execution_count": 92,
   "metadata": {},
   "outputs": [
    {
     "data": {
      "text/plain": [
       "0.7038502673796792"
      ]
     },
     "execution_count": 92,
     "metadata": {},
     "output_type": "execute_result"
    }
   ],
   "source": [
    "np.max(pbil.best_evals)"
   ]
  },
  {
   "cell_type": "code",
   "execution_count": 93,
   "metadata": {},
   "outputs": [
    {
     "data": {
      "image/png": "[encoded data removed]",
      "text/plain": [
       "<Figure size 432x288 with 1 Axes>"
      ]
     },
     "metadata": {
      "needs_background": "light"
     },
     "output_type": "display_data"
    }
   ],
   "source": [
    "pbil.plot_evals()"
   ]
  },
  {
   "cell_type": "code",
   "execution_count": 117,
   "metadata": {},
   "outputs": [],
   "source": [
    "pop = pbil._random_population()"
   ]
  },
  {
   "cell_type": "code",
   "execution_count": 122,
   "metadata": {},
   "outputs": [
    {
     "data": {
      "text/plain": [
       "((266,), (266, 9350), (9350,))"
      ]
     },
     "execution_count": 122,
     "metadata": {},
     "output_type": "execute_result"
    }
   ],
   "source": [
    "pop[0].shape, rules.shape, pop[0].dot(rules).shape"
   ]
  },
  {
   "cell_type": "code",
   "execution_count": 153,
   "metadata": {},
   "outputs": [
    {
     "name": "stdout",
     "output_type": "stream",
     "text": [
      "CPU times: user 537 ms, sys: 3.92 ms, total: 541 ms\n",
      "Wall time: 549 ms\n"
     ]
    },
    {
     "data": {
      "text/plain": [
       "array([[236, 248, 224, ..., 361, 366, 403],\n",
       "       [241, 266, 227, ..., 357, 359, 398],\n",
       "       [228, 247, 217, ..., 336, 343, 377],\n",
       "       ...,\n",
       "       [220, 239, 209, ..., 336, 342, 375],\n",
       "       [230, 249, 228, ..., 332, 347, 377],\n",
       "       [216, 237, 217, ..., 330, 341, 373]])"
      ]
     },
     "execution_count": 153,
     "metadata": {},
     "output_type": "execute_result"
    }
   ],
   "source": [
    "%%time\n",
    "pop.dot(rules)\n",
    "# for p in pop:\n",
    "#     sstats.mode(rules[p], axis=0)[0][0]"
   ]
  },
  {
   "cell_type": "code",
   "execution_count": null,
   "metadata": {},
   "outputs": [],
   "source": []
  }
 ],
 "metadata": {
  "kernelspec": {
   "display_name": "Python 3",
   "language": "python",
   "name": "python3"
  },
  "language_info": {
   "codemirror_mode": {
    "name": "ipython",
    "version": 3
   },
   "file_extension": ".py",
   "mimetype": "text/x-python",
   "name": "python",
   "nbconvert_exporter": "python",
   "pygments_lexer": "ipython3",
   "version": "3.7.3"
  }
 },
 "nbformat": 4,
 "nbformat_minor": 4
}
