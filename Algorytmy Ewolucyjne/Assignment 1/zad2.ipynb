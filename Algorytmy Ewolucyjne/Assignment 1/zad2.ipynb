{
 "cells": [
  {
   "cell_type": "markdown",
   "metadata": {},
   "source": [
    "## Zadanie 2.\n",
    "a) Zaimplementuj algorytm PBIL.\n",
    "\n",
    "b) Sprawdź jego działanie na kilku prostych testowych problemach optymalizacji (OneMax, Deceptive OneMax, K-Deceptive OneMax). Eksperymenty obliczeniowe wykonaj dla różnych wielkości problemu i różnych ustawień algorytmu. Dokładnie przeanalizuj wyniki."
   ]
  },
  {
   "cell_type": "code",
   "execution_count": 1,
   "metadata": {},
   "outputs": [],
   "source": [
    "import numpy as np\n",
    "import pandas as pd"
   ]
  },
  {
   "cell_type": "code",
   "execution_count": 2,
   "metadata": {},
   "outputs": [],
   "source": [
    "class PBIL:\n",
    "    \n",
    "    def __init__(self, goal, population_size, learning_rate, \n",
    "                 mutation_prob, disturbance_rate, allele_no, max_iter=500):\n",
    "        self.goal = goal\n",
    "        self.population_size = population_size\n",
    "        self.learning_rate = learning_rate\n",
    "        self.mutation_prob = mutation_prob\n",
    "        self.disturbance_rate = disturbance_rate\n",
    "        self.prob_vect = np.full(allele_no, 0.5)\n",
    "        self.max_iter = max_iter\n",
    "        \n",
    "    def __binary_random(self, p):\n",
    "        if np.random.rand() < p:\n",
    "            return 1\n",
    "        else:\n",
    "            return 0\n",
    "    \n",
    "    def __random_individual(self, p):\n",
    "        return np.array([self.__binary_random(pk) for pk in p])\n",
    "    \n",
    "    def __random_population(self):\n",
    "        return np.array([self.__random_individual(self.prob_vect) \n",
    "                         for _ in range(self.population_size)])\n",
    "    \n",
    "    def __eval(self, population):\n",
    "        return np.array([np.count_nonzero(individual == self.goal) \n",
    "                         for individual in population])\n",
    "    \n",
    "    def fit(self):\n",
    "        population = self.__random_population()\n",
    "        evals = self.__eval(population)\n",
    "        \n",
    "        for epoch in range(max_iter):\n",
    "            best = population[evals.argmax()]\n",
    "            \n",
    "            self.prob_vect = self.prob_vect * (1 - self.learning_rate) + \\\n",
    "                            best * self.learning_rate\n",
    "            self.prob_vect = self.prob_vect * (1 - self.disturbance_rate) + \\\n",
    "                            self.__binary_random(0.5) * self.disturbance_rate\n",
    "            \n",
    "            population = self.__random_population()\n",
    "            evals = self.__eval(population)"
   ]
  },
  {
   "cell_type": "code",
   "execution_count": null,
   "metadata": {},
   "outputs": [],
   "source": [
    "allele_no = 50\n",
    "onemax = np.ones(allele_no)\n",
    "d_onemax = np.ones(allele_no)\n",
    "idx = np.random.randint(allele_no)\n",
    "d_onemax[idx] -= 1\n"
   ]
  }
 ],
 "metadata": {
  "kernelspec": {
   "display_name": "Python 3",
   "language": "python",
   "name": "python3"
  },
  "language_info": {
   "codemirror_mode": {
    "name": "ipython",
    "version": 3
   },
   "file_extension": ".py",
   "mimetype": "text/x-python",
   "name": "python",
   "nbconvert_exporter": "python",
   "pygments_lexer": "ipython3",
   "version": "3.7.3"
  }
 },
 "nbformat": 4,
 "nbformat_minor": 4
}
