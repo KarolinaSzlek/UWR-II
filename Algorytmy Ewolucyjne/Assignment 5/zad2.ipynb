{
 "cells": [
  {
   "cell_type": "code",
   "execution_count": null,
   "metadata": {},
   "outputs": [],
   "source": []
  },
  {
   "cell_type": "markdown",
   "metadata": {},
   "source": [
    "## Zadanie 2. (4 punktów)\n",
    "Zaimplementuj algorytm MIMIC, przedstawiony w ogólnym zarysie na wykładzie, a dokładnie opisany w artykule \"MIMIC: Finding Optima by Estimating Probability Densities\" (link do artykułu na stronie wykładu). Przeanalizuj działanie algorytmu na wybranych benchmarkach (w tym na problemie KDeceptiveOneMax) i otrzymane wyniki."
   ]
  },
  {
   "cell_type": "code",
   "execution_count": null,
   "metadata": {},
   "outputs": [],
   "source": []
  }
 ],
 "metadata": {
  "kernelspec": {
   "display_name": "Python 3",
   "language": "python",
   "name": "python3"
  },
  "language_info": {
   "codemirror_mode": {
    "name": "ipython",
    "version": 3
   },
   "file_extension": ".py",
   "mimetype": "text/x-python",
   "name": "python",
   "nbconvert_exporter": "python",
   "pygments_lexer": "ipython3",
   "version": "3.7.3"
  }
 },
 "nbformat": 4,
 "nbformat_minor": 4
}
