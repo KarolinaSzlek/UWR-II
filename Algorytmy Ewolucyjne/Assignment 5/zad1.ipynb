{
 "cells": [
  {
   "cell_type": "code",
   "execution_count": 1,
   "metadata": {},
   "outputs": [],
   "source": [
    "from PBIL import PBIL\n",
    "from SGA import SGA\n",
    "from UMDA import UMDA"
   ]
  },
  {
   "cell_type": "markdown",
   "metadata": {},
   "source": [
    "## Zadanie 1. (4 punkty)\n",
    "Zaimplementuj algorytm UMDA i porównaj jego działanie z działaniem algorytmów PBIL I CGA na wybranych benchmarkach (m.in. OneMax i DeceptiveOneMax)."
   ]
  },
  {
   "cell_type": "code",
   "execution_count": 2,
   "metadata": {},
   "outputs": [],
   "source": [
    "def onemax(population):\n",
    "    return population.sum(axis=1)"
   ]
  },
  {
   "cell_type": "code",
   "execution_count": 3,
   "metadata": {},
   "outputs": [],
   "source": [
    "def deceptive(population):\n",
    "    f = population.sum(axis=1)\n",
    "    f[f==0] = population.shape[1]+1\n",
    "    return f"
   ]
  },
  {
   "cell_type": "code",
   "execution_count": 19,
   "metadata": {},
   "outputs": [],
   "source": [
    "def test(d):\n",
    "    print('Compare onemax:')\n",
    "    pbil = PBIL(population_size=100, learning_rate=0.1, mutation_prob=0.1, \n",
    "                disturbance_rate=0.01, allele_no=d, eval_func=onemax, max_iter=100,\n",
    "               with_tqdm=False)\n",
    "    pbil.fit()\n",
    "    print(f'- PBIL: {pbil.best_evals.max()}')\n",
    "    \n",
    "    print('- UMDA:')\n",
    "    for ns in [10, 50, 100, 200]:\n",
    "        umda = UMDA(N=1000, d=d, no_sample=ns, F=onemax, max_iters=100)\n",
    "        umda.run(with_tqdm=False)\n",
    "        print(f'\\t- {ns} samples: {umda.max_evals.max()}')\n",
    "    \n",
    "    print('Compare deceptive')\n",
    "    pbil = PBIL(population_size=100, learning_rate=0.1, mutation_prob=0.1, \n",
    "                disturbance_rate=0.01, allele_no=d, eval_func=deceptive, max_iter=100,\n",
    "               with_tqdm=False)\n",
    "    pbil.fit()\n",
    "    print(f'- PBIL: {pbil.best_evals.max()}')\n",
    "    \n",
    "    print('- UMDA:')\n",
    "    for ns in [10, 50, 100, 200]:\n",
    "        umda = UMDA(N=5000, d=d, no_sample=ns, F=deceptive, max_iters=100)\n",
    "        umda.run(with_tqdm=False)\n",
    "        print(f'\\t- {ns} samples: {umda.max_evals.max()}')"
   ]
  },
  {
   "cell_type": "code",
   "execution_count": 20,
   "metadata": {},
   "outputs": [
    {
     "name": "stdout",
     "output_type": "stream",
     "text": [
      "Compare onemax:\n",
      "- PBIL: 10.0\n",
      "- UMDA:\n",
      "\t- 10 samples: 10.0\n",
      "\t- 50 samples: 10.0\n",
      "\t- 100 samples: 10.0\n",
      "\t- 200 samples: 10.0\n",
      "Compare deceptive\n",
      "- PBIL: 11.0\n",
      "- UMDA:\n",
      "\t- 10 samples: 11.0\n",
      "\t- 50 samples: 10.0\n",
      "\t- 100 samples: 10.0\n",
      "\t- 200 samples: 10.0\n"
     ]
    }
   ],
   "source": [
    "test(10)"
   ]
  },
  {
   "cell_type": "code",
   "execution_count": 21,
   "metadata": {},
   "outputs": [
    {
     "name": "stdout",
     "output_type": "stream",
     "text": [
      "Compare onemax:\n",
      "- PBIL: 100.0\n",
      "- UMDA:\n",
      "\t- 10 samples: 100.0\n",
      "\t- 50 samples: 100.0\n",
      "\t- 100 samples: 100.0\n",
      "\t- 200 samples: 100.0\n",
      "Compare deceptive\n",
      "- PBIL: 100.0\n",
      "- UMDA:\n",
      "\t- 10 samples: 100.0\n",
      "\t- 50 samples: 100.0\n",
      "\t- 100 samples: 100.0\n",
      "\t- 200 samples: 100.0\n"
     ]
    }
   ],
   "source": [
    "test(100)"
   ]
  },
  {
   "cell_type": "code",
   "execution_count": 22,
   "metadata": {},
   "outputs": [
    {
     "name": "stdout",
     "output_type": "stream",
     "text": [
      "Compare onemax:\n",
      "- PBIL: 810.0\n",
      "- UMDA:\n",
      "\t- 10 samples: 924.0\n",
      "\t- 50 samples: 1000.0\n",
      "\t- 100 samples: 1000.0\n",
      "\t- 200 samples: 1000.0\n",
      "Compare deceptive\n",
      "- PBIL: 804.0\n",
      "- UMDA:\n",
      "\t- 10 samples: 940.0\n",
      "\t- 50 samples: 1000.0\n",
      "\t- 100 samples: 1000.0\n",
      "\t- 200 samples: 1000.0\n"
     ]
    }
   ],
   "source": [
    "test(1000)"
   ]
  },
  {
   "cell_type": "code",
   "execution_count": null,
   "metadata": {},
   "outputs": [],
   "source": []
  }
 ],
 "metadata": {
  "kernelspec": {
   "display_name": "Python 3",
   "language": "python",
   "name": "python3"
  },
  "language_info": {
   "codemirror_mode": {
    "name": "ipython",
    "version": 3
   },
   "file_extension": ".py",
   "mimetype": "text/x-python",
   "name": "python",
   "nbconvert_exporter": "python",
   "pygments_lexer": "ipython3",
   "version": "3.7.3"
  }
 },
 "nbformat": 4,
 "nbformat_minor": 4
}
