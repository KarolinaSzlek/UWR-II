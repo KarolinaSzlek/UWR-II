{
 "cells": [
  {
   "cell_type": "code",
   "execution_count": 1,
   "metadata": {},
   "outputs": [],
   "source": [
    "import numpy as np\n",
    "from ES import ES"
   ]
  },
  {
   "cell_type": "markdown",
   "metadata": {},
   "source": [
    "# Zadanie 1.\n",
    "a) Zaimplementuj omawiane na wykładzie strategie ewolucyjne ES(μ + λ) i ES(μ, λ).\n",
    "Wskazówka: Algorytmy można zaimplementować w dowolnym języku programowania, ale ze względu na wygodę i wydajność obliczeń (głównie związanych z operacjami wektorowo-macierzowymi i losowaniem danych z rozkładu normalnego) radziłbym używać środowisk dedykowanych do obliczeń wektorowo- macierzowych, m.in. Matlab, Octave lub Python z biblioteką Numpy.\n",
    "\n",
    "b) Zapoznaj się z popularnymi benchmarkami dla optymalizacji globalnej (http://www-optima.amp.i.kyoto-u.ac.jp/member/student/hedar/Hedar_files/TestGO.htm), zarówno problemami optymalizacji bez ograniczeń jak i z ograniczeniami. Wybierz 5 benchmarków bez ograniczeń i użyj zaimplementowanych algorytmów do ich rozwiązywania (wśród wybranych benchmarków powinna znaleźć się co najmniej jedna z następujących funkcji: Griewank Function, Rastrigin Function, Schwefel Function). Dokładnie przeanalizuj działanie algorytmu i otrzymane wyniki. Sprawdź różne ustawienia algorytmu."
   ]
  },
  {
   "cell_type": "markdown",
   "metadata": {},
   "source": [
    "#### Used benchmarks:\n",
    "- Sum squares\n",
    "- Beale function\n",
    "- Rosenbrock function\n",
    "- Rastrigin function\n",
    "- Griewank function"
   ]
  },
  {
   "cell_type": "markdown",
   "metadata": {},
   "source": [
    "### Sum squares function\n",
    "##### $f(x) = \\sum_{i=1}^n{ix_i^2}$"
   ]
  },
  {
   "cell_type": "code",
   "execution_count": 2,
   "metadata": {},
   "outputs": [],
   "source": [
    "def sum_squares(population):\n",
    "    return np.array(list(map(lambda ind: ind[0]**2 * np.arange(1, len(ind[0])+1), \n",
    "                             population))).sum(axis=1)"
   ]
  },
  {
   "cell_type": "code",
   "execution_count": 3,
   "metadata": {},
   "outputs": [],
   "source": [
    "dims = 3\n",
    "\n",
    "lr = 0.1\n",
    "tau0, tau = lr/np.sqrt(2 * np.sqrt(dims)), lr/np.sqrt(2*dims)"
   ]
  },
  {
   "cell_type": "code",
   "execution_count": 4,
   "metadata": {},
   "outputs": [
    {
     "name": "stdout",
     "output_type": "stream",
     "text": [
      "iter: 0, min: 1.3273,\tmean: 135.5529,\tmax: 244.9116\n",
      "iter: 50, min: 0.0438,\tmean: 0.8838,\tmax: 1.4160\n",
      "iter: 100, min: 0.0204,\tmean: 0.5829,\tmax: 0.9240\n",
      "iter: 150, min: 0.0204,\tmean: 0.4709,\tmax: 0.7318\n",
      "iter: 200, min: 0.0179,\tmean: 0.4012,\tmax: 0.6303\n",
      "iter: 250, min: 0.0127,\tmean: 0.3479,\tmax: 0.5484\n",
      "iter: 300, min: 0.0127,\tmean: 0.3133,\tmax: 0.4952\n",
      "iter: 350, min: 0.0067,\tmean: 0.2830,\tmax: 0.4508\n",
      "iter: 400, min: 0.0067,\tmean: 0.2588,\tmax: 0.4136\n",
      "iter: 450, min: 0.0067,\tmean: 0.2418,\tmax: 0.3823\n",
      "iter: 500, min: 0.0067,\tmean: 0.2263,\tmax: 0.3568\n",
      "iter: 550, min: 0.0067,\tmean: 0.2146,\tmax: 0.3393\n",
      "iter: 600, min: 0.0067,\tmean: 0.2016,\tmax: 0.3190\n",
      "iter: 650, min: 0.0067,\tmean: 0.1919,\tmax: 0.3006\n",
      "iter: 700, min: 0.0041,\tmean: 0.1848,\tmax: 0.2885\n",
      "iter: 750, min: 0.0041,\tmean: 0.1794,\tmax: 0.2780\n",
      "iter: 800, min: 0.0041,\tmean: 0.1738,\tmax: 0.2698\n",
      "iter: 850, min: 0.0041,\tmean: 0.1677,\tmax: 0.2612\n",
      "iter: 900, min: 0.0041,\tmean: 0.1628,\tmax: 0.2534\n",
      "iter: 950, min: 0.0041,\tmean: 0.1579,\tmax: 0.2480\n"
     ]
    },
    {
     "data": {
      "text/plain": [
       "(array([[-0.00337063,  0.00741049,  0.0361989 ],\n",
       "        [ 0.94683764,  1.62142016,  1.74908351]]), 0.004052273401970602)"
      ]
     },
     "execution_count": 4,
     "metadata": {},
     "output_type": "execute_result"
    }
   ],
   "source": [
    "es = ES(domain=(-10, 10), dims=3, population_size=1000, offspring_size=500, \n",
    "        parent_choice_method='random', replacement_method='mulambda', tau=tau, \n",
    "        tau0=tau0, cost_func=sum_squares, max_iters=1000)\n",
    "\n",
    "es.run(verbose=True, with_tqdm=False)"
   ]
  },
  {
   "cell_type": "code",
   "execution_count": 5,
   "metadata": {},
   "outputs": [
    {
     "name": "stdout",
     "output_type": "stream",
     "text": [
      "iter: 0, min: 4.6504,\tmean: 152.4737,\tmax: 264.9549\n",
      "iter: 50, min: 0.0113,\tmean: 1.0758,\tmax: 1.7198\n",
      "iter: 100, min: 0.0113,\tmean: 0.5790,\tmax: 0.9312\n",
      "iter: 150, min: 0.0113,\tmean: 0.4314,\tmax: 0.7040\n",
      "iter: 200, min: 0.0113,\tmean: 0.3497,\tmax: 0.5677\n",
      "iter: 250, min: 0.0113,\tmean: 0.3006,\tmax: 0.4781\n",
      "iter: 300, min: 0.0050,\tmean: 0.2642,\tmax: 0.4164\n",
      "iter: 350, min: 0.0014,\tmean: 0.2389,\tmax: 0.3785\n",
      "iter: 400, min: 0.0014,\tmean: 0.2190,\tmax: 0.3473\n",
      "iter: 450, min: 0.0014,\tmean: 0.2030,\tmax: 0.3240\n",
      "iter: 500, min: 0.0014,\tmean: 0.1956,\tmax: 0.3137\n",
      "iter: 550, min: 0.0014,\tmean: 0.1867,\tmax: 0.2968\n",
      "iter: 600, min: 0.0014,\tmean: 0.1786,\tmax: 0.2830\n",
      "iter: 650, min: 0.0014,\tmean: 0.1722,\tmax: 0.2736\n",
      "iter: 700, min: 0.0014,\tmean: 0.1661,\tmax: 0.2627\n",
      "iter: 750, min: 0.0014,\tmean: 0.1602,\tmax: 0.2552\n",
      "iter: 800, min: 0.0014,\tmean: 0.1547,\tmax: 0.2437\n",
      "iter: 850, min: 0.0014,\tmean: 0.1501,\tmax: 0.2348\n",
      "iter: 900, min: 0.0014,\tmean: 0.1467,\tmax: 0.2290\n",
      "iter: 950, min: 0.0014,\tmean: 0.1437,\tmax: 0.2228\n"
     ]
    },
    {
     "data": {
      "text/plain": [
       "(array([[-0.01822478,  0.0200264 , -0.0101974 ],\n",
       "        [ 1.4697304 ,  0.80421091,  0.94107027]]), 0.0014462167183425063)"
      ]
     },
     "execution_count": 5,
     "metadata": {},
     "output_type": "execute_result"
    }
   ],
   "source": [
    "es = ES(domain=(-10, 10), dims=3, population_size=1000, offspring_size=500, \n",
    "        parent_choice_method='roulette', replacement_method='mulambda', tau=tau, \n",
    "        tau0=tau0, cost_func=sum_squares, max_iters=1000)\n",
    "\n",
    "es.run(verbose=True, with_tqdm=False)"
   ]
  },
  {
   "cell_type": "markdown",
   "metadata": {},
   "source": [
    "#### optimum = 0 at (0, ..., 0)"
   ]
  },
  {
   "cell_type": "markdown",
   "metadata": {},
   "source": [
    "### Beale Function\n",
    "##### $f(x) = (1.5 - x_1 + x_1*x_2)^2 + (2.25 - x_1 + x_1*x_2^2)^2 + (2.625 - x_1 + x_1*x_2^3)^2$"
   ]
  },
  {
   "cell_type": "code",
   "execution_count": 6,
   "metadata": {},
   "outputs": [],
   "source": [
    "def beale(population):\n",
    "    return np.array([(1.5 - ind[0][0] + ind[0][0]*ind[0][1])**2 + \\\n",
    "                     (2.25 - ind[0][0] + ind[0][0]*ind[0][1]**2)**2 + \\\n",
    "                     (2.625 - ind[0][0] + ind[0][0]*ind[0][1]**3)**2\n",
    "                     for ind in population])"
   ]
  },
  {
   "cell_type": "code",
   "execution_count": 7,
   "metadata": {},
   "outputs": [],
   "source": [
    "dims = 2\n",
    "\n",
    "lr = 0.01\n",
    "tau0, tau = lr/np.sqrt(2 * np.sqrt(dims)), lr/np.sqrt(2*dims)"
   ]
  },
  {
   "cell_type": "code",
   "execution_count": 8,
   "metadata": {},
   "outputs": [
    {
     "name": "stdout",
     "output_type": "stream",
     "text": [
      "iter: 0, min: 0.0467,\tmean: 2403.4320,\tmax: 14648.3022\n",
      "iter: 50, min: 0.0000,\tmean: 0.0447,\tmax: 0.0879\n",
      "iter: 100, min: 0.0000,\tmean: 0.0220,\tmax: 0.0411\n",
      "iter: 150, min: 0.0000,\tmean: 0.0161,\tmax: 0.0292\n",
      "iter: 200, min: 0.0000,\tmean: 0.0127,\tmax: 0.0228\n",
      "iter: 250, min: 0.0000,\tmean: 0.0103,\tmax: 0.0188\n",
      "iter: 300, min: 0.0000,\tmean: 0.0085,\tmax: 0.0155\n",
      "iter: 350, min: 0.0000,\tmean: 0.0073,\tmax: 0.0134\n",
      "iter: 400, min: 0.0000,\tmean: 0.0064,\tmax: 0.0118\n",
      "iter: 450, min: 0.0000,\tmean: 0.0057,\tmax: 0.0104\n",
      "iter: 500, min: 0.0000,\tmean: 0.0050,\tmax: 0.0093\n",
      "iter: 550, min: 0.0000,\tmean: 0.0045,\tmax: 0.0085\n",
      "iter: 600, min: 0.0000,\tmean: 0.0041,\tmax: 0.0076\n",
      "iter: 650, min: 0.0000,\tmean: 0.0037,\tmax: 0.0069\n",
      "iter: 700, min: 0.0000,\tmean: 0.0034,\tmax: 0.0063\n",
      "iter: 750, min: 0.0000,\tmean: 0.0032,\tmax: 0.0060\n",
      "iter: 800, min: 0.0000,\tmean: 0.0030,\tmax: 0.0055\n",
      "iter: 850, min: 0.0000,\tmean: 0.0028,\tmax: 0.0052\n",
      "iter: 900, min: 0.0000,\tmean: 0.0026,\tmax: 0.0049\n",
      "iter: 950, min: 0.0000,\tmean: 0.0025,\tmax: 0.0046\n"
     ]
    },
    {
     "data": {
      "text/plain": [
       "(array([[2.99929961, 0.50018529],\n",
       "        [1.15011312, 0.6718162 ]]), 3.04997276610045e-06)"
      ]
     },
     "execution_count": 8,
     "metadata": {},
     "output_type": "execute_result"
    }
   ],
   "source": [
    "es = ES(domain=(-4.5, 4.5), dims=dims, population_size=1000, offspring_size=500, \n",
    "        parent_choice_method='roulette', replacement_method='mulambda', tau=tau, \n",
    "        tau0=tau0, cost_func=beale, max_iters=1000)\n",
    "\n",
    "es.run(verbose=True, with_tqdm=False)"
   ]
  },
  {
   "cell_type": "markdown",
   "metadata": {},
   "source": [
    "#### optimum = 0 at (3, 0.5)"
   ]
  },
  {
   "cell_type": "markdown",
   "metadata": {},
   "source": [
    "### Rosenbrock Function\n",
    "##### $f(x) = \\sum_{i=1}^{N-1}[100 * (x_{i}^2 - x_{i+1})^2 + (1 - x_i)^2]$"
   ]
  },
  {
   "cell_type": "code",
   "execution_count": 9,
   "metadata": {},
   "outputs": [],
   "source": [
    "def rosenbrock(population):\n",
    "    return np.array([(100*(ind[:-1]**2 - ind[1:])**2 + (ind[:-1] - 1)**2).sum() \n",
    "                     for ind in population])"
   ]
  },
  {
   "cell_type": "code",
   "execution_count": 10,
   "metadata": {},
   "outputs": [],
   "source": [
    "dims = 2\n",
    "\n",
    "lr = 0.01\n",
    "tau0, tau = lr/np.sqrt(2 * np.sqrt(dims)), lr/np.sqrt(2*dims)\n",
    "\n",
    "es = ES(domain=(-5, 10), dims=dims, population_size=1000, offspring_size=500, \n",
    "        parent_choice_method='roulette', replacement_method='mulambda', tau=tau, \n",
    "        tau0=tau0, cost_func=rosenbrock, max_iters=1000)"
   ]
  },
  {
   "cell_type": "code",
   "execution_count": 11,
   "metadata": {},
   "outputs": [
    {
     "name": "stdout",
     "output_type": "stream",
     "text": [
      "iter: 0, min: 6.2371,\tmean: 184876.6002,\tmax: 616320.2078\n",
      "iter: 50, min: 0.2617,\tmean: 13.4520,\tmax: 21.8248\n",
      "iter: 100, min: 0.0855,\tmean: 8.0558,\tmax: 12.3407\n",
      "iter: 150, min: 0.0810,\tmean: 6.3113,\tmax: 9.4610\n",
      "iter: 200, min: 0.0810,\tmean: 5.2082,\tmax: 7.8175\n",
      "iter: 250, min: 0.0810,\tmean: 4.5080,\tmax: 6.7294\n",
      "iter: 300, min: 0.0810,\tmean: 4.0104,\tmax: 5.8997\n",
      "iter: 350, min: 0.0810,\tmean: 3.6387,\tmax: 5.3225\n",
      "iter: 400, min: 0.0810,\tmean: 3.2859,\tmax: 4.8833\n",
      "iter: 450, min: 0.0810,\tmean: 2.9933,\tmax: 4.5362\n",
      "iter: 500, min: 0.0810,\tmean: 2.7231,\tmax: 4.2022\n",
      "iter: 550, min: 0.0810,\tmean: 2.4945,\tmax: 3.9471\n",
      "iter: 600, min: 0.0810,\tmean: 2.3213,\tmax: 3.7093\n",
      "iter: 650, min: 0.0810,\tmean: 2.1280,\tmax: 3.4717\n",
      "iter: 700, min: 0.0810,\tmean: 1.9037,\tmax: 3.2065\n",
      "iter: 750, min: 0.0810,\tmean: 1.7676,\tmax: 2.9586\n",
      "iter: 800, min: 0.0810,\tmean: 1.6281,\tmax: 2.7300\n",
      "iter: 850, min: 0.0699,\tmean: 1.4987,\tmax: 2.5246\n",
      "iter: 900, min: 0.0699,\tmean: 1.3947,\tmax: 2.3825\n",
      "iter: 950, min: 0.0699,\tmean: 1.2977,\tmax: 2.1925\n"
     ]
    },
    {
     "data": {
      "text/plain": [
       "(array([[0.83269058, 0.79986791],\n",
       "        [0.68915609, 0.64058096]]), 0.06988681668233997)"
      ]
     },
     "execution_count": 11,
     "metadata": {},
     "output_type": "execute_result"
    }
   ],
   "source": [
    "es.run(verbose=True, with_tqdm=False)"
   ]
  },
  {
   "cell_type": "markdown",
   "metadata": {},
   "source": [
    "#### optimum = 0 at (1, ..., 1)"
   ]
  },
  {
   "cell_type": "markdown",
   "metadata": {},
   "source": [
    "### Rastrigin Function\n",
    "##### $f(x) = 10*N + \\sum_{i=1}^N[{x_i^2 - 10*\\cos(2 \\pi * x_i)}]$"
   ]
  },
  {
   "cell_type": "code",
   "execution_count": 12,
   "metadata": {},
   "outputs": [],
   "source": [
    "def rastrigin(population):\n",
    "    dims = population.shape[-1]\n",
    "    return 10*dims + np.array([(ind[0]**2 - 10 * np.cos(2*np.pi * ind[0])).sum() \n",
    "                               for ind in population])"
   ]
  },
  {
   "cell_type": "code",
   "execution_count": 13,
   "metadata": {},
   "outputs": [],
   "source": [
    "dims = 2\n",
    "\n",
    "lr = 0.01\n",
    "tau0, tau = lr/np.sqrt(2 * np.sqrt(dims)), lr/np.sqrt(2*dims)\n",
    "\n",
    "es = ES(domain=(-5.12, 5.12), dims=dims, population_size=1000, offspring_size=500, \n",
    "        parent_choice_method='roulette', replacement_method='mulambda', tau=tau, \n",
    "        tau0=tau0, cost_func=rastrigin, max_iters=1000)"
   ]
  },
  {
   "cell_type": "code",
   "execution_count": 14,
   "metadata": {},
   "outputs": [
    {
     "name": "stdout",
     "output_type": "stream",
     "text": [
      "iter: 0, min: 1.1145,\tmean: 30.2567,\tmax: 44.2262\n",
      "iter: 50, min: 0.0880,\tmean: 4.8230,\tmax: 7.0688\n",
      "iter: 100, min: 0.0824,\tmean: 3.1913,\tmax: 4.8544\n",
      "iter: 150, min: 0.0321,\tmean: 2.3980,\tmax: 3.7212\n",
      "iter: 200, min: 0.0321,\tmean: 2.0426,\tmax: 3.0209\n",
      "iter: 250, min: 0.0321,\tmean: 1.8334,\tmax: 2.6141\n",
      "iter: 300, min: 0.0321,\tmean: 1.6904,\tmax: 2.3941\n",
      "iter: 350, min: 0.0264,\tmean: 1.5810,\tmax: 2.2277\n",
      "iter: 400, min: 0.0264,\tmean: 1.4945,\tmax: 2.1071\n",
      "iter: 450, min: 0.0122,\tmean: 1.4131,\tmax: 2.0194\n",
      "iter: 500, min: 0.0122,\tmean: 1.3461,\tmax: 1.9152\n",
      "iter: 550, min: 0.0122,\tmean: 1.2889,\tmax: 1.8018\n",
      "iter: 600, min: 0.0122,\tmean: 1.2400,\tmax: 1.7010\n",
      "iter: 650, min: 0.0122,\tmean: 1.2046,\tmax: 1.6464\n",
      "iter: 700, min: 0.0122,\tmean: 1.1797,\tmax: 1.6014\n",
      "iter: 750, min: 0.0122,\tmean: 1.1527,\tmax: 1.5550\n",
      "iter: 800, min: 0.0019,\tmean: 1.1203,\tmax: 1.4987\n",
      "iter: 850, min: 0.0019,\tmean: 1.0936,\tmax: 1.4610\n",
      "iter: 900, min: 0.0019,\tmean: 1.0711,\tmax: 1.4311\n",
      "iter: 950, min: 0.0019,\tmean: 1.0482,\tmax: 1.3994\n"
     ]
    },
    {
     "data": {
      "text/plain": [
       "(array([[-0.00188671, -0.00246884],\n",
       "        [ 1.28922154,  1.19428674]]), 0.0019154085112944585)"
      ]
     },
     "execution_count": 14,
     "metadata": {},
     "output_type": "execute_result"
    }
   ],
   "source": [
    "es.run(verbose=True, with_tqdm=False)"
   ]
  },
  {
   "cell_type": "markdown",
   "metadata": {},
   "source": [
    "#### optimum = 0 at (0, ..., 0)"
   ]
  },
  {
   "cell_type": "markdown",
   "metadata": {},
   "source": [
    "### Griewank Function\n",
    "##### $f(x) = 1 + \\frac{1}{4000}\\sum_{i=1}^Nx_i^2 - \\prod_{i=1}^N\\cos(\\frac{x_i}{\\sqrt i})$"
   ]
  },
  {
   "cell_type": "code",
   "execution_count": 15,
   "metadata": {},
   "outputs": [],
   "source": [
    "def griewank(population):\n",
    "    dims = population.shape[-1]\n",
    "    return 1 + 1/4000*np.array([(ind[0]**2).sum() for ind in population]) -\\\n",
    "        np.prod([np.cos(ind[0] / np.sqrt([i+1 for i in range(dims)])) for ind in population])"
   ]
  },
  {
   "cell_type": "code",
   "execution_count": 16,
   "metadata": {},
   "outputs": [],
   "source": [
    "dims = 2\n",
    "\n",
    "lr = 0.01\n",
    "tau0, tau = lr/np.sqrt(2 * np.sqrt(dims)), lr/np.sqrt(2*dims)\n",
    "\n",
    "es = ES(domain=(-600, 600), dims=dims, population_size=1000, offspring_size=500, \n",
    "        parent_choice_method='roulette', replacement_method='mulambda', tau=tau, \n",
    "        tau0=tau0, cost_func=griewank, max_iters=1000)"
   ]
  },
  {
   "cell_type": "code",
   "execution_count": 17,
   "metadata": {},
   "outputs": [
    {
     "name": "stdout",
     "output_type": "stream",
     "text": [
      "iter: 0, min: 1.0108,\tmean: 46.3470,\tmax: 84.5043\n",
      "iter: 50, min: 1.0095,\tmean: 1.0127,\tmax: 1.0142\n",
      "iter: 100, min: 1.0087,\tmean: 1.0094,\tmax: 1.0096\n",
      "iter: 150, min: 1.0086,\tmean: 1.0090,\tmax: 1.0091\n",
      "iter: 200, min: 1.0086,\tmean: 1.0089,\tmax: 1.0090\n",
      "iter: 250, min: 1.0086,\tmean: 1.0088,\tmax: 1.0089\n",
      "iter: 300, min: 1.0085,\tmean: 1.0088,\tmax: 1.0088\n",
      "iter: 350, min: 1.0085,\tmean: 1.0087,\tmax: 1.0088\n",
      "iter: 400, min: 1.0085,\tmean: 1.0087,\tmax: 1.0088\n",
      "iter: 450, min: 1.0085,\tmean: 1.0087,\tmax: 1.0088\n",
      "iter: 500, min: 1.0085,\tmean: 1.0087,\tmax: 1.0087\n",
      "iter: 550, min: 1.0085,\tmean: 1.0087,\tmax: 1.0087\n",
      "iter: 600, min: 1.0085,\tmean: 1.0087,\tmax: 1.0087\n",
      "iter: 650, min: 1.0085,\tmean: 1.0087,\tmax: 1.0087\n",
      "iter: 700, min: 1.0085,\tmean: 1.0087,\tmax: 1.0087\n",
      "iter: 750, min: 1.0085,\tmean: 1.0087,\tmax: 1.0087\n",
      "iter: 800, min: 1.0085,\tmean: 1.0087,\tmax: 1.0087\n",
      "iter: 850, min: 1.0085,\tmean: 1.0086,\tmax: 1.0087\n",
      "iter: 900, min: 1.0085,\tmean: 1.0086,\tmax: 1.0087\n",
      "iter: 950, min: 1.0085,\tmean: 1.0086,\tmax: 1.0087\n"
     ]
    },
    {
     "data": {
      "text/plain": [
       "(array([[0.17184363, 5.83951438],\n",
       "        [1.05460609, 0.56636463]]), 1.0085323646026558)"
      ]
     },
     "execution_count": 17,
     "metadata": {},
     "output_type": "execute_result"
    }
   ],
   "source": [
    "es.run(verbose=True, with_tqdm=False)"
   ]
  },
  {
   "cell_type": "markdown",
   "metadata": {},
   "source": [
    "#### optimum = 0 at (0, ..., 0)"
   ]
  },
  {
   "cell_type": "code",
   "execution_count": null,
   "metadata": {},
   "outputs": [],
   "source": []
  }
 ],
 "metadata": {
  "kernelspec": {
   "display_name": "Python 3",
   "language": "python",
   "name": "python3"
  },
  "language_info": {
   "codemirror_mode": {
    "name": "ipython",
    "version": 3
   },
   "file_extension": ".py",
   "mimetype": "text/x-python",
   "name": "python",
   "nbconvert_exporter": "python",
   "pygments_lexer": "ipython3",
   "version": "3.7.3"
  }
 },
 "nbformat": 4,
 "nbformat_minor": 4
}
