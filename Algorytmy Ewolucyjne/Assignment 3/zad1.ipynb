{
 "cells": [
  {
   "cell_type": "code",
   "execution_count": 1,
   "metadata": {},
   "outputs": [],
   "source": [
    "import numpy as np\n",
    "from ES import ES"
   ]
  },
  {
   "cell_type": "markdown",
   "metadata": {},
   "source": [
    "# Zadanie 1.\n",
    "a) Zaimplementuj omawiane na wykładzie strategie ewolucyjne ES(μ + λ) i ES(μ, λ).\n",
    "Wskazówka: Algorytmy można zaimplementować w dowolnym języku programowania, ale ze względu na wygodę i wydajność obliczeń (głównie związanych z operacjami wektorowo-macierzowymi i losowaniem danych z rozkładu normalnego) radziłbym używać środowisk dedykowanych do obliczeń wektorowo- macierzowych, m.in. Matlab, Octave lub Python z biblioteką Numpy.\n",
    "\n",
    "b) Zapoznaj się z popularnymi benchmarkami dla optymalizacji globalnej (http://www-optima.amp.i.kyoto-u.ac.jp/member/student/hedar/Hedar_files/TestGO.htm), zarówno problemami optymalizacji bez ograniczeń jak i z ograniczeniami. Wybierz 5 benchmarków bez ograniczeń i użyj zaimplementowanych algorytmów do ich rozwiązywania (wśród wybranych benchmarków powinna znaleźć się co najmniej jedna z następujących funkcji: Griewank Function, Rastrigin Function, Schwefel Function). Dokładnie przeanalizuj działanie algorytmu i otrzymane wyniki. Sprawdź różne ustawienia algorytmu."
   ]
  },
  {
   "cell_type": "markdown",
   "metadata": {},
   "source": [
    "#### Used benchmarks:\n",
    "- Sum squares\n",
    "- Beale function\n",
    "- Rosenbrock function\n",
    "- Rastrigin function\n",
    "- Griewank function"
   ]
  },
  {
   "cell_type": "markdown",
   "metadata": {},
   "source": [
    "### Sum squares function\n",
    "##### $f(x) = \\sum_{i=1}^n{ix_i^2}$"
   ]
  },
  {
   "cell_type": "code",
   "execution_count": 2,
   "metadata": {},
   "outputs": [],
   "source": [
    "def sum_squares(population):\n",
    "    return np.array(list(map(lambda ind: ind[0]**2 * np.arange(1, len(ind[0])+1), \n",
    "                             population))).sum(axis=1)"
   ]
  },
  {
   "cell_type": "markdown",
   "metadata": {},
   "source": [
    "#### 3 dimensions"
   ]
  },
  {
   "cell_type": "code",
   "execution_count": 3,
   "metadata": {},
   "outputs": [],
   "source": [
    "dims = 3\n",
    "\n",
    "lr = 0.1\n",
    "tau0, tau = lr/np.sqrt(2 * np.sqrt(dims)), lr/np.sqrt(2*dims)"
   ]
  },
  {
   "cell_type": "markdown",
   "metadata": {},
   "source": [
    "##### Random parent selection"
   ]
  },
  {
   "cell_type": "code",
   "execution_count": 4,
   "metadata": {},
   "outputs": [
    {
     "name": "stdout",
     "output_type": "stream",
     "text": [
      "iter: 0, min: 2.3029,\tmean: 143.3803,\tmax: 253.4516\n",
      "iter: 50, min: 0.0104,\tmean: 0.6446,\tmax: 1.0318\n",
      "iter: 100, min: 0.0042,\tmean: 0.4432,\tmax: 0.7040\n",
      "iter: 150, min: 0.0042,\tmean: 0.3603,\tmax: 0.5550\n",
      "iter: 200, min: 0.0042,\tmean: 0.3175,\tmax: 0.4887\n",
      "iter: 250, min: 0.0042,\tmean: 0.2832,\tmax: 0.4381\n",
      "iter: 300, min: 0.0042,\tmean: 0.2554,\tmax: 0.3991\n",
      "iter: 350, min: 0.0042,\tmean: 0.2340,\tmax: 0.3658\n",
      "iter: 400, min: 0.0042,\tmean: 0.2173,\tmax: 0.3369\n",
      "iter: 450, min: 0.0042,\tmean: 0.2040,\tmax: 0.3179\n",
      "iter: 500, min: 0.0042,\tmean: 0.1919,\tmax: 0.3020\n",
      "iter: 550, min: 0.0042,\tmean: 0.1836,\tmax: 0.2853\n",
      "iter: 600, min: 0.0042,\tmean: 0.1740,\tmax: 0.2713\n",
      "iter: 650, min: 0.0042,\tmean: 0.1689,\tmax: 0.2611\n",
      "iter: 700, min: 0.0042,\tmean: 0.1623,\tmax: 0.2510\n",
      "iter: 750, min: 0.0042,\tmean: 0.1560,\tmax: 0.2409\n",
      "iter: 800, min: 0.0042,\tmean: 0.1491,\tmax: 0.2317\n",
      "iter: 850, min: 0.0042,\tmean: 0.1440,\tmax: 0.2248\n",
      "iter: 900, min: 0.0042,\tmean: 0.1378,\tmax: 0.2156\n",
      "iter: 950, min: 0.0042,\tmean: 0.1328,\tmax: 0.2069\n",
      "\n",
      "Best cost function: 0.00424 at iter: 99\n",
      "ind x: [0.03956895 0.00297767 0.02975209]\n"
     ]
    }
   ],
   "source": [
    "es = ES(domain=(-10, 10), dims=3, population_size=1000, offspring_size=500, \n",
    "        parent_choice_method='random', replacement_method='mulambda', tau=tau, \n",
    "        tau0=tau0, cost_func=sum_squares, max_iters=1000)\n",
    "\n",
    "es.run(verbose=True, with_tqdm=False)\n",
    "es.history()"
   ]
  },
  {
   "cell_type": "markdown",
   "metadata": {},
   "source": [
    "#### optimum = 0 at (0, ..., 0)"
   ]
  },
  {
   "cell_type": "markdown",
   "metadata": {},
   "source": [
    "##### Roulette method to select parents"
   ]
  },
  {
   "cell_type": "code",
   "execution_count": 5,
   "metadata": {},
   "outputs": [
    {
     "name": "stdout",
     "output_type": "stream",
     "text": [
      "iter: 0, min: 0.9003,\tmean: 123.0759,\tmax: 226.2819\n",
      "iter: 50, min: 0.0047,\tmean: 0.6825,\tmax: 1.0912\n",
      "iter: 100, min: 0.0047,\tmean: 0.4387,\tmax: 0.6893\n",
      "iter: 150, min: 0.0047,\tmean: 0.3464,\tmax: 0.5430\n",
      "iter: 200, min: 0.0047,\tmean: 0.2991,\tmax: 0.4637\n",
      "iter: 250, min: 0.0047,\tmean: 0.2632,\tmax: 0.4046\n",
      "iter: 300, min: 0.0047,\tmean: 0.2350,\tmax: 0.3581\n",
      "iter: 350, min: 0.0047,\tmean: 0.2150,\tmax: 0.3305\n",
      "iter: 400, min: 0.0047,\tmean: 0.1988,\tmax: 0.3025\n",
      "iter: 450, min: 0.0047,\tmean: 0.1852,\tmax: 0.2851\n",
      "iter: 500, min: 0.0047,\tmean: 0.1746,\tmax: 0.2680\n",
      "iter: 550, min: 0.0047,\tmean: 0.1646,\tmax: 0.2531\n",
      "iter: 600, min: 0.0047,\tmean: 0.1568,\tmax: 0.2428\n",
      "iter: 650, min: 0.0047,\tmean: 0.1515,\tmax: 0.2315\n",
      "iter: 700, min: 0.0047,\tmean: 0.1458,\tmax: 0.2227\n",
      "iter: 750, min: 0.0047,\tmean: 0.1398,\tmax: 0.2126\n",
      "iter: 800, min: 0.0047,\tmean: 0.1345,\tmax: 0.2057\n",
      "iter: 850, min: 0.0047,\tmean: 0.1298,\tmax: 0.1993\n",
      "iter: 900, min: 0.0047,\tmean: 0.1261,\tmax: 0.1933\n",
      "iter: 950, min: 0.0047,\tmean: 0.1228,\tmax: 0.1880\n",
      "\n",
      "Best cost function: 0.00465 at iter: 28\n",
      "ind x: [0.01100629 0.00226861 0.03881736]\n"
     ]
    }
   ],
   "source": [
    "es = ES(domain=(-10, 10), dims=3, population_size=1000, offspring_size=500, \n",
    "        parent_choice_method='roulette', replacement_method='mulambda', tau=tau, \n",
    "        tau0=tau0, cost_func=sum_squares, max_iters=1000)\n",
    "\n",
    "es.run(verbose=True, with_tqdm=False)\n",
    "es.history()"
   ]
  },
  {
   "cell_type": "markdown",
   "metadata": {},
   "source": [
    "#### optimum = 0 at (0, ..., 0)"
   ]
  },
  {
   "cell_type": "markdown",
   "metadata": {},
   "source": [
    "#### 10 dimensions"
   ]
  },
  {
   "cell_type": "code",
   "execution_count": 6,
   "metadata": {},
   "outputs": [
    {
     "name": "stdout",
     "output_type": "stream",
     "text": [
      "iter: 0, min: 4.3028,\tmean: 128.0923,\tmax: 233.0108\n",
      "iter: 200, min: 0.0020,\tmean: 0.3296,\tmax: 0.4657\n",
      "iter: 400, min: 0.0020,\tmean: 0.2315,\tmax: 0.3319\n",
      "iter: 600, min: 0.0020,\tmean: 0.1929,\tmax: 0.2749\n",
      "iter: 800, min: 0.0020,\tmean: 0.1687,\tmax: 0.2384\n",
      "iter: 1000, min: 0.0006,\tmean: 0.1514,\tmax: 0.2140\n",
      "iter: 1200, min: 0.0006,\tmean: 0.1412,\tmax: 0.1978\n",
      "iter: 1400, min: 0.0006,\tmean: 0.1311,\tmax: 0.1840\n",
      "iter: 1600, min: 0.0006,\tmean: 0.1228,\tmax: 0.1732\n",
      "iter: 1800, min: 0.0006,\tmean: 0.1164,\tmax: 0.1643\n",
      "iter: 2000, min: 0.0006,\tmean: 0.1091,\tmax: 0.1546\n",
      "iter: 2200, min: 0.0006,\tmean: 0.1035,\tmax: 0.1465\n",
      "iter: 2400, min: 0.0006,\tmean: 0.0988,\tmax: 0.1392\n",
      "iter: 2600, min: 0.0006,\tmean: 0.0950,\tmax: 0.1334\n",
      "iter: 2800, min: 0.0006,\tmean: 0.0916,\tmax: 0.1285\n",
      "iter: 3000, min: 0.0006,\tmean: 0.0882,\tmax: 0.1246\n",
      "iter: 3200, min: 0.0006,\tmean: 0.0845,\tmax: 0.1204\n",
      "iter: 3400, min: 0.0006,\tmean: 0.0819,\tmax: 0.1158\n",
      "iter: 3600, min: 0.0006,\tmean: 0.0795,\tmax: 0.1114\n",
      "iter: 3800, min: 0.0006,\tmean: 0.0776,\tmax: 0.1086\n",
      "iter: 4000, min: 0.0006,\tmean: 0.0749,\tmax: 0.1050\n",
      "iter: 4200, min: 0.0006,\tmean: 0.0731,\tmax: 0.1024\n",
      "iter: 4400, min: 0.0006,\tmean: 0.0713,\tmax: 0.1003\n",
      "iter: 4600, min: 0.0006,\tmean: 0.0694,\tmax: 0.0977\n",
      "iter: 4800, min: 0.0006,\tmean: 0.0681,\tmax: 0.0955\n",
      "iter: 5000, min: 0.0006,\tmean: 0.0665,\tmax: 0.0932\n",
      "iter: 5200, min: 0.0006,\tmean: 0.0651,\tmax: 0.0913\n",
      "iter: 5400, min: 0.0006,\tmean: 0.0634,\tmax: 0.0892\n",
      "iter: 5600, min: 0.0006,\tmean: 0.0619,\tmax: 0.0873\n",
      "iter: 5800, min: 0.0006,\tmean: 0.0605,\tmax: 0.0855\n",
      "iter: 6000, min: 0.0006,\tmean: 0.0596,\tmax: 0.0842\n",
      "iter: 6200, min: 0.0006,\tmean: 0.0586,\tmax: 0.0825\n",
      "iter: 6400, min: 0.0006,\tmean: 0.0573,\tmax: 0.0807\n",
      "iter: 6600, min: 0.0006,\tmean: 0.0563,\tmax: 0.0790\n",
      "iter: 6800, min: 0.0006,\tmean: 0.0555,\tmax: 0.0777\n",
      "iter: 7000, min: 0.0006,\tmean: 0.0547,\tmax: 0.0764\n",
      "iter: 7200, min: 0.0006,\tmean: 0.0540,\tmax: 0.0749\n",
      "iter: 7400, min: 0.0006,\tmean: 0.0531,\tmax: 0.0735\n",
      "iter: 7600, min: 0.0006,\tmean: 0.0524,\tmax: 0.0724\n",
      "iter: 7800, min: 0.0006,\tmean: 0.0518,\tmax: 0.0715\n",
      "iter: 8000, min: 0.0006,\tmean: 0.0509,\tmax: 0.0703\n",
      "iter: 8200, min: 0.0006,\tmean: 0.0505,\tmax: 0.0695\n",
      "iter: 8400, min: 0.0006,\tmean: 0.0499,\tmax: 0.0687\n",
      "iter: 8600, min: 0.0006,\tmean: 0.0493,\tmax: 0.0680\n",
      "iter: 8800, min: 0.0006,\tmean: 0.0488,\tmax: 0.0671\n",
      "iter: 9000, min: 0.0006,\tmean: 0.0482,\tmax: 0.0663\n",
      "iter: 9200, min: 0.0006,\tmean: 0.0478,\tmax: 0.0656\n",
      "iter: 9400, min: 0.0006,\tmean: 0.0471,\tmax: 0.0649\n",
      "iter: 9600, min: 0.0006,\tmean: 0.0464,\tmax: 0.0641\n",
      "iter: 9800, min: 0.0006,\tmean: 0.0458,\tmax: 0.0630\n",
      "\n",
      "Best cost function: 0.0006 at iter: 910\n",
      "ind x: [-0.00454318  0.00539378 -0.01313037]\n"
     ]
    }
   ],
   "source": [
    "dims = 10\n",
    "\n",
    "lr = 0.1\n",
    "tau0, tau = lr/np.sqrt(2 * np.sqrt(dims)), lr/np.sqrt(2*dims)\n",
    "\n",
    "es = ES(domain=(-10, 10), dims=3, population_size=1000, offspring_size=500, \n",
    "        parent_choice_method='roulette', replacement_method='mulambda', tau=tau, \n",
    "        tau0=tau0, cost_func=sum_squares, max_iters=10000)\n",
    "\n",
    "es.run(verbose=True, with_tqdm=False, log_interv=200)\n",
    "es.history()"
   ]
  },
  {
   "cell_type": "markdown",
   "metadata": {},
   "source": [
    "#### optimum = 0 at (0, ..., 0)"
   ]
  },
  {
   "cell_type": "markdown",
   "metadata": {},
   "source": [
    "#### 50 dimensions"
   ]
  },
  {
   "cell_type": "code",
   "execution_count": 7,
   "metadata": {},
   "outputs": [
    {
     "name": "stdout",
     "output_type": "stream",
     "text": [
      "iter: 0, min: 1.0225,\tmean: 123.0779,\tmax: 228.8062\n",
      "iter: 200, min: 0.0124,\tmean: 0.3282,\tmax: 0.4877\n",
      "iter: 400, min: 0.0124,\tmean: 0.2091,\tmax: 0.3054\n",
      "iter: 600, min: 0.0124,\tmean: 0.1642,\tmax: 0.2340\n",
      "iter: 800, min: 0.0060,\tmean: 0.1392,\tmax: 0.1977\n",
      "iter: 1000, min: 0.0060,\tmean: 0.1209,\tmax: 0.1732\n",
      "iter: 1200, min: 0.0060,\tmean: 0.1084,\tmax: 0.1542\n",
      "iter: 1400, min: 0.0046,\tmean: 0.0979,\tmax: 0.1400\n",
      "iter: 1600, min: 0.0046,\tmean: 0.0913,\tmax: 0.1303\n",
      "iter: 1800, min: 0.0025,\tmean: 0.0857,\tmax: 0.1209\n",
      "iter: 2000, min: 0.0025,\tmean: 0.0811,\tmax: 0.1135\n",
      "iter: 2200, min: 0.0025,\tmean: 0.0768,\tmax: 0.1075\n",
      "iter: 2400, min: 0.0025,\tmean: 0.0732,\tmax: 0.1028\n",
      "iter: 2600, min: 0.0025,\tmean: 0.0696,\tmax: 0.0980\n",
      "iter: 2800, min: 0.0025,\tmean: 0.0668,\tmax: 0.0939\n",
      "iter: 3000, min: 0.0025,\tmean: 0.0642,\tmax: 0.0900\n",
      "iter: 3200, min: 0.0025,\tmean: 0.0619,\tmax: 0.0868\n",
      "iter: 3400, min: 0.0025,\tmean: 0.0592,\tmax: 0.0837\n",
      "iter: 3600, min: 0.0025,\tmean: 0.0570,\tmax: 0.0805\n",
      "iter: 3800, min: 0.0025,\tmean: 0.0550,\tmax: 0.0784\n",
      "iter: 4000, min: 0.0025,\tmean: 0.0535,\tmax: 0.0761\n",
      "iter: 4200, min: 0.0025,\tmean: 0.0523,\tmax: 0.0735\n",
      "iter: 4400, min: 0.0025,\tmean: 0.0509,\tmax: 0.0713\n",
      "iter: 4600, min: 0.0025,\tmean: 0.0496,\tmax: 0.0696\n",
      "iter: 4800, min: 0.0025,\tmean: 0.0486,\tmax: 0.0682\n",
      "iter: 5000, min: 0.0025,\tmean: 0.0478,\tmax: 0.0666\n",
      "iter: 5200, min: 0.0025,\tmean: 0.0466,\tmax: 0.0647\n",
      "iter: 5400, min: 0.0025,\tmean: 0.0460,\tmax: 0.0636\n",
      "iter: 5600, min: 0.0025,\tmean: 0.0451,\tmax: 0.0622\n",
      "iter: 5800, min: 0.0025,\tmean: 0.0443,\tmax: 0.0610\n",
      "iter: 6000, min: 0.0025,\tmean: 0.0437,\tmax: 0.0601\n",
      "iter: 6200, min: 0.0025,\tmean: 0.0428,\tmax: 0.0590\n",
      "iter: 6400, min: 0.0025,\tmean: 0.0420,\tmax: 0.0580\n",
      "iter: 6600, min: 0.0025,\tmean: 0.0413,\tmax: 0.0571\n",
      "iter: 6800, min: 0.0025,\tmean: 0.0405,\tmax: 0.0559\n",
      "iter: 7000, min: 0.0025,\tmean: 0.0397,\tmax: 0.0551\n",
      "iter: 7200, min: 0.0025,\tmean: 0.0392,\tmax: 0.0544\n",
      "iter: 7400, min: 0.0025,\tmean: 0.0385,\tmax: 0.0533\n",
      "iter: 7600, min: 0.0025,\tmean: 0.0380,\tmax: 0.0523\n",
      "iter: 7800, min: 0.0025,\tmean: 0.0376,\tmax: 0.0517\n",
      "iter: 8000, min: 0.0025,\tmean: 0.0370,\tmax: 0.0509\n",
      "iter: 8200, min: 0.0025,\tmean: 0.0366,\tmax: 0.0503\n",
      "iter: 8400, min: 0.0025,\tmean: 0.0364,\tmax: 0.0498\n",
      "iter: 8600, min: 0.0025,\tmean: 0.0360,\tmax: 0.0494\n",
      "iter: 8800, min: 0.0025,\tmean: 0.0356,\tmax: 0.0491\n",
      "iter: 9000, min: 0.0025,\tmean: 0.0351,\tmax: 0.0485\n",
      "iter: 9200, min: 0.0025,\tmean: 0.0347,\tmax: 0.0479\n",
      "iter: 9400, min: 0.0025,\tmean: 0.0342,\tmax: 0.0472\n",
      "iter: 9600, min: 0.0025,\tmean: 0.0338,\tmax: 0.0467\n",
      "iter: 9800, min: 0.0025,\tmean: 0.0336,\tmax: 0.0462\n",
      "\n",
      "Best cost function: 0.00247 at iter: 1724\n",
      "ind x: [0.012358   0.02603455 0.01787352]\n"
     ]
    }
   ],
   "source": [
    "dims = 50\n",
    "\n",
    "lr = 0.1\n",
    "tau0, tau = lr/np.sqrt(2 * np.sqrt(dims)), lr/np.sqrt(2*dims)\n",
    "\n",
    "es = ES(domain=(-10, 10), dims=3, population_size=1000, offspring_size=500, \n",
    "        parent_choice_method='roulette', replacement_method='mulambda', tau=tau, \n",
    "        tau0=tau0, cost_func=sum_squares, max_iters=10000)\n",
    "\n",
    "es.run(verbose=True, with_tqdm=False, log_interv=200)\n",
    "es.history()"
   ]
  },
  {
   "cell_type": "markdown",
   "metadata": {},
   "source": [
    "#### optimum = 0 at (0, ..., 0)"
   ]
  },
  {
   "cell_type": "markdown",
   "metadata": {},
   "source": [
    "### Beale Function\n",
    "##### $f(x) = (1.5 - x_1 + x_1x_2)^2 + (2.25 - x_1 + x_1x_2^2)^2 + (2.625 - x_1 + x_1x_2^3)^2$"
   ]
  },
  {
   "cell_type": "code",
   "execution_count": 8,
   "metadata": {},
   "outputs": [],
   "source": [
    "def beale(population):\n",
    "    return np.array([(1.5 - ind[0][0] + ind[0][0]*ind[0][1])**2 + \\\n",
    "                     (2.25 - ind[0][0] + ind[0][0]*ind[0][1]**2)**2 + \\\n",
    "                     (2.625 - ind[0][0] + ind[0][0]*ind[0][1]**3)**2\n",
    "                     for ind in population])"
   ]
  },
  {
   "cell_type": "markdown",
   "metadata": {},
   "source": [
    "#### 2 dimensions"
   ]
  },
  {
   "cell_type": "code",
   "execution_count": 9,
   "metadata": {},
   "outputs": [
    {
     "name": "stdout",
     "output_type": "stream",
     "text": [
      "iter: 0, min: 0.0069,\tmean: 374.9737,\tmax: 2665.9786\n",
      "iter: 50, min: 0.0000,\tmean: 0.0327,\tmax: 0.0619\n",
      "iter: 100, min: 0.0000,\tmean: 0.0148,\tmax: 0.0269\n",
      "iter: 150, min: 0.0000,\tmean: 0.0095,\tmax: 0.0176\n",
      "iter: 200, min: 0.0000,\tmean: 0.0070,\tmax: 0.0128\n",
      "iter: 250, min: 0.0000,\tmean: 0.0056,\tmax: 0.0100\n",
      "iter: 300, min: 0.0000,\tmean: 0.0043,\tmax: 0.0080\n",
      "iter: 350, min: 0.0000,\tmean: 0.0037,\tmax: 0.0068\n",
      "iter: 400, min: 0.0000,\tmean: 0.0032,\tmax: 0.0058\n",
      "iter: 450, min: 0.0000,\tmean: 0.0028,\tmax: 0.0051\n",
      "iter: 500, min: 0.0000,\tmean: 0.0025,\tmax: 0.0045\n",
      "\n",
      "Best cost function: 1e-05 at iter: 229\n",
      "ind x: [3.00504363 0.50066087]\n"
     ]
    }
   ],
   "source": [
    "dims = 2\n",
    "\n",
    "lr = 0.01\n",
    "tau0, tau = lr/np.sqrt(2 * np.sqrt(dims)), lr/np.sqrt(2*dims)\n",
    "\n",
    "es = ES(domain=(-4.5, 4.5), dims=dims, population_size=1000, offspring_size=500, \n",
    "        parent_choice_method='roulette', replacement_method='mulambda', tau=tau, \n",
    "        tau0=tau0, cost_func=beale, max_iters=1000)\n",
    "\n",
    "es.run(verbose=True, with_tqdm=False)\n",
    "es.history()"
   ]
  },
  {
   "cell_type": "markdown",
   "metadata": {},
   "source": [
    "#### optimum = 0 at (3, 0.5)"
   ]
  },
  {
   "cell_type": "markdown",
   "metadata": {},
   "source": [
    "### Rosenbrock Function\n",
    "##### $f(x) = \\sum_{i=1}^{N-1}[100 * (x_{i}^2 - x_{i+1})^2 + (1 - x_i)^2]$"
   ]
  },
  {
   "cell_type": "code",
   "execution_count": 10,
   "metadata": {},
   "outputs": [],
   "source": [
    "def rosenbrock(population):\n",
    "    return np.array([(100*(ind[:-1]**2 - ind[1:])**2 + (ind[:-1] - 1)**2).sum() \n",
    "                     for ind in population])"
   ]
  },
  {
   "cell_type": "markdown",
   "metadata": {},
   "source": [
    "#### 2 dimensions"
   ]
  },
  {
   "cell_type": "code",
   "execution_count": 11,
   "metadata": {},
   "outputs": [
    {
     "name": "stdout",
     "output_type": "stream",
     "text": [
      "iter: 0, min: 4.6875,\tmean: 65245.0918,\tmax: 295389.1930\n",
      "iter: 50, min: 0.0335,\tmean: 12.2704,\tmax: 21.8632\n",
      "iter: 100, min: 0.0335,\tmean: 6.1352,\tmax: 10.9349\n",
      "iter: 150, min: 0.0335,\tmean: 3.9820,\tmax: 7.0042\n",
      "iter: 200, min: 0.0335,\tmean: 2.8757,\tmax: 5.1067\n",
      "iter: 250, min: 0.0335,\tmean: 2.1668,\tmax: 3.8455\n",
      "iter: 300, min: 0.0335,\tmean: 1.7614,\tmax: 3.1402\n",
      "iter: 350, min: 0.0335,\tmean: 1.4747,\tmax: 2.6031\n",
      "iter: 400, min: 0.0335,\tmean: 1.2440,\tmax: 2.1679\n",
      "iter: 450, min: 0.0335,\tmean: 1.1028,\tmax: 1.8965\n",
      "iter: 500, min: 0.0335,\tmean: 0.9872,\tmax: 1.6797\n",
      "iter: 550, min: 0.0335,\tmean: 0.8941,\tmax: 1.5200\n",
      "iter: 600, min: 0.0335,\tmean: 0.8253,\tmax: 1.3916\n",
      "iter: 650, min: 0.0335,\tmean: 0.7615,\tmax: 1.2776\n",
      "iter: 700, min: 0.0335,\tmean: 0.7053,\tmax: 1.1860\n",
      "iter: 750, min: 0.0335,\tmean: 0.6573,\tmax: 1.1058\n",
      "iter: 800, min: 0.0335,\tmean: 0.6137,\tmax: 1.0284\n",
      "iter: 850, min: 0.0335,\tmean: 0.5769,\tmax: 0.9613\n",
      "iter: 900, min: 0.0335,\tmean: 0.5401,\tmax: 0.8967\n",
      "iter: 950, min: 0.0335,\tmean: 0.5184,\tmax: 0.8589\n",
      "\n",
      "Best cost function: 0.03349 at iter: 21\n",
      "ind x: [0.97664116 0.97945177]\n"
     ]
    }
   ],
   "source": [
    "dims = 2\n",
    "\n",
    "lr = 0.01\n",
    "tau0, tau = lr/np.sqrt(2 * np.sqrt(dims)), lr/np.sqrt(2*dims)\n",
    "\n",
    "es = ES(domain=(-5, 10), dims=dims, population_size=1000, offspring_size=500, \n",
    "        parent_choice_method='roulette', replacement_method='mulambda', tau=tau, \n",
    "        tau0=tau0, cost_func=rosenbrock, max_iters=1000)\n",
    "\n",
    "es.run(verbose=True, with_tqdm=False)\n",
    "es.history()"
   ]
  },
  {
   "cell_type": "markdown",
   "metadata": {},
   "source": [
    "#### optimum = 0 at (1, ..., 1)"
   ]
  },
  {
   "cell_type": "markdown",
   "metadata": {},
   "source": [
    "#### 5 dimensions"
   ]
  },
  {
   "cell_type": "code",
   "execution_count": 12,
   "metadata": {},
   "outputs": [
    {
     "name": "stdout",
     "output_type": "stream",
     "text": [
      "iter: 0, min: 149.0868,\tmean: 273574.9593,\tmax: 693976.2142\n",
      "iter: 200, min: 4.1149,\tmean: 50.2445,\tmax: 72.3605\n",
      "iter: 400, min: 0.8741,\tmean: 39.1612,\tmax: 56.3596\n",
      "iter: 600, min: 0.8741,\tmean: 33.4337,\tmax: 48.0414\n",
      "iter: 800, min: 0.8741,\tmean: 30.2464,\tmax: 42.9399\n",
      "iter: 1000, min: 0.8741,\tmean: 27.8599,\tmax: 39.7576\n",
      "iter: 1200, min: 0.8741,\tmean: 25.8067,\tmax: 37.0877\n",
      "iter: 1400, min: 0.8741,\tmean: 24.2820,\tmax: 35.0674\n",
      "iter: 1600, min: 0.8741,\tmean: 23.0326,\tmax: 33.0614\n",
      "iter: 1800, min: 0.8741,\tmean: 22.0309,\tmax: 31.5304\n",
      "iter: 2000, min: 0.8741,\tmean: 21.0394,\tmax: 29.8833\n",
      "iter: 2200, min: 0.8741,\tmean: 20.3081,\tmax: 29.1465\n",
      "iter: 2400, min: 0.8741,\tmean: 19.6435,\tmax: 28.1724\n",
      "iter: 2600, min: 0.8741,\tmean: 18.9603,\tmax: 27.1932\n",
      "iter: 2800, min: 0.5623,\tmean: 18.4919,\tmax: 26.4985\n",
      "iter: 3000, min: 0.5623,\tmean: 17.8458,\tmax: 25.5544\n",
      "iter: 3200, min: 0.5623,\tmean: 17.4629,\tmax: 24.7747\n",
      "iter: 3400, min: 0.5623,\tmean: 17.1682,\tmax: 24.2747\n",
      "iter: 3600, min: 0.5623,\tmean: 16.7574,\tmax: 23.7704\n",
      "iter: 3800, min: 0.5623,\tmean: 16.3799,\tmax: 23.4355\n",
      "iter: 4000, min: 0.5623,\tmean: 16.0244,\tmax: 22.8754\n",
      "iter: 4200, min: 0.5623,\tmean: 15.6778,\tmax: 22.3328\n",
      "iter: 4400, min: 0.5623,\tmean: 15.3253,\tmax: 21.8518\n",
      "iter: 4600, min: 0.5623,\tmean: 15.0197,\tmax: 21.4318\n",
      "iter: 4800, min: 0.5623,\tmean: 14.7604,\tmax: 21.0600\n",
      "iter: 5000, min: 0.5623,\tmean: 14.5540,\tmax: 20.7456\n",
      "iter: 5200, min: 0.5623,\tmean: 14.3439,\tmax: 20.3892\n",
      "iter: 5400, min: 0.5623,\tmean: 14.1872,\tmax: 20.1168\n",
      "iter: 5600, min: 0.5623,\tmean: 14.0262,\tmax: 19.8533\n",
      "iter: 5800, min: 0.5623,\tmean: 13.8019,\tmax: 19.5559\n",
      "iter: 6000, min: 0.5623,\tmean: 13.6392,\tmax: 19.2613\n",
      "iter: 6200, min: 0.5623,\tmean: 13.5395,\tmax: 19.0890\n",
      "iter: 6400, min: 0.5623,\tmean: 13.3325,\tmax: 18.8818\n",
      "iter: 6600, min: 0.5623,\tmean: 13.1562,\tmax: 18.5930\n",
      "iter: 6800, min: 0.5623,\tmean: 13.0357,\tmax: 18.3907\n",
      "iter: 7000, min: 0.5623,\tmean: 12.9013,\tmax: 18.2548\n",
      "iter: 7200, min: 0.5623,\tmean: 12.7613,\tmax: 18.0779\n",
      "iter: 7400, min: 0.5623,\tmean: 12.6705,\tmax: 17.9286\n",
      "iter: 7600, min: 0.5623,\tmean: 12.5706,\tmax: 17.7927\n",
      "iter: 7800, min: 0.5623,\tmean: 12.4587,\tmax: 17.6927\n",
      "iter: 8000, min: 0.5623,\tmean: 12.3602,\tmax: 17.5268\n",
      "iter: 8200, min: 0.5623,\tmean: 12.2290,\tmax: 17.2737\n",
      "iter: 8400, min: 0.5623,\tmean: 12.0823,\tmax: 17.0984\n",
      "iter: 8600, min: 0.5623,\tmean: 12.0303,\tmax: 17.0317\n",
      "iter: 8800, min: 0.5623,\tmean: 11.9249,\tmax: 16.8090\n",
      "iter: 9000, min: 0.5623,\tmean: 11.8438,\tmax: 16.7115\n",
      "iter: 9200, min: 0.5623,\tmean: 11.7338,\tmax: 16.5125\n",
      "iter: 9400, min: 0.5623,\tmean: 11.6239,\tmax: 16.3769\n",
      "iter: 9600, min: 0.5623,\tmean: 11.5481,\tmax: 16.2667\n",
      "iter: 9800, min: 0.5623,\tmean: 11.4319,\tmax: 16.1016\n",
      "\n",
      "Best cost function: 0.56229 at iter: 2762\n",
      "ind x: [0.76785459 0.93597004 1.00586686 1.01825483]\n"
     ]
    }
   ],
   "source": [
    "dims = 4\n",
    "\n",
    "lr = 0.01\n",
    "tau0, tau = lr/np.sqrt(2 * np.sqrt(dims)), lr/np.sqrt(2*dims)\n",
    "\n",
    "es = ES(domain=(-5, 10), dims=dims, population_size=1000, offspring_size=500, \n",
    "        parent_choice_method='roulette', replacement_method='mulambda', tau=tau, \n",
    "        tau0=tau0, cost_func=rosenbrock, max_iters=10000)\n",
    "\n",
    "es.run(verbose=True, with_tqdm=False, log_interv=200)\n",
    "es.history()"
   ]
  },
  {
   "cell_type": "markdown",
   "metadata": {},
   "source": [
    "#### optimum = 0 at (1, ..., 1)"
   ]
  },
  {
   "cell_type": "markdown",
   "metadata": {},
   "source": [
    "#### 15 dimensions"
   ]
  },
  {
   "cell_type": "code",
   "execution_count": 13,
   "metadata": {},
   "outputs": [
    {
     "name": "stdout",
     "output_type": "stream",
     "text": [
      "iter: 0, min: 42145.7077,\tmean: 910194.3762,\tmax: 1608752.1172\n",
      "iter: 200, min: 3597.2672,\tmean: 5996.7220,\tmax: 6806.6139\n",
      "iter: 400, min: 3597.2672,\tmean: 5451.6078,\tmax: 6042.2429\n",
      "iter: 600, min: 3597.2672,\tmean: 5220.7699,\tmax: 5723.6987\n",
      "iter: 800, min: 3597.2672,\tmean: 5080.8721,\tmax: 5535.1570\n",
      "iter: 1000, min: 3597.2672,\tmean: 4966.9735,\tmax: 5398.2055\n",
      "iter: 1200, min: 3597.2672,\tmean: 4892.2214,\tmax: 5301.1269\n",
      "iter: 1400, min: 3597.2672,\tmean: 4824.5817,\tmax: 5224.9633\n",
      "iter: 1600, min: 3344.4759,\tmean: 4785.4735,\tmax: 5168.0486\n",
      "iter: 1800, min: 3344.4759,\tmean: 4751.8921,\tmax: 5122.8865\n",
      "iter: 2000, min: 3344.4759,\tmean: 4715.8094,\tmax: 5072.3084\n",
      "iter: 2200, min: 3344.4759,\tmean: 4686.9530,\tmax: 5028.4738\n",
      "iter: 2400, min: 3344.4759,\tmean: 4651.9393,\tmax: 4982.7738\n",
      "iter: 2600, min: 3344.4759,\tmean: 4628.7431,\tmax: 4954.7666\n",
      "iter: 2800, min: 3344.4759,\tmean: 4601.0322,\tmax: 4923.3619\n",
      "iter: 3000, min: 3344.4759,\tmean: 4578.5875,\tmax: 4894.6835\n",
      "iter: 3200, min: 3344.4759,\tmean: 4565.1180,\tmax: 4876.3775\n",
      "iter: 3400, min: 3344.4759,\tmean: 4545.1872,\tmax: 4852.1294\n",
      "iter: 3600, min: 3344.4759,\tmean: 4527.2538,\tmax: 4823.8980\n",
      "iter: 3800, min: 3344.4759,\tmean: 4514.8680,\tmax: 4806.3833\n",
      "iter: 4000, min: 3344.4759,\tmean: 4504.5549,\tmax: 4789.0838\n",
      "iter: 4200, min: 3344.4759,\tmean: 4488.6184,\tmax: 4767.5137\n",
      "iter: 4400, min: 3344.4759,\tmean: 4480.1571,\tmax: 4750.8605\n",
      "iter: 4600, min: 3344.4759,\tmean: 4469.4870,\tmax: 4741.0765\n",
      "iter: 4800, min: 3344.4759,\tmean: 4454.2368,\tmax: 4728.7809\n",
      "iter: 5000, min: 3344.4759,\tmean: 4442.7615,\tmax: 4713.3548\n",
      "iter: 5200, min: 3344.4759,\tmean: 4433.6037,\tmax: 4701.5256\n",
      "iter: 5400, min: 3344.4759,\tmean: 4423.6043,\tmax: 4688.4786\n",
      "iter: 5600, min: 3344.4759,\tmean: 4414.1894,\tmax: 4678.4666\n",
      "iter: 5800, min: 3344.4759,\tmean: 4406.6842,\tmax: 4666.7415\n",
      "iter: 6000, min: 3344.4759,\tmean: 4400.2407,\tmax: 4660.5836\n",
      "iter: 6200, min: 3344.4759,\tmean: 4393.0159,\tmax: 4651.1159\n",
      "iter: 6400, min: 3344.4759,\tmean: 4386.3852,\tmax: 4643.1438\n",
      "iter: 6600, min: 3344.4759,\tmean: 4378.7143,\tmax: 4632.9883\n",
      "iter: 6800, min: 3344.4759,\tmean: 4373.7105,\tmax: 4622.8070\n",
      "iter: 7000, min: 3344.4759,\tmean: 4365.2301,\tmax: 4615.5210\n",
      "iter: 7200, min: 3344.4759,\tmean: 4359.3639,\tmax: 4609.4785\n",
      "iter: 7400, min: 3344.4759,\tmean: 4354.7784,\tmax: 4602.1136\n",
      "iter: 7600, min: 3344.4759,\tmean: 4350.6955,\tmax: 4593.2645\n",
      "iter: 7800, min: 3344.4759,\tmean: 4343.1600,\tmax: 4582.7515\n",
      "iter: 8000, min: 3344.4759,\tmean: 4338.4761,\tmax: 4577.1019\n",
      "iter: 8200, min: 3344.4759,\tmean: 4334.2996,\tmax: 4568.5136\n",
      "iter: 8400, min: 3344.4759,\tmean: 4329.7456,\tmax: 4563.1067\n",
      "iter: 8600, min: 3344.4759,\tmean: 4324.7302,\tmax: 4558.0015\n",
      "iter: 8800, min: 3344.4759,\tmean: 4320.8184,\tmax: 4551.4314\n",
      "iter: 9000, min: 3344.4759,\tmean: 4316.8488,\tmax: 4546.7703\n",
      "iter: 9200, min: 3344.4759,\tmean: 4313.0177,\tmax: 4541.9715\n",
      "iter: 9400, min: 3344.4759,\tmean: 4307.4103,\tmax: 4534.2685\n",
      "iter: 9600, min: 3344.4759,\tmean: 4304.0187,\tmax: 4532.1880\n",
      "iter: 9800, min: 3344.4759,\tmean: 4302.0213,\tmax: 4529.5472\n",
      "\n",
      "Best cost function: 3344.47586 at iter: 1512\n",
      "ind x: [-1.2362879   1.59690615  0.98241573  2.2502981   1.42506996 -0.93299147\n",
      "  1.36873135 -0.74711952  1.20597931  2.02178024]\n"
     ]
    }
   ],
   "source": [
    "dims = 10\n",
    "\n",
    "lr = 0.01\n",
    "tau0, tau = lr/np.sqrt(2 * np.sqrt(dims)), lr/np.sqrt(2*dims)\n",
    "\n",
    "es = ES(domain=(-5, 10), dims=dims, population_size=1000, offspring_size=500, \n",
    "        parent_choice_method='roulette', replacement_method='mulambda', tau=tau, \n",
    "        tau0=tau0, cost_func=rosenbrock, max_iters=10000)\n",
    "\n",
    "es.run(verbose=True, with_tqdm=False, log_interv=200)\n",
    "es.history()"
   ]
  },
  {
   "cell_type": "markdown",
   "metadata": {},
   "source": [
    "#### optimum = 0 at (1, ..., 1)"
   ]
  },
  {
   "cell_type": "markdown",
   "metadata": {},
   "source": [
    "### Rastrigin Function\n",
    "##### $f(x) = 10*N + \\sum_{i=1}^N[{x_i^2 - 10*\\cos(2 \\pi * x_i)}]$"
   ]
  },
  {
   "cell_type": "code",
   "execution_count": 14,
   "metadata": {},
   "outputs": [],
   "source": [
    "def rastrigin(population):\n",
    "    dims = population.shape[-1]\n",
    "    return 10*dims + np.array([(ind[0]**2 - 10 * np.cos(2*np.pi * ind[0])).sum() \n",
    "                               for ind in population])"
   ]
  },
  {
   "cell_type": "markdown",
   "metadata": {},
   "source": [
    "#### 2 dimensions"
   ]
  },
  {
   "cell_type": "code",
   "execution_count": 15,
   "metadata": {},
   "outputs": [
    {
     "name": "stdout",
     "output_type": "stream",
     "text": [
      "iter: 0, min: 0.6147,\tmean: 28.2143,\tmax: 42.5755\n",
      "iter: 50, min: 0.0090,\tmean: 3.9398,\tmax: 5.9320\n",
      "iter: 100, min: 0.0081,\tmean: 2.7086,\tmax: 4.0019\n",
      "iter: 150, min: 0.0081,\tmean: 2.2309,\tmax: 3.2031\n",
      "iter: 200, min: 0.0081,\tmean: 1.9302,\tmax: 2.7343\n",
      "iter: 250, min: 0.0081,\tmean: 1.7271,\tmax: 2.4312\n",
      "iter: 300, min: 0.0081,\tmean: 1.5970,\tmax: 2.2412\n",
      "iter: 350, min: 0.0081,\tmean: 1.4729,\tmax: 2.0923\n",
      "iter: 400, min: 0.0081,\tmean: 1.3902,\tmax: 2.0079\n",
      "iter: 450, min: 0.0081,\tmean: 1.3092,\tmax: 1.8734\n",
      "iter: 500, min: 0.0081,\tmean: 1.2376,\tmax: 1.7660\n",
      "iter: 550, min: 0.0081,\tmean: 1.1820,\tmax: 1.6586\n",
      "iter: 600, min: 0.0081,\tmean: 1.1251,\tmax: 1.5716\n",
      "iter: 650, min: 0.0081,\tmean: 1.0826,\tmax: 1.5092\n",
      "iter: 700, min: 0.0081,\tmean: 1.0339,\tmax: 1.4454\n",
      "iter: 750, min: 0.0081,\tmean: 1.0009,\tmax: 1.4037\n",
      "iter: 800, min: 0.0081,\tmean: 0.9717,\tmax: 1.3686\n",
      "iter: 850, min: 0.0081,\tmean: 0.9398,\tmax: 1.3289\n",
      "iter: 900, min: 0.0081,\tmean: 0.8999,\tmax: 1.2870\n",
      "iter: 950, min: 0.0081,\tmean: 0.8635,\tmax: 1.2428\n",
      "\n",
      "Best cost function: 0.00808 at iter: 96\n",
      "ind x: [-0.00491462  0.00407255]\n"
     ]
    }
   ],
   "source": [
    "dims = 2\n",
    "\n",
    "lr = 0.01\n",
    "tau0, tau = lr/np.sqrt(2 * np.sqrt(dims)), lr/np.sqrt(2*dims)\n",
    "\n",
    "es = ES(domain=(-5.12, 5.12), dims=dims, population_size=1000, offspring_size=500, \n",
    "        parent_choice_method='roulette', replacement_method='mulambda', tau=tau, \n",
    "        tau0=tau0, cost_func=rastrigin, max_iters=1000)\n",
    "\n",
    "es.run(verbose=True, with_tqdm=False)\n",
    "es.history()"
   ]
  },
  {
   "cell_type": "markdown",
   "metadata": {},
   "source": [
    "#### optimum = 0 at (0, ..., 0)"
   ]
  },
  {
   "cell_type": "markdown",
   "metadata": {},
   "source": [
    "#### 5 dimensions"
   ]
  },
  {
   "cell_type": "code",
   "execution_count": 16,
   "metadata": {},
   "outputs": [
    {
     "name": "stdout",
     "output_type": "stream",
     "text": [
      "iter: 0, min: 22.3326,\tmean: 77.3440,\tmax: 99.5664\n",
      "iter: 200, min: 5.6350,\tmean: 22.7991,\tmax: 27.7167\n",
      "iter: 400, min: 5.1696,\tmean: 20.2111,\tmax: 24.4504\n",
      "iter: 600, min: 5.1696,\tmean: 18.9073,\tmax: 22.7409\n",
      "iter: 800, min: 5.1696,\tmean: 17.9634,\tmax: 21.5649\n",
      "iter: 1000, min: 5.1696,\tmean: 17.4754,\tmax: 20.9333\n",
      "iter: 1200, min: 5.1696,\tmean: 16.9209,\tmax: 20.3110\n",
      "iter: 1400, min: 5.1696,\tmean: 16.5105,\tmax: 19.7946\n",
      "iter: 1600, min: 5.1696,\tmean: 16.1611,\tmax: 19.3102\n",
      "iter: 1800, min: 5.1696,\tmean: 15.8988,\tmax: 18.9527\n",
      "iter: 2000, min: 5.1696,\tmean: 15.6258,\tmax: 18.6217\n",
      "iter: 2200, min: 5.1696,\tmean: 15.4384,\tmax: 18.3160\n",
      "iter: 2400, min: 5.1696,\tmean: 15.2476,\tmax: 18.0048\n",
      "iter: 2600, min: 5.1696,\tmean: 15.1208,\tmax: 17.8420\n",
      "iter: 2800, min: 5.1696,\tmean: 14.9078,\tmax: 17.5814\n",
      "iter: 3000, min: 5.1696,\tmean: 14.7255,\tmax: 17.3680\n",
      "iter: 3200, min: 5.1696,\tmean: 14.5583,\tmax: 17.1525\n",
      "iter: 3400, min: 5.1696,\tmean: 14.4321,\tmax: 16.9952\n",
      "iter: 3600, min: 5.1696,\tmean: 14.3254,\tmax: 16.8395\n",
      "iter: 3800, min: 5.1696,\tmean: 14.1983,\tmax: 16.7310\n",
      "iter: 4000, min: 5.1696,\tmean: 14.0298,\tmax: 16.5587\n",
      "iter: 4200, min: 5.1696,\tmean: 13.9157,\tmax: 16.4277\n",
      "iter: 4400, min: 5.1696,\tmean: 13.7899,\tmax: 16.2731\n",
      "iter: 4600, min: 5.1696,\tmean: 13.6776,\tmax: 16.1155\n",
      "iter: 4800, min: 5.1696,\tmean: 13.5591,\tmax: 15.9943\n",
      "iter: 5000, min: 5.1696,\tmean: 13.4792,\tmax: 15.8703\n",
      "iter: 5200, min: 5.1696,\tmean: 13.4351,\tmax: 15.7991\n",
      "iter: 5400, min: 5.1696,\tmean: 13.3332,\tmax: 15.6955\n",
      "iter: 5600, min: 5.1696,\tmean: 13.2540,\tmax: 15.5954\n",
      "iter: 5800, min: 5.1696,\tmean: 13.1642,\tmax: 15.4925\n",
      "iter: 6000, min: 5.1696,\tmean: 13.0976,\tmax: 15.4049\n",
      "iter: 6200, min: 5.1696,\tmean: 13.0329,\tmax: 15.3102\n",
      "iter: 6400, min: 5.1696,\tmean: 12.9734,\tmax: 15.2453\n",
      "iter: 6600, min: 5.1696,\tmean: 12.9052,\tmax: 15.1516\n",
      "iter: 6800, min: 5.1696,\tmean: 12.8508,\tmax: 15.0680\n",
      "iter: 7000, min: 5.1696,\tmean: 12.7635,\tmax: 14.9599\n",
      "iter: 7200, min: 5.1696,\tmean: 12.6934,\tmax: 14.8487\n",
      "iter: 7400, min: 5.1696,\tmean: 12.6477,\tmax: 14.7882\n",
      "iter: 7600, min: 5.1696,\tmean: 12.5638,\tmax: 14.6741\n",
      "iter: 7800, min: 5.1696,\tmean: 12.5338,\tmax: 14.5962\n",
      "iter: 8000, min: 5.1696,\tmean: 12.4861,\tmax: 14.5366\n",
      "iter: 8200, min: 5.1696,\tmean: 12.4415,\tmax: 14.4780\n",
      "iter: 8400, min: 5.1696,\tmean: 12.3952,\tmax: 14.4208\n",
      "iter: 8600, min: 5.1696,\tmean: 12.3521,\tmax: 14.3471\n",
      "iter: 8800, min: 5.1696,\tmean: 12.3140,\tmax: 14.3026\n",
      "iter: 9000, min: 5.1696,\tmean: 12.2561,\tmax: 14.2296\n",
      "iter: 9200, min: 5.1696,\tmean: 12.2260,\tmax: 14.1874\n",
      "iter: 9400, min: 5.1696,\tmean: 12.1928,\tmax: 14.1484\n",
      "iter: 9600, min: 5.1696,\tmean: 12.1587,\tmax: 14.1134\n",
      "iter: 9800, min: 5.1696,\tmean: 12.1263,\tmax: 14.0678\n",
      "\n",
      "Best cost function: 5.16956 at iter: 230\n",
      "ind x: [ 0.97931879  1.04772344  0.96241214 -0.03505399  1.0216008 ]\n"
     ]
    }
   ],
   "source": [
    "dims = 5\n",
    "\n",
    "lr = 0.01\n",
    "tau0, tau = lr/np.sqrt(2 * np.sqrt(dims)), lr/np.sqrt(2*dims)\n",
    "\n",
    "es = ES(domain=(-5.12, 5.12), dims=dims, population_size=1000, offspring_size=500, \n",
    "        parent_choice_method='roulette', replacement_method='mulambda', tau=tau, \n",
    "        tau0=tau0, cost_func=rastrigin, max_iters=10000)\n",
    "\n",
    "es.run(verbose=True, with_tqdm=False, log_interv=200)\n",
    "es.history()"
   ]
  },
  {
   "cell_type": "markdown",
   "metadata": {},
   "source": [
    "#### optimum = 0 at (0, ..., 0)"
   ]
  },
  {
   "cell_type": "markdown",
   "metadata": {},
   "source": [
    "#### 15 dimensions"
   ]
  },
  {
   "cell_type": "code",
   "execution_count": 17,
   "metadata": {},
   "outputs": [
    {
     "name": "stdout",
     "output_type": "stream",
     "text": [
      "iter: 0, min: 124.3474,\tmean: 253.3226,\tmax: 293.0498\n",
      "iter: 200, min: 91.4042,\tmean: 133.3794,\tmax: 142.9122\n",
      "iter: 400, min: 91.4042,\tmean: 127.8146,\tmax: 136.6402\n",
      "iter: 600, min: 89.7607,\tmean: 124.9665,\tmax: 133.2814\n",
      "iter: 800, min: 89.7607,\tmean: 123.1625,\tmax: 131.2006\n",
      "iter: 1000, min: 89.7607,\tmean: 121.8506,\tmax: 129.6744\n",
      "iter: 1200, min: 89.7607,\tmean: 121.0104,\tmax: 128.6580\n",
      "iter: 1400, min: 86.5556,\tmean: 119.9836,\tmax: 127.7596\n",
      "iter: 1600, min: 86.5556,\tmean: 119.3352,\tmax: 126.9655\n",
      "iter: 1800, min: 86.5441,\tmean: 118.8754,\tmax: 126.3753\n",
      "iter: 2000, min: 86.5441,\tmean: 118.1757,\tmax: 125.6935\n",
      "iter: 2200, min: 86.5441,\tmean: 117.8558,\tmax: 125.1603\n",
      "iter: 2400, min: 86.5441,\tmean: 117.3644,\tmax: 124.6484\n",
      "iter: 2600, min: 76.1045,\tmean: 116.9546,\tmax: 124.2012\n",
      "iter: 2800, min: 76.1045,\tmean: 116.6629,\tmax: 123.8140\n",
      "iter: 3000, min: 76.1045,\tmean: 116.3222,\tmax: 123.4373\n",
      "iter: 3200, min: 76.1045,\tmean: 116.0730,\tmax: 123.1517\n",
      "iter: 3400, min: 76.1045,\tmean: 115.7210,\tmax: 122.6758\n",
      "iter: 3600, min: 76.1045,\tmean: 115.3670,\tmax: 122.2231\n",
      "iter: 3800, min: 76.1045,\tmean: 115.0758,\tmax: 121.8808\n",
      "iter: 4000, min: 76.1045,\tmean: 114.8517,\tmax: 121.6419\n",
      "iter: 4200, min: 76.1045,\tmean: 114.6338,\tmax: 121.4515\n",
      "iter: 4400, min: 76.1045,\tmean: 114.3718,\tmax: 121.2157\n",
      "iter: 4600, min: 76.1045,\tmean: 114.1860,\tmax: 120.9937\n",
      "iter: 4800, min: 76.1045,\tmean: 113.9728,\tmax: 120.7397\n",
      "iter: 5000, min: 76.1045,\tmean: 113.8232,\tmax: 120.5040\n",
      "iter: 5200, min: 76.1045,\tmean: 113.6764,\tmax: 120.4104\n",
      "iter: 5400, min: 76.1045,\tmean: 113.5065,\tmax: 120.2681\n",
      "iter: 5600, min: 76.1045,\tmean: 113.3601,\tmax: 120.0812\n",
      "iter: 5800, min: 76.1045,\tmean: 113.1997,\tmax: 119.8652\n",
      "iter: 6000, min: 76.1045,\tmean: 113.0010,\tmax: 119.6951\n",
      "iter: 6200, min: 76.1045,\tmean: 112.8560,\tmax: 119.5180\n",
      "iter: 6400, min: 76.1045,\tmean: 112.7752,\tmax: 119.3501\n",
      "iter: 6600, min: 76.1045,\tmean: 112.5047,\tmax: 119.1306\n",
      "iter: 6800, min: 76.1045,\tmean: 112.3866,\tmax: 119.0058\n",
      "iter: 7000, min: 76.1045,\tmean: 112.2246,\tmax: 118.8369\n",
      "iter: 7200, min: 76.1045,\tmean: 112.0996,\tmax: 118.7075\n",
      "iter: 7400, min: 76.1045,\tmean: 111.9166,\tmax: 118.4778\n",
      "iter: 7600, min: 76.1045,\tmean: 111.7953,\tmax: 118.3145\n",
      "iter: 7800, min: 76.1045,\tmean: 111.6326,\tmax: 118.1350\n",
      "iter: 8000, min: 76.1045,\tmean: 111.5107,\tmax: 117.9821\n",
      "iter: 8200, min: 76.1045,\tmean: 111.3911,\tmax: 117.8408\n",
      "iter: 8400, min: 76.1045,\tmean: 111.2990,\tmax: 117.7683\n",
      "iter: 8600, min: 76.1045,\tmean: 111.1659,\tmax: 117.6494\n",
      "iter: 8800, min: 76.1045,\tmean: 111.0426,\tmax: 117.4861\n",
      "iter: 9000, min: 76.1045,\tmean: 110.9872,\tmax: 117.3810\n",
      "iter: 9200, min: 76.1045,\tmean: 110.9194,\tmax: 117.3278\n",
      "iter: 9400, min: 76.1045,\tmean: 110.7843,\tmax: 117.2335\n",
      "iter: 9600, min: 76.1045,\tmean: 110.6864,\tmax: 117.0955\n",
      "iter: 9800, min: 76.1045,\tmean: 110.6076,\tmax: 117.0153\n",
      "\n",
      "Best cost function: 76.10448 at iter: 2494\n",
      "ind x: [ 0.02293986 -0.94586625  3.01914536  1.08317604 -0.90256333  1.20722326\n",
      "  0.79411877  1.03561873 -0.85254857  2.276246    0.96543786 -0.99218506\n",
      "  0.7778347   2.07983158  2.00995538]\n"
     ]
    }
   ],
   "source": [
    "dims = 15\n",
    "\n",
    "lr = 0.01\n",
    "tau0, tau = lr/np.sqrt(2 * np.sqrt(dims)), lr/np.sqrt(2*dims)\n",
    "\n",
    "es = ES(domain=(-5.12, 5.12), dims=dims, population_size=1000, offspring_size=500, \n",
    "        parent_choice_method='roulette', replacement_method='mulambda', tau=tau, \n",
    "        tau0=tau0, cost_func=rastrigin, max_iters=10000)\n",
    "\n",
    "es.run(verbose=True, with_tqdm=False, log_interv=200)\n",
    "es.history()"
   ]
  },
  {
   "cell_type": "markdown",
   "metadata": {},
   "source": [
    "#### optimum = 0 at (0, ..., 0)"
   ]
  },
  {
   "cell_type": "markdown",
   "metadata": {},
   "source": [
    "### Griewank Function\n",
    "##### $f(x) = 1 + \\frac{1}{4000}\\sum_{i=1}^Nx_i^2 - \\prod_{i=1}^N\\cos(\\frac{x_i}{\\sqrt i})$"
   ]
  },
  {
   "cell_type": "code",
   "execution_count": 18,
   "metadata": {},
   "outputs": [],
   "source": [
    "def griewank(population):\n",
    "    dims = population.shape[-1]\n",
    "    return 1 + 1/4000*np.array([(ind[0]**2).sum() for ind in population]) -\\\n",
    "        np.prod([np.cos(ind[0] / np.sqrt([i+1 for i in range(dims)])) for ind in population])"
   ]
  },
  {
   "cell_type": "markdown",
   "metadata": {},
   "source": [
    "#### 2 dimensions"
   ]
  },
  {
   "cell_type": "code",
   "execution_count": 19,
   "metadata": {},
   "outputs": [
    {
     "name": "stdout",
     "output_type": "stream",
     "text": [
      "iter: 0, min: 1.3188,\tmean: 32.8713,\tmax: 69.1557\n",
      "iter: 50, min: 1.0012,\tmean: 1.0042,\tmax: 1.0053\n",
      "iter: 100, min: 1.0003,\tmean: 1.0006,\tmax: 1.0008\n",
      "iter: 150, min: 1.0003,\tmean: 1.0005,\tmax: 1.0006\n",
      "iter: 200, min: 1.0003,\tmean: 1.0004,\tmax: 1.0005\n",
      "iter: 250, min: 1.0003,\tmean: 1.0004,\tmax: 1.0005\n",
      "iter: 300, min: 1.0003,\tmean: 1.0004,\tmax: 1.0004\n",
      "iter: 350, min: 1.0003,\tmean: 1.0004,\tmax: 1.0004\n",
      "iter: 400, min: 1.0003,\tmean: 1.0004,\tmax: 1.0004\n",
      "iter: 450, min: 1.0003,\tmean: 1.0004,\tmax: 1.0004\n",
      "iter: 500, min: 1.0003,\tmean: 1.0004,\tmax: 1.0004\n",
      "iter: 550, min: 1.0003,\tmean: 1.0004,\tmax: 1.0004\n",
      "iter: 600, min: 1.0003,\tmean: 1.0004,\tmax: 1.0004\n",
      "iter: 650, min: 1.0003,\tmean: 1.0004,\tmax: 1.0004\n",
      "iter: 700, min: 1.0003,\tmean: 1.0004,\tmax: 1.0004\n",
      "iter: 750, min: 1.0003,\tmean: 1.0004,\tmax: 1.0004\n",
      "iter: 800, min: 1.0003,\tmean: 1.0003,\tmax: 1.0004\n",
      "iter: 850, min: 1.0003,\tmean: 1.0003,\tmax: 1.0004\n",
      "iter: 900, min: 1.0003,\tmean: 1.0003,\tmax: 1.0004\n",
      "iter: 950, min: 1.0003,\tmean: 1.0003,\tmax: 1.0004\n",
      "\n",
      "Best cost function: 1.00029 at iter: 524\n",
      "ind x: [1.08194437 0.06389334]\n"
     ]
    }
   ],
   "source": [
    "dims = 2\n",
    "\n",
    "lr = 0.01\n",
    "tau0, tau = lr/np.sqrt(2 * np.sqrt(dims)), lr/np.sqrt(2*dims)\n",
    "\n",
    "es = ES(domain=(-600, 600), dims=dims, population_size=1000, offspring_size=500, \n",
    "        parent_choice_method='roulette', replacement_method='mulambda', tau=tau, \n",
    "        tau0=tau0, cost_func=griewank, max_iters=1000)\n",
    "\n",
    "es.run(verbose=True, with_tqdm=False)\n",
    "es.history()"
   ]
  },
  {
   "cell_type": "markdown",
   "metadata": {},
   "source": [
    "#### optimum = 0 at (0, ..., 0)"
   ]
  },
  {
   "cell_type": "markdown",
   "metadata": {},
   "source": [
    "#### 5 dimensions"
   ]
  },
  {
   "cell_type": "code",
   "execution_count": 20,
   "metadata": {},
   "outputs": [
    {
     "name": "stdout",
     "output_type": "stream",
     "text": [
      "iter: 0, min: 14.6805,\tmean: 113.5651,\tmax: 169.6053\n",
      "iter: 50, min: 9.7879,\tmean: 10.1091,\tmax: 10.2331\n",
      "iter: 100, min: 6.8945,\tmean: 7.0721,\tmax: 7.1321\n",
      "iter: 150, min: 6.2288,\tmean: 6.3142,\tmax: 6.3377\n",
      "iter: 200, min: 6.1410,\tmean: 6.1961,\tmax: 6.2098\n",
      "iter: 250, min: 6.1210,\tmean: 6.1591,\tmax: 6.1707\n",
      "iter: 300, min: 6.1001,\tmean: 6.1413,\tmax: 6.1510\n",
      "iter: 350, min: 6.0886,\tmean: 6.1271,\tmax: 6.1369\n",
      "iter: 400, min: 6.0886,\tmean: 6.1183,\tmax: 6.1271\n",
      "iter: 450, min: 6.0852,\tmean: 6.1120,\tmax: 6.1197\n",
      "iter: 500, min: 6.0826,\tmean: 6.1072,\tmax: 6.1152\n",
      "iter: 550, min: 6.0668,\tmean: 6.1035,\tmax: 6.1107\n",
      "iter: 600, min: 6.0668,\tmean: 6.1000,\tmax: 6.1068\n",
      "iter: 650, min: 6.0657,\tmean: 6.0971,\tmax: 6.1037\n",
      "iter: 700, min: 6.0657,\tmean: 6.0940,\tmax: 6.1010\n",
      "iter: 750, min: 6.0657,\tmean: 6.0912,\tmax: 6.0981\n",
      "iter: 800, min: 6.0657,\tmean: 6.0889,\tmax: 6.0955\n",
      "iter: 850, min: 6.0652,\tmean: 6.0872,\tmax: 6.0936\n",
      "iter: 900, min: 6.0652,\tmean: 6.0855,\tmax: 6.0916\n",
      "iter: 950, min: 6.0546,\tmean: 6.0841,\tmax: 6.0902\n",
      "\n",
      "Best cost function: 6.05463 at iter: 950\n",
      "ind x: [-12.48550096  35.45081646  12.08911027  87.7502822  104.68811292]\n"
     ]
    }
   ],
   "source": [
    "dims = 5\n",
    "\n",
    "lr = 0.01\n",
    "tau0, tau = lr/np.sqrt(2 * np.sqrt(dims)), lr/np.sqrt(2*dims)\n",
    "\n",
    "es = ES(domain=(-600, 600), dims=dims, population_size=1000, offspring_size=500, \n",
    "        parent_choice_method='roulette', replacement_method='mulambda', tau=tau, \n",
    "        tau0=tau0, cost_func=griewank, max_iters=1000)\n",
    "\n",
    "es.run(verbose=True, with_tqdm=False)\n",
    "es.history()"
   ]
  },
  {
   "cell_type": "markdown",
   "metadata": {},
   "source": [
    "#### optimum = 0 at (0, ..., 0)"
   ]
  },
  {
   "cell_type": "markdown",
   "metadata": {},
   "source": [
    "#### 15 dimensions"
   ]
  },
  {
   "cell_type": "code",
   "execution_count": 21,
   "metadata": {},
   "outputs": [
    {
     "name": "stdout",
     "output_type": "stream",
     "text": [
      "iter: 0, min: 143.8053,\tmean: 384.1510,\tmax: 486.7731\n",
      "iter: 50, min: 143.4810,\tmean: 143.7840,\tmax: 143.8575\n",
      "iter: 100, min: 143.2361,\tmean: 143.5130,\tmax: 143.5764\n",
      "iter: 150, min: 143.0700,\tmean: 143.3316,\tmax: 143.3853\n",
      "iter: 200, min: 142.9288,\tmean: 143.2137,\tmax: 143.2680\n",
      "iter: 250, min: 142.9050,\tmean: 143.1181,\tmax: 143.1704\n",
      "iter: 300, min: 142.7302,\tmean: 143.0316,\tmax: 143.0850\n",
      "iter: 350, min: 142.6553,\tmean: 142.9178,\tmax: 142.9775\n",
      "iter: 400, min: 142.6062,\tmean: 142.8388,\tmax: 142.8914\n",
      "iter: 450, min: 142.6062,\tmean: 142.7879,\tmax: 142.8362\n",
      "iter: 500, min: 142.6041,\tmean: 142.7524,\tmax: 142.7960\n",
      "iter: 550, min: 142.5886,\tmean: 142.7258,\tmax: 142.7660\n",
      "iter: 600, min: 142.5268,\tmean: 142.6989,\tmax: 142.7397\n",
      "iter: 650, min: 142.4426,\tmean: 142.6711,\tmax: 142.7124\n",
      "iter: 700, min: 142.3365,\tmean: 142.6223,\tmax: 142.6728\n",
      "iter: 750, min: 142.3309,\tmean: 142.5620,\tmax: 142.6160\n",
      "iter: 800, min: 142.2937,\tmean: 142.5133,\tmax: 142.5649\n",
      "iter: 850, min: 142.2754,\tmean: 142.4792,\tmax: 142.5279\n",
      "iter: 900, min: 142.2272,\tmean: 142.4449,\tmax: 142.4905\n",
      "iter: 950, min: 142.2272,\tmean: 142.4123,\tmax: 142.4588\n",
      "\n",
      "Best cost function: 142.2272 at iter: 861\n",
      "ind x: [-119.76328975  -30.49523284  175.4923395   131.13197961   80.63569879\n",
      "   -3.87173553  145.82864168  263.67495636  445.49532027 -153.98593115\n",
      "  290.73397673 -161.84355544  -97.59613294  193.67348165 -156.21493469]\n"
     ]
    }
   ],
   "source": [
    "dims = 15\n",
    "\n",
    "lr = 0.01\n",
    "tau0, tau = lr/np.sqrt(2 * np.sqrt(dims)), lr/np.sqrt(2*dims)\n",
    "\n",
    "es = ES(domain=(-600, 600), dims=dims, population_size=1000, offspring_size=500, \n",
    "        parent_choice_method='roulette', replacement_method='mulambda', tau=tau, \n",
    "        tau0=tau0, cost_func=griewank, max_iters=1000)\n",
    "\n",
    "es.run(verbose=True, with_tqdm=False)\n",
    "es.history()"
   ]
  },
  {
   "cell_type": "markdown",
   "metadata": {},
   "source": [
    "#### optimum = 0 at (0, ..., 0)"
   ]
  },
  {
   "cell_type": "code",
   "execution_count": null,
   "metadata": {},
   "outputs": [],
   "source": []
  }
 ],
 "metadata": {
  "kernelspec": {
   "display_name": "Python 3",
   "language": "python",
   "name": "python3"
  },
  "language_info": {
   "codemirror_mode": {
    "name": "ipython",
    "version": 3
   },
   "file_extension": ".py",
   "mimetype": "text/x-python",
   "name": "python",
   "nbconvert_exporter": "python",
   "pygments_lexer": "ipython3",
   "version": "3.7.3"
  }
 },
 "nbformat": 4,
 "nbformat_minor": 4
}
