{
 "cells": [
  {
   "cell_type": "code",
   "execution_count": 1,
   "metadata": {},
   "outputs": [],
   "source": [
    "import numpy as np\n",
    "from ES import ES"
   ]
  },
  {
   "cell_type": "markdown",
   "metadata": {},
   "source": [
    "# Zadanie 1.\n",
    "a) Zaimplementuj omawiane na wykładzie strategie ewolucyjne ES(μ + λ) i ES(μ, λ).\n",
    "Wskazówka: Algorytmy można zaimplementować w dowolnym języku programowania, ale ze względu na wygodę i wydajność obliczeń (głównie związanych z operacjami wektorowo-macierzowymi i losowaniem danych z rozkładu normalnego) radziłbym używać środowisk dedykowanych do obliczeń wektorowo- macierzowych, m.in. Matlab, Octave lub Python z biblioteką Numpy.\n",
    "\n",
    "b) Zapoznaj się z popularnymi benchmarkami dla optymalizacji globalnej (http://www-optima.amp.i.kyoto-u.ac.jp/member/student/hedar/Hedar_files/TestGO.htm), zarówno problemami optymalizacji bez ograniczeń jak i z ograniczeniami. Wybierz 5 benchmarków bez ograniczeń i użyj zaimplementowanych algorytmów do ich rozwiązywania (wśród wybranych benchmarków powinna znaleźć się co najmniej jedna z następujących funkcji: Griewank Function, Rastrigin Function, Schwefel Function). Dokładnie przeanalizuj działanie algorytmu i otrzymane wyniki. Sprawdź różne ustawienia algorytmu."
   ]
  },
  {
   "cell_type": "markdown",
   "metadata": {},
   "source": [
    "#### Used benchmarks:\n",
    "- Sum squares\n",
    "- Beale function\n",
    "- Rosenbrock function\n",
    "- Rastrigin function\n",
    "- Griewank function"
   ]
  },
  {
   "cell_type": "markdown",
   "metadata": {},
   "source": [
    "### Sum squares function\n",
    "##### $f(x) = \\sum_{i=1}^n{ix_i^2}$"
   ]
  },
  {
   "cell_type": "code",
   "execution_count": 2,
   "metadata": {},
   "outputs": [],
   "source": [
    "def sum_squares(population):\n",
    "    return np.array(list(map(lambda ind: ind[0]**2 * np.arange(1, len(ind[0])+1), \n",
    "                             population))).sum(axis=1)"
   ]
  },
  {
   "cell_type": "code",
   "execution_count": 3,
   "metadata": {},
   "outputs": [],
   "source": [
    "dims = 3\n",
    "\n",
    "lr = 0.1\n",
    "tau0, tau = lr/np.sqrt(2 * np.sqrt(dims)), lr/np.sqrt(2*dims)\n",
    "\n",
    "es = ES(domain=(-10, 10), dims=3, population_size=1000, offspring_size=500, \n",
    "        parent_choice_method='random', replacement_method='mulambda', tau=tau, \n",
    "        tau0=tau0, cost_func=sum_squares, max_iters=1000)"
   ]
  },
  {
   "cell_type": "code",
   "execution_count": 4,
   "metadata": {},
   "outputs": [
    {
     "name": "stdout",
     "output_type": "stream",
     "text": [
      "iter: 0, min: 0.2753,\tmean: 136.4610,\tmax: 245.2395\n",
      "iter: 50, min: 0.0050,\tmean: 0.7816,\tmax: 1.2923\n",
      "iter: 100, min: 0.0044,\tmean: 0.4943,\tmax: 0.7810\n",
      "iter: 150, min: 0.0044,\tmean: 0.3985,\tmax: 0.6211\n",
      "iter: 200, min: 0.0044,\tmean: 0.3484,\tmax: 0.5426\n",
      "iter: 250, min: 0.0044,\tmean: 0.3083,\tmax: 0.4827\n",
      "iter: 300, min: 0.0044,\tmean: 0.2782,\tmax: 0.4403\n",
      "iter: 350, min: 0.0044,\tmean: 0.2552,\tmax: 0.4014\n",
      "iter: 400, min: 0.0044,\tmean: 0.2399,\tmax: 0.3773\n",
      "iter: 450, min: 0.0044,\tmean: 0.2246,\tmax: 0.3536\n",
      "iter: 500, min: 0.0044,\tmean: 0.2120,\tmax: 0.3320\n",
      "iter: 550, min: 0.0044,\tmean: 0.2020,\tmax: 0.3168\n",
      "iter: 600, min: 0.0044,\tmean: 0.1929,\tmax: 0.3019\n",
      "iter: 650, min: 0.0044,\tmean: 0.1861,\tmax: 0.2932\n",
      "iter: 700, min: 0.0044,\tmean: 0.1771,\tmax: 0.2801\n",
      "iter: 750, min: 0.0044,\tmean: 0.1713,\tmax: 0.2703\n",
      "iter: 800, min: 0.0044,\tmean: 0.1642,\tmax: 0.2599\n",
      "iter: 850, min: 0.0044,\tmean: 0.1585,\tmax: 0.2518\n",
      "iter: 900, min: 0.0044,\tmean: 0.1529,\tmax: 0.2443\n",
      "iter: 950, min: 0.0044,\tmean: 0.1481,\tmax: 0.2370\n"
     ]
    },
    {
     "data": {
      "text/plain": [
       "(array([[-0.01416125,  0.02697549, -0.03041161],\n",
       "        [ 1.82364766,  0.70349555,  1.67746035]]), 0.0044304929123652375)"
      ]
     },
     "execution_count": 4,
     "metadata": {},
     "output_type": "execute_result"
    }
   ],
   "source": [
    "es.run(verbose=True, with_tqdm=False)"
   ]
  },
  {
   "cell_type": "markdown",
   "metadata": {},
   "source": [
    "#### optimum = 0 at (0, ..., 0)"
   ]
  },
  {
   "cell_type": "markdown",
   "metadata": {},
   "source": [
    "### Beale Function\n",
    "##### $f(x) = (1.5 - x_1 + x_1*x_2)^2 + (2.25 - x_1 + x_1*x_2^2)^2 + (2.625 - x_1 + x_1*x_2^3)^2$"
   ]
  },
  {
   "cell_type": "code",
   "execution_count": 5,
   "metadata": {},
   "outputs": [],
   "source": [
    "def beale(population):\n",
    "    return np.array([(1.5 - ind[0][0] + ind[0][0]*ind[0][1])**2 + \\\n",
    "                     (2.25 - ind[0][0] + ind[0][0]*ind[0][1]**2)**2 + \\\n",
    "                     (2.625 - ind[0][0] + ind[0][0]*ind[0][1]**3)**2\n",
    "                     for ind in population])"
   ]
  },
  {
   "cell_type": "code",
   "execution_count": 6,
   "metadata": {},
   "outputs": [],
   "source": [
    "dims = 2\n",
    "\n",
    "lr = 0.01\n",
    "tau0, tau = lr/np.sqrt(2 * np.sqrt(dims)), lr/np.sqrt(2*dims)\n",
    "\n",
    "es = ES(domain=(-4.5, 4.5), dims=dims, population_size=1000, offspring_size=500, \n",
    "        parent_choice_method='random', replacement_method='mulambda', tau=tau, \n",
    "        tau0=tau0, cost_func=beale, max_iters=1000)"
   ]
  },
  {
   "cell_type": "code",
   "execution_count": 7,
   "metadata": {},
   "outputs": [
    {
     "name": "stdout",
     "output_type": "stream",
     "text": [
      "iter: 0, min: 0.0006,\tmean: 339.1181,\tmax: 2741.4159\n",
      "iter: 50, min: 0.0000,\tmean: 0.0318,\tmax: 0.0619\n",
      "iter: 100, min: 0.0000,\tmean: 0.0166,\tmax: 0.0300\n",
      "iter: 150, min: 0.0000,\tmean: 0.0114,\tmax: 0.0208\n",
      "iter: 200, min: 0.0000,\tmean: 0.0089,\tmax: 0.0164\n",
      "iter: 250, min: 0.0000,\tmean: 0.0071,\tmax: 0.0129\n",
      "iter: 300, min: 0.0000,\tmean: 0.0062,\tmax: 0.0111\n",
      "iter: 350, min: 0.0000,\tmean: 0.0054,\tmax: 0.0098\n",
      "iter: 400, min: 0.0000,\tmean: 0.0048,\tmax: 0.0087\n",
      "iter: 450, min: 0.0000,\tmean: 0.0043,\tmax: 0.0079\n",
      "iter: 500, min: 0.0000,\tmean: 0.0039,\tmax: 0.0071\n",
      "iter: 550, min: 0.0000,\tmean: 0.0035,\tmax: 0.0064\n",
      "iter: 600, min: 0.0000,\tmean: 0.0032,\tmax: 0.0058\n",
      "iter: 650, min: 0.0000,\tmean: 0.0030,\tmax: 0.0054\n",
      "iter: 700, min: 0.0000,\tmean: 0.0027,\tmax: 0.0049\n",
      "iter: 750, min: 0.0000,\tmean: 0.0026,\tmax: 0.0046\n",
      "iter: 800, min: 0.0000,\tmean: 0.0024,\tmax: 0.0044\n",
      "iter: 850, min: 0.0000,\tmean: 0.0022,\tmax: 0.0040\n",
      "iter: 900, min: 0.0000,\tmean: 0.0021,\tmax: 0.0037\n",
      "iter: 950, min: 0.0000,\tmean: 0.0020,\tmax: 0.0036\n"
     ]
    },
    {
     "data": {
      "text/plain": [
       "(array([[3.00023995, 0.49976324],\n",
       "        [0.81868102, 0.53947066]]), 2.0330172933510365e-06)"
      ]
     },
     "execution_count": 7,
     "metadata": {},
     "output_type": "execute_result"
    }
   ],
   "source": [
    "es.run(verbose=True, with_tqdm=False)"
   ]
  },
  {
   "cell_type": "markdown",
   "metadata": {},
   "source": [
    "#### optimum = 0 at (3, 0.5)"
   ]
  },
  {
   "cell_type": "markdown",
   "metadata": {},
   "source": [
    "### Rosenbrock Function\n",
    "##### $f(x) = \\sum_{i=1}^{N-1}[100 * (x_{i}^2 - x_{i+1})^2 + (1 - x_i)^2]$"
   ]
  },
  {
   "cell_type": "code",
   "execution_count": 8,
   "metadata": {},
   "outputs": [],
   "source": [
    "def rosenbrock(population):\n",
    "    return np.array([(100*(ind[:-1]**2 - ind[1:])**2 + (ind[:-1] - 1)**2).sum() \n",
    "                     for ind in population])"
   ]
  },
  {
   "cell_type": "code",
   "execution_count": 9,
   "metadata": {},
   "outputs": [],
   "source": [
    "dims = 2\n",
    "\n",
    "lr = 0.01\n",
    "tau0, tau = lr/np.sqrt(2 * np.sqrt(dims)), lr/np.sqrt(2*dims)\n",
    "\n",
    "es = ES(domain=(-5, 10), dims=dims, population_size=1000, offspring_size=500, \n",
    "        parent_choice_method='random', replacement_method='mulambda', tau=tau, \n",
    "        tau0=tau0, cost_func=rosenbrock, max_iters=1000)"
   ]
  },
  {
   "cell_type": "code",
   "execution_count": 10,
   "metadata": {},
   "outputs": [
    {
     "name": "stdout",
     "output_type": "stream",
     "text": [
      "iter: 0, min: 10.5160,\tmean: 78781.2723,\tmax: 298497.6888\n",
      "iter: 50, min: 0.0665,\tmean: 9.5749,\tmax: 17.0353\n",
      "iter: 100, min: 0.0549,\tmean: 5.2134,\tmax: 9.4830\n",
      "iter: 150, min: 0.0549,\tmean: 3.7915,\tmax: 6.8062\n",
      "iter: 200, min: 0.0549,\tmean: 2.9724,\tmax: 5.4602\n",
      "iter: 250, min: 0.0549,\tmean: 2.4041,\tmax: 4.4381\n",
      "iter: 300, min: 0.0549,\tmean: 2.0306,\tmax: 3.7585\n",
      "iter: 350, min: 0.0549,\tmean: 1.7578,\tmax: 3.3145\n",
      "iter: 400, min: 0.0549,\tmean: 1.5294,\tmax: 2.9017\n",
      "iter: 450, min: 0.0432,\tmean: 1.3098,\tmax: 2.5115\n",
      "iter: 500, min: 0.0432,\tmean: 1.1897,\tmax: 2.2511\n",
      "iter: 550, min: 0.0432,\tmean: 1.0876,\tmax: 2.0007\n",
      "iter: 600, min: 0.0203,\tmean: 0.9969,\tmax: 1.8079\n",
      "iter: 650, min: 0.0203,\tmean: 0.9226,\tmax: 1.6704\n",
      "iter: 700, min: 0.0203,\tmean: 0.8586,\tmax: 1.5449\n",
      "iter: 750, min: 0.0203,\tmean: 0.7973,\tmax: 1.4191\n",
      "iter: 800, min: 0.0203,\tmean: 0.7465,\tmax: 1.3449\n",
      "iter: 850, min: 0.0203,\tmean: 0.7040,\tmax: 1.2655\n",
      "iter: 900, min: 0.0203,\tmean: 0.6709,\tmax: 1.2043\n",
      "iter: 950, min: 0.0203,\tmean: 0.6358,\tmax: 1.1390\n"
     ]
    },
    {
     "data": {
      "text/plain": [
       "(array([[0.95706187, 0.87114008],\n",
       "        [0.91259177, 0.7562615 ]]), 0.020276360620034396)"
      ]
     },
     "execution_count": 10,
     "metadata": {},
     "output_type": "execute_result"
    }
   ],
   "source": [
    "es.run(verbose=True, with_tqdm=False)"
   ]
  },
  {
   "cell_type": "markdown",
   "metadata": {},
   "source": [
    "#### optimum = 0 at (1, ..., 1)"
   ]
  },
  {
   "cell_type": "markdown",
   "metadata": {},
   "source": [
    "### Rastrigin Function\n",
    "##### $f(x) = 10*N + \\sum_{i=1}^N[{x_i^2 - 10*\\cos(2 \\pi * x_i)}]$"
   ]
  },
  {
   "cell_type": "code",
   "execution_count": 11,
   "metadata": {},
   "outputs": [],
   "source": [
    "def rastrigin(population):\n",
    "    dims = population.shape[-1]\n",
    "    return 10*dims + np.array([(ind[0]**2 - 10 * np.cos(2*np.pi * ind[0])).sum() \n",
    "                               for ind in population])"
   ]
  },
  {
   "cell_type": "code",
   "execution_count": 12,
   "metadata": {},
   "outputs": [],
   "source": [
    "dims = 2\n",
    "\n",
    "lr = 0.01\n",
    "tau0, tau = lr/np.sqrt(2 * np.sqrt(dims)), lr/np.sqrt(2*dims)\n",
    "\n",
    "es = ES(domain=(-5.12, 5.12), dims=dims, population_size=1000, offspring_size=500, \n",
    "        parent_choice_method='random', replacement_method='mulambda', tau=tau, \n",
    "        tau0=tau0, cost_func=rastrigin, max_iters=1000)"
   ]
  },
  {
   "cell_type": "code",
   "execution_count": 13,
   "metadata": {},
   "outputs": [
    {
     "name": "stdout",
     "output_type": "stream",
     "text": [
      "iter: 0, min: 1.5322,\tmean: 28.8114,\tmax: 43.3952\n",
      "iter: 50, min: 0.0716,\tmean: 4.5659,\tmax: 6.9633\n",
      "iter: 100, min: 0.0716,\tmean: 3.0529,\tmax: 4.5823\n",
      "iter: 150, min: 0.0716,\tmean: 2.4957,\tmax: 3.6798\n",
      "iter: 200, min: 0.0183,\tmean: 2.1697,\tmax: 3.1063\n",
      "iter: 250, min: 0.0183,\tmean: 1.9713,\tmax: 2.7716\n",
      "iter: 300, min: 0.0183,\tmean: 1.8179,\tmax: 2.5607\n",
      "iter: 350, min: 0.0183,\tmean: 1.6880,\tmax: 2.3708\n",
      "iter: 400, min: 0.0032,\tmean: 1.5825,\tmax: 2.2322\n",
      "iter: 450, min: 0.0032,\tmean: 1.5096,\tmax: 2.1323\n",
      "iter: 500, min: 0.0032,\tmean: 1.4133,\tmax: 2.0382\n",
      "iter: 550, min: 0.0032,\tmean: 1.3327,\tmax: 1.9426\n",
      "iter: 600, min: 0.0032,\tmean: 1.2576,\tmax: 1.8196\n",
      "iter: 650, min: 0.0032,\tmean: 1.2046,\tmax: 1.7297\n",
      "iter: 700, min: 0.0032,\tmean: 1.1575,\tmax: 1.6480\n",
      "iter: 750, min: 0.0032,\tmean: 1.1221,\tmax: 1.5865\n",
      "iter: 800, min: 0.0032,\tmean: 1.0802,\tmax: 1.5239\n",
      "iter: 850, min: 0.0032,\tmean: 1.0475,\tmax: 1.4681\n",
      "iter: 900, min: 0.0032,\tmean: 1.0023,\tmax: 1.4097\n",
      "iter: 950, min: 0.0032,\tmean: 0.9703,\tmax: 1.3778\n"
     ]
    },
    {
     "data": {
      "text/plain": [
       "(array([[ 0.00307666, -0.00260417],\n",
       "        [ 0.82067631,  0.96910184]]), 0.00322329809511146)"
      ]
     },
     "execution_count": 13,
     "metadata": {},
     "output_type": "execute_result"
    }
   ],
   "source": [
    "es.run(verbose=True, with_tqdm=False)"
   ]
  },
  {
   "cell_type": "markdown",
   "metadata": {},
   "source": [
    "#### optimum = 0 at (0, ..., 0)"
   ]
  },
  {
   "cell_type": "markdown",
   "metadata": {},
   "source": [
    "### Griewank Function\n",
    "##### $f(x) = 1 + \\frac{1}{4000}\\sum_{i=1}^Nx_i^2 - \\prod_{i=1}^N\\cos(\\frac{x_i}{\\sqrt i})$"
   ]
  },
  {
   "cell_type": "code",
   "execution_count": 14,
   "metadata": {},
   "outputs": [],
   "source": [
    "def griewank(population):\n",
    "    dims = population.shape[-1]\n",
    "    return 1 + 1/4000*np.array([(ind[0]**2).sum() for ind in population]) -\\\n",
    "        np.prod([np.cos(ind[0] / np.sqrt([i+1 for i in range(dims)])) for ind in population])"
   ]
  },
  {
   "cell_type": "code",
   "execution_count": 15,
   "metadata": {},
   "outputs": [],
   "source": [
    "dims = 2\n",
    "\n",
    "lr = 0.01\n",
    "tau0, tau = lr/np.sqrt(2 * np.sqrt(dims)), lr/np.sqrt(2*dims)\n",
    "\n",
    "es = ES(domain=(-600, 600), dims=dims, population_size=1000, offspring_size=500, \n",
    "        parent_choice_method='random', replacement_method='mulambda', tau=tau, \n",
    "        tau0=tau0, cost_func=griewank, max_iters=1000)"
   ]
  },
  {
   "cell_type": "code",
   "execution_count": 16,
   "metadata": {},
   "outputs": [
    {
     "name": "stdout",
     "output_type": "stream",
     "text": [
      "iter: 0, min: 1.0365,\tmean: 39.9646,\tmax: 77.4934\n",
      "iter: 50, min: 1.0153,\tmean: 1.0185,\tmax: 1.0194\n",
      "iter: 100, min: 1.0129,\tmean: 1.0151,\tmax: 1.0156\n",
      "iter: 150, min: 1.0127,\tmean: 1.0140,\tmax: 1.0144\n",
      "iter: 200, min: 1.0127,\tmean: 1.0135,\tmax: 1.0138\n",
      "iter: 250, min: 1.0127,\tmean: 1.0133,\tmax: 1.0135\n",
      "iter: 300, min: 1.0127,\tmean: 1.0132,\tmax: 1.0134\n",
      "iter: 350, min: 1.0127,\tmean: 1.0131,\tmax: 1.0133\n",
      "iter: 400, min: 1.0127,\tmean: 1.0131,\tmax: 1.0132\n",
      "iter: 450, min: 1.0127,\tmean: 1.0131,\tmax: 1.0132\n",
      "iter: 500, min: 1.0127,\tmean: 1.0130,\tmax: 1.0131\n",
      "iter: 550, min: 1.0127,\tmean: 1.0130,\tmax: 1.0131\n",
      "iter: 600, min: 1.0127,\tmean: 1.0130,\tmax: 1.0131\n",
      "iter: 650, min: 1.0127,\tmean: 1.0130,\tmax: 1.0130\n",
      "iter: 700, min: 1.0127,\tmean: 1.0129,\tmax: 1.0130\n",
      "iter: 750, min: 1.0127,\tmean: 1.0129,\tmax: 1.0130\n",
      "iter: 800, min: 1.0127,\tmean: 1.0129,\tmax: 1.0130\n",
      "iter: 850, min: 1.0127,\tmean: 1.0129,\tmax: 1.0130\n",
      "iter: 900, min: 1.0127,\tmean: 1.0129,\tmax: 1.0130\n",
      "iter: 950, min: 1.0127,\tmean: 1.0129,\tmax: 1.0130\n"
     ]
    },
    {
     "data": {
      "text/plain": [
       "(array([[7.1242794 , 0.05027018],\n",
       "        [1.27523807, 1.34700032]]), 1.0126894710304037)"
      ]
     },
     "execution_count": 16,
     "metadata": {},
     "output_type": "execute_result"
    }
   ],
   "source": [
    "es.run(verbose=True, with_tqdm=False)"
   ]
  },
  {
   "cell_type": "markdown",
   "metadata": {},
   "source": [
    "#### optimum = 0 at (0, ..., 0)"
   ]
  },
  {
   "cell_type": "code",
   "execution_count": null,
   "metadata": {},
   "outputs": [],
   "source": []
  }
 ],
 "metadata": {
  "kernelspec": {
   "display_name": "Python 3",
   "language": "python",
   "name": "python3"
  },
  "language_info": {
   "codemirror_mode": {
    "name": "ipython",
    "version": 3
   },
   "file_extension": ".py",
   "mimetype": "text/x-python",
   "name": "python",
   "nbconvert_exporter": "python",
   "pygments_lexer": "ipython3",
   "version": "3.7.3"
  }
 },
 "nbformat": 4,
 "nbformat_minor": 4
}
