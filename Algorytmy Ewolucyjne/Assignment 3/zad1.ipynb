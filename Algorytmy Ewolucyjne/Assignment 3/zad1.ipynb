{
 "cells": [
  {
   "cell_type": "code",
   "execution_count": 1,
   "metadata": {},
   "outputs": [],
   "source": [
    "import numpy as np\n",
    "from ES import ES"
   ]
  },
  {
   "cell_type": "markdown",
   "metadata": {},
   "source": [
    "# Zadanie 1.\n",
    "a) Zaimplementuj omawiane na wykładzie strategie ewolucyjne ES(μ + λ) i ES(μ, λ).\n",
    "Wskazówka: Algorytmy można zaimplementować w dowolnym języku programowania, ale ze względu na wygodę i wydajność obliczeń (głównie związanych z operacjami wektorowo-macierzowymi i losowaniem danych z rozkładu normalnego) radziłbym używać środowisk dedykowanych do obliczeń wektorowo- macierzowych, m.in. Matlab, Octave lub Python z biblioteką Numpy.\n",
    "\n",
    "b) Zapoznaj się z popularnymi benchmarkami dla optymalizacji globalnej (http://www-optima.amp.i.kyoto-u.ac.jp/member/student/hedar/Hedar_files/TestGO.htm), zarówno problemami optymalizacji bez ograniczeń jak i z ograniczeniami. Wybierz 5 benchmarków bez ograniczeń i użyj zaimplementowanych algorytmów do ich rozwiązywania (wśród wybranych benchmarków powinna znaleźć się co najmniej jedna z następujących funkcji: Griewank Function, Rastrigin Function, Schwefel Function). Dokładnie przeanalizuj działanie algorytmu i otrzymane wyniki. Sprawdź różne ustawienia algorytmu."
   ]
  },
  {
   "cell_type": "markdown",
   "metadata": {},
   "source": [
    "### Sum squares function\n",
    "##### $f(x) = \\sum_{i=1}^n{ix_i^2}$"
   ]
  },
  {
   "cell_type": "code",
   "execution_count": 2,
   "metadata": {},
   "outputs": [],
   "source": [
    "def sum_squares(population):\n",
    "    return np.array(list(map(lambda ind: ind[0]**2 * np.arange(1, len(ind[0])+1), \n",
    "                             population))).sum(axis=1)"
   ]
  },
  {
   "cell_type": "code",
   "execution_count": 3,
   "metadata": {},
   "outputs": [],
   "source": [
    "dims = 3\n",
    "\n",
    "lr = 0.1\n",
    "tau0, tau = lr/np.sqrt(2 * np.sqrt(dims)), lr/np.sqrt(2*dims)\n",
    "\n",
    "es = ES(domain=(-10, 10), dims=3, population_size=1000, offspring_size=500, \n",
    "        parent_choice_method='random', replacement_method='mulambda', tau=tau, \n",
    "        tau0=tau0, cost_func=sum_squares, max_iters=1000)"
   ]
  },
  {
   "cell_type": "code",
   "execution_count": 4,
   "metadata": {},
   "outputs": [
    {
     "name": "stdout",
     "output_type": "stream",
     "text": [
      "iter: 0, min: 1.9113,\tmean: 141.1925,\tmax: 255.3585\n",
      "iter: 50, min: 0.0158,\tmean: 0.8605,\tmax: 1.3963\n",
      "iter: 100, min: 0.0158,\tmean: 0.5286,\tmax: 0.8244\n",
      "iter: 150, min: 0.0048,\tmean: 0.4077,\tmax: 0.6488\n",
      "iter: 200, min: 0.0048,\tmean: 0.3411,\tmax: 0.5341\n",
      "iter: 250, min: 0.0048,\tmean: 0.2986,\tmax: 0.4658\n",
      "iter: 300, min: 0.0048,\tmean: 0.2706,\tmax: 0.4189\n",
      "iter: 350, min: 0.0048,\tmean: 0.2487,\tmax: 0.3816\n",
      "iter: 400, min: 0.0048,\tmean: 0.2325,\tmax: 0.3575\n",
      "iter: 450, min: 0.0048,\tmean: 0.2192,\tmax: 0.3349\n",
      "iter: 500, min: 0.0048,\tmean: 0.2065,\tmax: 0.3163\n",
      "iter: 550, min: 0.0048,\tmean: 0.1950,\tmax: 0.3017\n",
      "iter: 600, min: 0.0048,\tmean: 0.1873,\tmax: 0.2909\n",
      "iter: 650, min: 0.0048,\tmean: 0.1783,\tmax: 0.2774\n",
      "iter: 700, min: 0.0048,\tmean: 0.1707,\tmax: 0.2640\n",
      "iter: 750, min: 0.0048,\tmean: 0.1626,\tmax: 0.2517\n",
      "iter: 800, min: 0.0048,\tmean: 0.1567,\tmax: 0.2429\n",
      "iter: 850, min: 0.0048,\tmean: 0.1515,\tmax: 0.2324\n",
      "iter: 900, min: 0.0048,\tmean: 0.1470,\tmax: 0.2236\n",
      "iter: 950, min: 0.0048,\tmean: 0.1424,\tmax: 0.2157\n"
     ]
    },
    {
     "data": {
      "text/plain": [
       "(array([[-0.06806071,  0.00636301,  0.00662403],\n",
       "        [ 1.11612954,  0.78113462,  1.21401583]]), 0.004844869583364683)"
      ]
     },
     "execution_count": 4,
     "metadata": {},
     "output_type": "execute_result"
    }
   ],
   "source": [
    "es.run(verbose=True, with_tqdm=False)"
   ]
  },
  {
   "cell_type": "markdown",
   "metadata": {},
   "source": [
    "#### optimum = 0 at (0, ..., 0)"
   ]
  },
  {
   "cell_type": "markdown",
   "metadata": {},
   "source": [
    "### Beale Function\n",
    "##### $f(x) = (1.5 - x_1 + x_1*x_2)^2 + (2.25 - x_1 + x_1*x_2^2)^2 + (2.625 - x_1 + x_1*x_2^3)^2$"
   ]
  },
  {
   "cell_type": "code",
   "execution_count": 5,
   "metadata": {},
   "outputs": [],
   "source": [
    "def beale(population):\n",
    "    return np.array([(1.5 - ind[0][0] + ind[0][0]*ind[0][1])**2 + \\\n",
    "                     (2.25 - ind[0][0] + ind[0][0]*ind[0][1]**2)**2 + \\\n",
    "                     (2.625 - ind[0][0] + ind[0][0]*ind[0][1]**3)**2\n",
    "                     for ind in population])"
   ]
  },
  {
   "cell_type": "code",
   "execution_count": 6,
   "metadata": {},
   "outputs": [],
   "source": [
    "dims = 2\n",
    "\n",
    "lr = 0.01\n",
    "tau0, tau = lr/np.sqrt(2 * np.sqrt(dims)), lr/np.sqrt(2*dims)\n",
    "\n",
    "es = ES(domain=(-4.5, 4.5), dims=dims, population_size=1000, offspring_size=500, \n",
    "        parent_choice_method='random', replacement_method='mulambda', tau=tau, \n",
    "        tau0=tau0, cost_func=beale, max_iters=1000)"
   ]
  },
  {
   "cell_type": "code",
   "execution_count": 7,
   "metadata": {},
   "outputs": [
    {
     "name": "stdout",
     "output_type": "stream",
     "text": [
      "iter: 0, min: 0.0158,\tmean: 362.9922,\tmax: 2546.0265\n",
      "iter: 50, min: 0.0001,\tmean: 0.0413,\tmax: 0.0763\n",
      "iter: 100, min: 0.0000,\tmean: 0.0217,\tmax: 0.0392\n",
      "iter: 150, min: 0.0000,\tmean: 0.0143,\tmax: 0.0257\n",
      "iter: 200, min: 0.0000,\tmean: 0.0110,\tmax: 0.0202\n",
      "iter: 250, min: 0.0000,\tmean: 0.0086,\tmax: 0.0158\n",
      "iter: 300, min: 0.0000,\tmean: 0.0072,\tmax: 0.0130\n",
      "iter: 350, min: 0.0000,\tmean: 0.0063,\tmax: 0.0114\n",
      "iter: 400, min: 0.0000,\tmean: 0.0057,\tmax: 0.0102\n",
      "iter: 450, min: 0.0000,\tmean: 0.0050,\tmax: 0.0090\n",
      "iter: 500, min: 0.0000,\tmean: 0.0045,\tmax: 0.0081\n",
      "iter: 550, min: 0.0000,\tmean: 0.0041,\tmax: 0.0074\n",
      "iter: 600, min: 0.0000,\tmean: 0.0038,\tmax: 0.0068\n",
      "iter: 650, min: 0.0000,\tmean: 0.0035,\tmax: 0.0064\n",
      "iter: 700, min: 0.0000,\tmean: 0.0033,\tmax: 0.0059\n",
      "iter: 750, min: 0.0000,\tmean: 0.0031,\tmax: 0.0055\n",
      "iter: 800, min: 0.0000,\tmean: 0.0028,\tmax: 0.0051\n",
      "iter: 850, min: 0.0000,\tmean: 0.0027,\tmax: 0.0049\n",
      "iter: 900, min: 0.0000,\tmean: 0.0025,\tmax: 0.0046\n",
      "iter: 950, min: 0.0000,\tmean: 0.0024,\tmax: 0.0044\n"
     ]
    },
    {
     "data": {
      "text/plain": [
       "(array([[3.00246919, 0.50058646],\n",
       "        [0.72372268, 0.61441832]]), 9.879019544200851e-07)"
      ]
     },
     "execution_count": 7,
     "metadata": {},
     "output_type": "execute_result"
    }
   ],
   "source": [
    "es.run(verbose=True, with_tqdm=False)"
   ]
  },
  {
   "cell_type": "markdown",
   "metadata": {},
   "source": [
    "#### optimum = 0 at (3, 0.5)"
   ]
  },
  {
   "cell_type": "markdown",
   "metadata": {},
   "source": [
    "### Rosenbrock Function\n",
    "##### $f(x) = \\sum_{i=1}^{N-1}[100 * (x_{i}^2 - x_{i+1})^2 + (1 - x_i)^2]$"
   ]
  },
  {
   "cell_type": "code",
   "execution_count": 8,
   "metadata": {},
   "outputs": [],
   "source": [
    "def rosenbrock(population):\n",
    "    return np.array([(100*(ind[:-1]**2 - ind[1:])**2 + (ind[:-1] - 1)**2).sum() \n",
    "                     for ind in population])"
   ]
  },
  {
   "cell_type": "code",
   "execution_count": 9,
   "metadata": {},
   "outputs": [],
   "source": [
    "dims = 5\n",
    "\n",
    "lr = 0.01\n",
    "tau0, tau = lr/np.sqrt(2 * np.sqrt(dims)), lr/np.sqrt(2*dims)\n",
    "\n",
    "es = ES(domain=(-5, 10), dims=dims, population_size=1000, offspring_size=500, \n",
    "        parent_choice_method='random', replacement_method='mulambda', tau=tau, \n",
    "        tau0=tau0, cost_func=rosenbrock, max_iters=1000)"
   ]
  },
  {
   "cell_type": "code",
   "execution_count": 10,
   "metadata": {},
   "outputs": [
    {
     "name": "stdout",
     "output_type": "stream",
     "text": [
      "iter: 0, min: 786.5203,\tmean: 377375.4883,\tmax: 880433.2480\n",
      "iter: 50, min: 22.1357,\tmean: 169.0428,\tmax: 235.0711\n",
      "iter: 100, min: 22.1357,\tmean: 135.1299,\tmax: 183.1101\n",
      "iter: 150, min: 21.5592,\tmean: 121.6782,\tmax: 164.3747\n",
      "iter: 200, min: 19.3808,\tmean: 112.3789,\tmax: 151.7747\n",
      "iter: 250, min: 19.3808,\tmean: 106.2888,\tmax: 143.0695\n",
      "iter: 300, min: 19.3808,\tmean: 101.4564,\tmax: 136.7199\n",
      "iter: 350, min: 19.3808,\tmean: 97.1006,\tmax: 130.8402\n",
      "iter: 400, min: 19.3808,\tmean: 94.1730,\tmax: 125.6281\n",
      "iter: 450, min: 19.3808,\tmean: 91.3468,\tmax: 121.4198\n",
      "iter: 500, min: 19.3808,\tmean: 89.2245,\tmax: 118.4501\n",
      "iter: 550, min: 19.3808,\tmean: 87.4577,\tmax: 116.1967\n",
      "iter: 600, min: 10.0937,\tmean: 85.3959,\tmax: 113.0699\n",
      "iter: 650, min: 10.0937,\tmean: 83.8917,\tmax: 110.7672\n",
      "iter: 700, min: 10.0937,\tmean: 82.7369,\tmax: 108.8860\n",
      "iter: 750, min: 10.0937,\tmean: 80.9020,\tmax: 106.1784\n",
      "iter: 800, min: 10.0937,\tmean: 79.7114,\tmax: 104.3869\n",
      "iter: 850, min: 10.0937,\tmean: 78.7498,\tmax: 103.2109\n",
      "iter: 900, min: 10.0937,\tmean: 78.0947,\tmax: 102.1179\n",
      "iter: 950, min: 10.0937,\tmean: 77.0950,\tmax: 100.7675\n"
     ]
    },
    {
     "data": {
      "text/plain": [
       "(array([[ 1.0422597 , -0.82514416,  1.10067054,  1.29108493,  0.95218021],\n",
       "        [ 0.99121122,  0.70242561,  1.0264286 ,  1.51683592,  0.8875134 ]]),\n",
       " 10.093654297470774)"
      ]
     },
     "execution_count": 10,
     "metadata": {},
     "output_type": "execute_result"
    }
   ],
   "source": [
    "es.run(verbose=True, with_tqdm=False)"
   ]
  },
  {
   "cell_type": "markdown",
   "metadata": {},
   "source": [
    "#### optimum = 0 at (1, ..., 1)"
   ]
  },
  {
   "cell_type": "markdown",
   "metadata": {},
   "source": [
    "### Rastrigin Function\n",
    "##### $f(x) = 10*N + \\sum_{i=1}^N{x_i^2 - 10*\\cos(2 \\pi * x_i)}$"
   ]
  },
  {
   "cell_type": "code",
   "execution_count": 11,
   "metadata": {},
   "outputs": [],
   "source": [
    "def rastrigin(population):\n",
    "    dims = population.shape[-1]\n",
    "    return 10*dims + np.array([(ind[0]**2 - 10 * np.cos(2*np.pi * ind[0])).sum() \n",
    "                               for ind in population])"
   ]
  },
  {
   "cell_type": "code",
   "execution_count": 12,
   "metadata": {},
   "outputs": [],
   "source": [
    "dims = 5\n",
    "\n",
    "lr = 0.01\n",
    "tau0, tau = lr/np.sqrt(2 * np.sqrt(dims)), lr/np.sqrt(2*dims)\n",
    "\n",
    "es = ES(domain=(-5.12, 5.12), dims=dims, population_size=1000, offspring_size=500, \n",
    "        parent_choice_method='random', replacement_method='mulambda', tau=tau, \n",
    "        tau0=tau0, cost_func=rastrigin, max_iters=1000)"
   ]
  },
  {
   "cell_type": "code",
   "execution_count": 13,
   "metadata": {},
   "outputs": [
    {
     "name": "stdout",
     "output_type": "stream",
     "text": [
      "iter: 0, min: 30.0286,\tmean: 80.2247,\tmax: 102.5705\n",
      "iter: 50, min: 9.1147,\tmean: 31.8152,\tmax: 38.2822\n",
      "iter: 100, min: 9.1147,\tmean: 26.7606,\tmax: 32.3358\n",
      "iter: 150, min: 9.1147,\tmean: 24.7079,\tmax: 29.5018\n",
      "iter: 200, min: 9.1147,\tmean: 23.1439,\tmax: 27.8368\n",
      "iter: 250, min: 6.8540,\tmean: 22.0624,\tmax: 26.7004\n",
      "iter: 300, min: 6.8540,\tmean: 21.3863,\tmax: 25.6773\n",
      "iter: 350, min: 6.8540,\tmean: 20.7584,\tmax: 24.9389\n",
      "iter: 400, min: 6.8540,\tmean: 20.2571,\tmax: 24.2962\n",
      "iter: 450, min: 6.8540,\tmean: 19.8797,\tmax: 23.8096\n",
      "iter: 500, min: 6.8540,\tmean: 19.4873,\tmax: 23.4027\n",
      "iter: 550, min: 6.8540,\tmean: 19.1025,\tmax: 22.9551\n",
      "iter: 600, min: 6.8540,\tmean: 18.7825,\tmax: 22.5031\n",
      "iter: 650, min: 6.8540,\tmean: 18.5062,\tmax: 22.1189\n",
      "iter: 700, min: 6.8540,\tmean: 18.2682,\tmax: 21.7995\n",
      "iter: 750, min: 6.8540,\tmean: 18.1024,\tmax: 21.5758\n",
      "iter: 800, min: 6.8540,\tmean: 17.8676,\tmax: 21.2598\n",
      "iter: 850, min: 6.8540,\tmean: 17.6685,\tmax: 21.0778\n",
      "iter: 900, min: 6.8540,\tmean: 17.4856,\tmax: 20.8674\n",
      "iter: 950, min: 6.8540,\tmean: 17.3420,\tmax: 20.6542\n"
     ]
    },
    {
     "data": {
      "text/plain": [
       "(array([[ 0.96845795, -0.93005058,  1.02664718,  0.04356007,  0.1107453 ],\n",
       "        [ 0.81315838,  0.6282441 ,  1.04531596,  1.08050511,  1.11374678]]),\n",
       " 6.854043981799556)"
      ]
     },
     "execution_count": 13,
     "metadata": {},
     "output_type": "execute_result"
    }
   ],
   "source": [
    "es.run(verbose=True, with_tqdm=False)"
   ]
  },
  {
   "cell_type": "markdown",
   "metadata": {},
   "source": [
    "#### optimum = 0 at (0, ..., 0)"
   ]
  },
  {
   "cell_type": "markdown",
   "metadata": {},
   "source": [
    "### Griewank Function\n",
    "##### $f(x) = 1 + \\frac{1}{4000}\\sum_{i=1}^Nx_i^2 - \\prod_{i=1}^N\\cos(\\frac{x_i}{\\sqrt i})$"
   ]
  },
  {
   "cell_type": "code",
   "execution_count": 14,
   "metadata": {},
   "outputs": [],
   "source": [
    "def griewank(population):\n",
    "    dims = population.shape[-1]\n",
    "    return 1 + 1/4000*np.array([(ind[0]**2).sum() for ind in population]) -\\\n",
    "        np.prod([np.cos(ind[0] / np.sqrt([i+1 for i in range(dims)])) for ind in population])"
   ]
  },
  {
   "cell_type": "code",
   "execution_count": 15,
   "metadata": {},
   "outputs": [],
   "source": [
    "dims = 2\n",
    "\n",
    "lr = 0.01\n",
    "tau0, tau = lr/np.sqrt(2 * np.sqrt(dims)), lr/np.sqrt(2*dims)\n",
    "\n",
    "es = ES(domain=(-600, 600), dims=dims, population_size=1000, offspring_size=500, \n",
    "        parent_choice_method='random', replacement_method='mulambda', tau=tau, \n",
    "        tau0=tau0, cost_func=griewank, max_iters=1000)"
   ]
  },
  {
   "cell_type": "code",
   "execution_count": 16,
   "metadata": {},
   "outputs": [
    {
     "name": "stdout",
     "output_type": "stream",
     "text": [
      "iter: 0, min: 1.1771,\tmean: 38.9978,\tmax: 76.7079\n",
      "iter: 50, min: 1.1002,\tmean: 1.1126,\tmax: 1.1160\n",
      "iter: 100, min: 1.0472,\tmean: 1.0540,\tmax: 1.0558\n",
      "iter: 150, min: 1.0302,\tmean: 1.0355,\tmax: 1.0367\n",
      "iter: 200, min: 1.0255,\tmean: 1.0290,\tmax: 1.0297\n",
      "iter: 250, min: 1.0233,\tmean: 1.0256,\tmax: 1.0261\n",
      "iter: 300, min: 1.0221,\tmean: 1.0240,\tmax: 1.0245\n",
      "iter: 350, min: 1.0221,\tmean: 1.0232,\tmax: 1.0236\n",
      "iter: 400, min: 1.0215,\tmean: 1.0227,\tmax: 1.0230\n",
      "iter: 450, min: 1.0212,\tmean: 1.0223,\tmax: 1.0226\n",
      "iter: 500, min: 1.0209,\tmean: 1.0220,\tmax: 1.0222\n",
      "iter: 550, min: 1.0209,\tmean: 1.0217,\tmax: 1.0219\n",
      "iter: 600, min: 1.0209,\tmean: 1.0215,\tmax: 1.0217\n",
      "iter: 650, min: 1.0209,\tmean: 1.0214,\tmax: 1.0215\n",
      "iter: 700, min: 1.0208,\tmean: 1.0213,\tmax: 1.0214\n",
      "iter: 750, min: 1.0208,\tmean: 1.0212,\tmax: 1.0213\n",
      "iter: 800, min: 1.0207,\tmean: 1.0211,\tmax: 1.0213\n",
      "iter: 850, min: 1.0207,\tmean: 1.0211,\tmax: 1.0212\n",
      "iter: 900, min: 1.0207,\tmean: 1.0211,\tmax: 1.0212\n",
      "iter: 950, min: 1.0207,\tmean: 1.0210,\tmax: 1.0211\n"
     ]
    },
    {
     "data": {
      "text/plain": [
       "(array([[ 9.10450568e+00, -3.33100927e-03],\n",
       "        [ 1.65751397e+00,  8.05088380e-01]]), 1.0207230087054966)"
      ]
     },
     "execution_count": 16,
     "metadata": {},
     "output_type": "execute_result"
    }
   ],
   "source": [
    "es.run(verbose=True, with_tqdm=False)"
   ]
  },
  {
   "cell_type": "markdown",
   "metadata": {},
   "source": [
    "#### optimum = 0 at (0, ..., 0)"
   ]
  },
  {
   "cell_type": "code",
   "execution_count": null,
   "metadata": {},
   "outputs": [],
   "source": []
  }
 ],
 "metadata": {
  "kernelspec": {
   "display_name": "Python 3",
   "language": "python",
   "name": "python3"
  },
  "language_info": {
   "codemirror_mode": {
    "name": "ipython",
    "version": 3
   },
   "file_extension": ".py",
   "mimetype": "text/x-python",
   "name": "python",
   "nbconvert_exporter": "python",
   "pygments_lexer": "ipython3",
   "version": "3.7.3"
  }
 },
 "nbformat": 4,
 "nbformat_minor": 4
}
