{
 "cells": [
  {
   "cell_type": "code",
   "execution_count": 1,
   "metadata": {},
   "outputs": [],
   "source": [
    "from ES import ES\n",
    "import numpy as np"
   ]
  },
  {
   "cell_type": "markdown",
   "metadata": {},
   "source": [
    "## Zadanie 2.\n",
    "Przystosuj zaimplementowane algorytmy do rozwiązywania problemów optymalizacji z ograniczeniami (według własnych pomysłów). Wybierz 5 benchmarków z ograniczeniami i użyj zaimplementowanych algorytmów do ich rozwiązywania. Dokładnie przeanalizuj działanie algorytmu i otrzymane wyniki. Sprawdź różne ustawienia algorytmu.\n",
    "\n",
    "http://www-optima.amp.i.kyoto-u.ac.jp/member/student/hedar/Hedar_files/TestGO_files/Page422.htm"
   ]
  },
  {
   "cell_type": "markdown",
   "metadata": {},
   "source": [
    "#### Used benchmarks:\n",
    "- G1 Problem\n",
    "- G2 Problem\n",
    "- G6 Problem\n",
    "- G8 Problem\n",
    "- G10 Problem"
   ]
  },
  {
   "cell_type": "markdown",
   "metadata": {},
   "source": [
    "### G1 Problem\n",
    "$f(x) = 5\\sum_{i=1}^4 x_i - 5\\sum_{i=1}^4 x_i^2 - \\sum_{i=5}^{13}x_i \\\\\\\\\n",
    "s.t. g_1(x) =  2x_1 + 2_2 + x_{10} + x_{11} - 10 \\leq 0 \\\\\\\\\n",
    "\\qquad g_2(x) = 2x_1 + 2x_2 + x_{10} + x_{12} - 10 \\leq 0 \\\\\\\\\n",
    "\\qquad g_3(x) = 2x_1 + 2x_2 + x_{10} + x_{12} - 10 \\leq 0 \\\\\\\\\n",
    "\\qquad g_4(x) = - 8x_1 + x_{10} \\leq 0 \\\\\\\\\n",
    "\\qquad g_5(x) = - 8x_3 + x_{12} \\leq 0 \\\\\\\\\n",
    "\\qquad g_6(x) = - 8x_3 + x_{12} \\leq 0 \\\\\\\\\n",
    "\\qquad g_7(x) = - 2x_4 - x_5 + x_{10} \\leq 0 \\\\\\\\\n",
    "\\qquad g_8(x) = - 2x_6 - x_8 + x_{11} \\leq 0 \\\\\\\\\n",
    "\\qquad g_9(x) = - 2x_8 - x_9 + x_{12} \\leq 0$"
   ]
  },
  {
   "cell_type": "code",
   "execution_count": 9,
   "metadata": {},
   "outputs": [],
   "source": [
    "def g1p(population):\n",
    "    g1v = np.array([2*x[0] + 2*x[1] + x[9] + x[10] - 10 for x in population[:, 0]])\n",
    "    g2v = np.array([2*x[0] + 2*x[2] + x[9] + x[11] - 10 for x in population[:, 0]])\n",
    "    g3v = np.array([2*x[1] + 2*x[2] + x[10] + x[11] - 10 for x in population[:, 0]])\n",
    "    g4v = np.array([-8*x[0] + x[9] for x in population[:, 0]])\n",
    "    g5v = np.array([-8*x[2] + x[11] for x in population[:, 0]])\n",
    "    g6v = np.array([-8*x[2] + x[11] for x in population[:, 0]])\n",
    "    g7v = np.array([-2*x[3] - x[4] + x[9] for x in population[:, 0]])\n",
    "    g8v = np.array([-2*x[5] - x[6] + x[10] for x in population[:, 0]])\n",
    "    g9v = np.array([-2*x[7] - x[8] + x[11] for x in population[:, 0]])\n",
    "    \n",
    "    costs = np.array([5*sum(x[:4]) - 5*sum(x[:4]**2) - sum(x[4:]) for x in population[:,0]])\n",
    "    not_good_constrains = np.sum(np.vstack((g1v > 0, g2v > 0, g3v > 0, g4v > 0, g5v > 0, g6v > 0, g7v > 0, g8v > 0, g9v > 0)), axis=0)\n",
    "    costs += 1e10 * not_good_constrains\n",
    "    \n",
    "    return costs"
   ]
  },
  {
   "cell_type": "code",
   "execution_count": 15,
   "metadata": {},
   "outputs": [
    {
     "name": "stdout",
     "output_type": "stream",
     "text": [
      "iter: 0,\tmin: 4e+10,\tmean: 8.731e+10,\tmax: 9e+10\n",
      "iter: 200,\tmin: 1e+10,\tmean: 5.517e+10,\tmax: 6e+10\n",
      "iter: 400,\tmin: 1e+10,\tmean: 5.071e+10,\tmax: 6e+10\n",
      "iter: 600,\tmin: 1e+10,\tmean: 4.64e+10,\tmax: 6e+10\n",
      "iter: 800,\tmin: 1e+10,\tmean: 4.42e+10,\tmax: 5e+10\n",
      "iter: 1000,\tmin: 1e+10,\tmean: 4.262e+10,\tmax: 5e+10\n",
      "iter: 1200,\tmin: 1e+10,\tmean: 4.104e+10,\tmax: 5e+10\n",
      "iter: 1400,\tmin: 1e+10,\tmean: 3.956e+10,\tmax: 5e+10\n",
      "iter: 1600,\tmin: -1.7479,\tmean: 3.803e+10,\tmax: 5e+10\n",
      "iter: 1800,\tmin: -1.7479,\tmean: 3.688e+10,\tmax: 4e+10\n",
      "iter: 2000,\tmin: -1.7479,\tmean: 3.653e+10,\tmax: 4e+10\n",
      "iter: 2200,\tmin: -1.7479,\tmean: 3.623e+10,\tmax: 4e+10\n",
      "iter: 2400,\tmin: -1.7479,\tmean: 3.592e+10,\tmax: 4e+10\n",
      "iter: 2600,\tmin: -1.7479,\tmean: 3.537e+10,\tmax: 4e+10\n",
      "iter: 2800,\tmin: -1.7479,\tmean: 3.49e+10,\tmax: 4e+10\n",
      "iter: 3000,\tmin: -1.7479,\tmean: 3.467e+10,\tmax: 4e+10\n",
      "iter: 3200,\tmin: -1.7479,\tmean: 3.429e+10,\tmax: 4e+10\n",
      "iter: 3400,\tmin: -1.7479,\tmean: 3.391e+10,\tmax: 4e+10\n",
      "iter: 3600,\tmin: -1.7479,\tmean: 3.358e+10,\tmax: 4e+10\n",
      "iter: 3800,\tmin: -1.7479,\tmean: 3.324e+10,\tmax: 4e+10\n",
      "iter: 4000,\tmin: -1.7479,\tmean: 3.291e+10,\tmax: 4e+10\n",
      "iter: 4200,\tmin: -3.3906,\tmean: 3.249e+10,\tmax: 4e+10\n",
      "iter: 4400,\tmin: -3.3906,\tmean: 3.213e+10,\tmax: 4e+10\n",
      "iter: 4600,\tmin: -3.3906,\tmean: 3.185e+10,\tmax: 4e+10\n",
      "iter: 4800,\tmin: -3.3906,\tmean: 3.152e+10,\tmax: 4e+10\n",
      "iter: 5000,\tmin: -3.3906,\tmean: 3.111e+10,\tmax: 4e+10\n",
      "iter: 5200,\tmin: -3.3906,\tmean: 3.081e+10,\tmax: 4e+10\n",
      "iter: 5400,\tmin: -3.3906,\tmean: 3.043e+10,\tmax: 4e+10\n",
      "iter: 5600,\tmin: -3.3906,\tmean: 3.01e+10,\tmax: 4e+10\n",
      "iter: 5800,\tmin: -3.3906,\tmean: 2.975e+10,\tmax: 4e+10\n",
      "iter: 6000,\tmin: -3.3906,\tmean: 2.939e+10,\tmax: 4e+10\n",
      "iter: 6200,\tmin: -3.3906,\tmean: 2.895e+10,\tmax: 4e+10\n",
      "iter: 6400,\tmin: -3.3906,\tmean: 2.847e+10,\tmax: 4e+10\n",
      "iter: 6600,\tmin: -6.1455,\tmean: 2.798e+10,\tmax: 4e+10\n",
      "iter: 6800,\tmin: -6.1455,\tmean: 2.758e+10,\tmax: 4e+10\n",
      "iter: 7000,\tmin: -6.1455,\tmean: 2.713e+10,\tmax: 4e+10\n",
      "iter: 7200,\tmin: -6.1455,\tmean: 2.696e+10,\tmax: 3e+10\n",
      "iter: 7400,\tmin: -6.1455,\tmean: 2.685e+10,\tmax: 3e+10\n",
      "iter: 7600,\tmin: -6.1455,\tmean: 2.676e+10,\tmax: 3e+10\n",
      "iter: 7800,\tmin: -6.1455,\tmean: 2.663e+10,\tmax: 3e+10\n",
      "iter: 8000,\tmin: -6.1455,\tmean: 2.648e+10,\tmax: 3e+10\n",
      "iter: 8200,\tmin: -6.1455,\tmean: 2.636e+10,\tmax: 3e+10\n",
      "iter: 8400,\tmin: -6.1455,\tmean: 2.622e+10,\tmax: 3e+10\n",
      "iter: 8600,\tmin: -6.1455,\tmean: 2.613e+10,\tmax: 3e+10\n",
      "iter: 8800,\tmin: -6.1455,\tmean: 2.603e+10,\tmax: 3e+10\n",
      "iter: 9000,\tmin: -6.1455,\tmean: 2.586e+10,\tmax: 3e+10\n",
      "iter: 9200,\tmin: -6.1455,\tmean: 2.566e+10,\tmax: 3e+10\n",
      "iter: 9400,\tmin: -6.1455,\tmean: 2.561e+10,\tmax: 3e+10\n",
      "iter: 9600,\tmin: -6.1455,\tmean: 2.557e+10,\tmax: 3e+10\n",
      "iter: 9800,\tmin: -6.1455,\tmean: 2.546e+10,\tmax: 3e+10\n"
     ]
    },
    {
     "data": {
      "image/png": "[encoded data removed]",
      "text/plain": [
       "<Figure size 720x432 with 1 Axes>"
      ]
     },
     "metadata": {
      "needs_background": "light"
     },
     "output_type": "display_data"
    },
    {
     "name": "stdout",
     "output_type": "stream",
     "text": [
      "\n",
      "Best cost function: -6.14554 at iter: 6564\n"
     ]
    }
   ],
   "source": [
    "dims = 13\n",
    "\n",
    "lr = 0.01\n",
    "tau0, tau = lr/np.sqrt(2 * np.sqrt(dims)), lr/np.sqrt(2*dims)\n",
    "\n",
    "domain = [(0, 1), (0, 1), (0, 1), (0, 1), (0, 1), (0, 1), (0, 1), (0, 1), (0, 1), (0, 100), (0, 100), (0, 100), (0, 1)]\n",
    "\n",
    "es = ES(domain=domain, dims=dims, population_size=1000, offspring_size=500, \n",
    "        parent_choice_method='roulette', replacement_method='mulambda', tau=tau, \n",
    "        tau0=tau0, cost_func=g1p, max_iters=10000)\n",
    "\n",
    "es.run(verbose=True, with_tqdm=False, log_interv=200)\n",
    "es.history(glob_min=-15, with_plot=True)"
   ]
  },
  {
   "cell_type": "markdown",
   "metadata": {},
   "source": [
    "#### optimum = -15 at (1, ..., 1, 3, 3, 3, 1)"
   ]
  },
  {
   "cell_type": "code",
   "execution_count": 16,
   "metadata": {},
   "outputs": [
    {
     "data": {
      "text/plain": [
       "array([0.53581473, 0.07620481, 0.37195766, 0.94441797, 0.52559474,\n",
       "       0.93670571, 0.69090056, 0.91409842, 0.88938444, 1.00223445,\n",
       "       1.70835882, 2.22887811, 0.2754492 ])"
      ]
     },
     "execution_count": 16,
     "metadata": {},
     "output_type": "execute_result"
    }
   ],
   "source": [
    "es.best_ind[0]"
   ]
  },
  {
   "cell_type": "markdown",
   "metadata": {},
   "source": [
    "### G2 Problem (modified by adding '-' because we want to minimize cost function)\n",
    "$f(x) = - |\\frac{\\sum_{i=1}^n \\cos ^4(x_i) - 2 \\prod_{i=1}^{n} \\cos ^2(x_i)}{\\sqrt{ \\sum_{i=1}^ni x_i^2}}| \\\\\\\\\n",
    "s.t. g_1(x) = - \\prod_{i=1}^{n}x_i + 0.75 \\leq 0,\\\\\\\\\n",
    "\\qquad g_2(x) = \\sum_{i=1}^{n}x_i - 7.5n \\leq 0$"
   ]
  },
  {
   "cell_type": "code",
   "execution_count": 5,
   "metadata": {},
   "outputs": [],
   "source": [
    "def g2p(population):\n",
    "    dims = population.shape[-1]\n",
    "    g1v = np.array([-np.prod(x) + 0.75 for x in population[:,0]])\n",
    "    g2v = np.array([np.sum(x) - 7.5*len(x) for x in population[:,0]])\n",
    "    costs = - np.abs(np.array([((np.cos(x)**4).sum() - 2*np.prod(np.cos(x)**2)) / \\\n",
    "                               np.sqrt((x**2 * np.arange(1, dims+1)).sum()) \n",
    "                               for x in population[:,0]]))\n",
    "    \n",
    "    not_good_constrains = np.sum(np.vstack((g1v > 0, g2v > 0)), axis=0)\n",
    "    costs += 1e10 * not_good_constrains\n",
    "    \n",
    "    return costs"
   ]
  },
  {
   "cell_type": "code",
   "execution_count": 6,
   "metadata": {},
   "outputs": [],
   "source": [
    "dims = 20\n",
    "\n",
    "lr = 0.01\n",
    "tau0, tau = lr/np.sqrt(2 * np.sqrt(dims)), lr/np.sqrt(2*dims)\n",
    "\n",
    "es = ES(domain=(0, 10), dims=dims, population_size=1000, offspring_size=1000, \n",
    "        parent_choice_method='roulette', replacement_method='mulambda', tau=tau, \n",
    "        tau0=tau0, cost_func=g2p, max_iters=10000)"
   ]
  },
  {
   "cell_type": "code",
   "execution_count": 7,
   "metadata": {},
   "outputs": [
    {
     "name": "stdout",
     "output_type": "stream",
     "text": [
      "iter: 0,\tmin: -0.18886,\tmean: -0.11533,\tmax: -0.095852\n",
      "iter: 200,\tmin: -0.51278,\tmean: -0.36728,\tmax: -0.34092\n",
      "iter: 400,\tmin: -0.53117,\tmean: -0.39692,\tmax: -0.37174\n",
      "iter: 600,\tmin: -0.53117,\tmean: -0.41371,\tmax: -0.38872\n",
      "iter: 800,\tmin: -0.54372,\tmean: -0.42487,\tmax: -0.4001\n",
      "iter: 1000,\tmin: -0.54372,\tmean: -0.4324,\tmax: -0.40876\n",
      "iter: 1200,\tmin: -0.56045,\tmean: -0.4392,\tmax: -0.41643\n",
      "iter: 1400,\tmin: -0.56045,\tmean: -0.44569,\tmax: -0.42243\n",
      "iter: 1600,\tmin: -0.58997,\tmean: -0.45081,\tmax: -0.42729\n",
      "iter: 1800,\tmin: -0.58997,\tmean: -0.45475,\tmax: -0.43154\n",
      "iter: 2000,\tmin: -0.58997,\tmean: -0.45779,\tmax: -0.43489\n",
      "iter: 2200,\tmin: -0.58997,\tmean: -0.46076,\tmax: -0.43808\n",
      "iter: 2400,\tmin: -0.58997,\tmean: -0.46371,\tmax: -0.44112\n",
      "iter: 2600,\tmin: -0.58997,\tmean: -0.46689,\tmax: -0.44454\n",
      "iter: 2800,\tmin: -0.58997,\tmean: -0.46955,\tmax: -0.44723\n",
      "iter: 3000,\tmin: -0.58997,\tmean: -0.47195,\tmax: -0.44975\n",
      "iter: 3200,\tmin: -0.58997,\tmean: -0.4739,\tmax: -0.4522\n",
      "iter: 3400,\tmin: -0.58997,\tmean: -0.47588,\tmax: -0.45452\n",
      "iter: 3600,\tmin: -0.58997,\tmean: -0.47781,\tmax: -0.45628\n",
      "iter: 3800,\tmin: -0.58997,\tmean: -0.47996,\tmax: -0.45868\n",
      "iter: 4000,\tmin: -0.58997,\tmean: -0.48147,\tmax: -0.45998\n",
      "iter: 4200,\tmin: -0.58997,\tmean: -0.48318,\tmax: -0.46174\n",
      "iter: 4400,\tmin: -0.58997,\tmean: -0.48473,\tmax: -0.46323\n",
      "iter: 4600,\tmin: -0.58997,\tmean: -0.48614,\tmax: -0.46485\n",
      "iter: 4800,\tmin: -0.58997,\tmean: -0.48749,\tmax: -0.46655\n",
      "iter: 5000,\tmin: -0.58997,\tmean: -0.48882,\tmax: -0.46811\n",
      "iter: 5200,\tmin: -0.58997,\tmean: -0.49037,\tmax: -0.46939\n",
      "iter: 5400,\tmin: -0.58997,\tmean: -0.49162,\tmax: -0.47039\n",
      "iter: 5600,\tmin: -0.58997,\tmean: -0.49302,\tmax: -0.47181\n",
      "iter: 5800,\tmin: -0.59575,\tmean: -0.49411,\tmax: -0.47327\n",
      "iter: 6000,\tmin: -0.59575,\tmean: -0.49562,\tmax: -0.47463\n",
      "iter: 6200,\tmin: -0.59575,\tmean: -0.49675,\tmax: -0.47575\n",
      "iter: 6400,\tmin: -0.59575,\tmean: -0.49829,\tmax: -0.47701\n",
      "iter: 6600,\tmin: -0.59575,\tmean: -0.49931,\tmax: -0.4783\n",
      "iter: 6800,\tmin: -0.59575,\tmean: -0.50061,\tmax: -0.47945\n",
      "iter: 7000,\tmin: -0.59575,\tmean: -0.5016,\tmax: -0.48066\n",
      "iter: 7200,\tmin: -0.59857,\tmean: -0.50241,\tmax: -0.4813\n",
      "iter: 7400,\tmin: -0.60333,\tmean: -0.5032,\tmax: -0.48232\n",
      "iter: 7600,\tmin: -0.60333,\tmean: -0.50398,\tmax: -0.48312\n",
      "iter: 7800,\tmin: -0.60333,\tmean: -0.50467,\tmax: -0.48406\n",
      "iter: 8000,\tmin: -0.60333,\tmean: -0.5054,\tmax: -0.48521\n",
      "iter: 8200,\tmin: -0.60333,\tmean: -0.50613,\tmax: -0.48608\n",
      "iter: 8400,\tmin: -0.60333,\tmean: -0.50737,\tmax: -0.48701\n",
      "iter: 8600,\tmin: -0.60333,\tmean: -0.50799,\tmax: -0.48823\n",
      "iter: 8800,\tmin: -0.60333,\tmean: -0.50836,\tmax: -0.48874\n",
      "iter: 9000,\tmin: -0.60333,\tmean: -0.50888,\tmax: -0.4893\n",
      "iter: 9200,\tmin: -0.60333,\tmean: -0.50964,\tmax: -0.48995\n",
      "iter: 9400,\tmin: -0.60333,\tmean: -0.51004,\tmax: -0.49039\n",
      "iter: 9600,\tmin: -0.60333,\tmean: -0.51045,\tmax: -0.49095\n",
      "iter: 9800,\tmin: -0.60333,\tmean: -0.51096,\tmax: -0.49162\n"
     ]
    },
    {
     "data": {
      "image/png": "[encoded data removed]",
      "text/plain": [
       "<Figure size 720x432 with 1 Axes>"
      ]
     },
     "metadata": {
      "needs_background": "light"
     },
     "output_type": "display_data"
    },
    {
     "name": "stdout",
     "output_type": "stream",
     "text": [
      "\n",
      "Best cost function: -0.60333 at iter: 7240\n"
     ]
    }
   ],
   "source": [
    "es.run(verbose=True, with_tqdm=False, log_interv=200)\n",
    "es.history(glob_min=-0.803619, with_plot=True)"
   ]
  },
  {
   "cell_type": "markdown",
   "metadata": {},
   "source": [
    "#### optimum = -0.803619"
   ]
  },
  {
   "cell_type": "markdown",
   "metadata": {},
   "source": [
    "### G6 Problem\n",
    "$f(x) = (x_1 - 10)^3 + (x_2 - 20)^3 \\\\\\\\\n",
    "s.t. g_1(x) = - (x_1 - 5)^2 - (x_2 - 5)^2 + 100 \\leq 0 \\\\\\\\\n",
    "\\qquad g_2(x) = (x_1 - 6)^2 + (x_2 - 5)^2 - 82.81 \\leq 0$"
   ]
  },
  {
   "cell_type": "code",
   "execution_count": 2,
   "metadata": {},
   "outputs": [],
   "source": [
    "def g6p(population):\n",
    "    costs = [(x[0] - 10)**3 + (x[1]-20)**3 for x in population[:,0]]\n",
    "    \n",
    "    g1v = np.array([-(x[0]-5)**2 - (x[1] - 5)**2 + 100 for x in population[:,0]])\n",
    "    g2v = np.array([(x[0]-6)**2 + (x[1] - 5)**2 - 82.81 for x in population[:,0]])\n",
    "    \n",
    "    not_good_constrains = np.sum(np.vstack((g1v > 0, g2v > 0)), axis=0)\n",
    "    costs += 1e10 * not_good_constrains\n",
    "    \n",
    "    return costs"
   ]
  },
  {
   "cell_type": "code",
   "execution_count": 5,
   "metadata": {},
   "outputs": [
    {
     "name": "stdout",
     "output_type": "stream",
     "text": [
      "iter: 0,\tmin: 1e+10,\tmean: 1e+10,\tmax: 1e+10\n",
      "iter: 200,\tmin: -6925.1,\tmean: -5861.6,\tmax: -5328.0\n",
      "iter: 400,\tmin: -6925.1,\tmean: -6269.1,\tmax: -5924.1\n",
      "iter: 600,\tmin: -6925.1,\tmean: -6428.7,\tmax: -6174.5\n",
      "iter: 800,\tmin: -6939.5,\tmean: -6520.6,\tmax: -6305.6\n",
      "iter: 1000,\tmin: -6939.5,\tmean: -6575.3,\tmax: -6389.5\n",
      "iter: 1200,\tmin: -6939.5,\tmean: -6612.4,\tmax: -6445.1\n",
      "iter: 1400,\tmin: -6939.5,\tmean: -6639.0,\tmax: -6484.4\n",
      "iter: 1600,\tmin: -6941.0,\tmean: -6666.7,\tmax: -6524.8\n",
      "iter: 1800,\tmin: -6941.0,\tmean: -6683.2,\tmax: -6549.4\n",
      "iter: 2000,\tmin: -6941.0,\tmean: -6698.2,\tmax: -6569.5\n",
      "iter: 2200,\tmin: -6941.0,\tmean: -6710.7,\tmax: -6585.9\n",
      "iter: 2400,\tmin: -6941.0,\tmean: -6720.8,\tmax: -6600.5\n",
      "iter: 2600,\tmin: -6957.3,\tmean: -6729.7,\tmax: -6614.6\n",
      "iter: 2800,\tmin: -6957.3,\tmean: -6738.4,\tmax: -6626.4\n",
      "iter: 3000,\tmin: -6957.3,\tmean: -6747.4,\tmax: -6639.2\n",
      "iter: 3200,\tmin: -6957.3,\tmean: -6754.7,\tmax: -6648.2\n",
      "iter: 3400,\tmin: -6957.3,\tmean: -6762.9,\tmax: -6661.1\n",
      "iter: 3600,\tmin: -6957.3,\tmean: -6768.4,\tmax: -6668.0\n",
      "iter: 3800,\tmin: -6957.3,\tmean: -6774.1,\tmax: -6675.5\n",
      "iter: 4000,\tmin: -6957.3,\tmean: -6781.4,\tmax: -6686.1\n",
      "iter: 4200,\tmin: -6957.3,\tmean: -6786.7,\tmax: -6694.0\n",
      "iter: 4400,\tmin: -6957.3,\tmean: -6792.7,\tmax: -6702.4\n",
      "iter: 4600,\tmin: -6957.3,\tmean: -6796.2,\tmax: -6708.4\n",
      "iter: 4800,\tmin: -6957.3,\tmean: -6798.5,\tmax: -6711.8\n",
      "iter: 5000,\tmin: -6957.3,\tmean: -6802.5,\tmax: -6717.2\n",
      "iter: 5200,\tmin: -6957.3,\tmean: -6805.2,\tmax: -6722.3\n",
      "iter: 5400,\tmin: -6957.3,\tmean: -6807.7,\tmax: -6726.8\n",
      "iter: 5600,\tmin: -6957.3,\tmean: -6810.5,\tmax: -6731.2\n",
      "iter: 5800,\tmin: -6957.3,\tmean: -6813.4,\tmax: -6734.5\n",
      "iter: 6000,\tmin: -6957.3,\tmean: -6816.0,\tmax: -6739.4\n",
      "iter: 6200,\tmin: -6957.3,\tmean: -6818.0,\tmax: -6742.5\n",
      "iter: 6400,\tmin: -6957.3,\tmean: -6820.5,\tmax: -6747.3\n",
      "iter: 6600,\tmin: -6957.3,\tmean: -6823.0,\tmax: -6752.3\n",
      "iter: 6800,\tmin: -6957.3,\tmean: -6824.2,\tmax: -6754.5\n",
      "iter: 7000,\tmin: -6957.3,\tmean: -6826.3,\tmax: -6758.6\n",
      "iter: 7200,\tmin: -6957.3,\tmean: -6827.5,\tmax: -6761.3\n",
      "iter: 7400,\tmin: -6957.3,\tmean: -6830.8,\tmax: -6765.0\n",
      "iter: 7600,\tmin: -6957.3,\tmean: -6832.1,\tmax: -6767.1\n",
      "iter: 7800,\tmin: -6957.3,\tmean: -6834.1,\tmax: -6770.9\n",
      "iter: 8000,\tmin: -6957.3,\tmean: -6835.7,\tmax: -6773.9\n",
      "iter: 8200,\tmin: -6957.3,\tmean: -6837.2,\tmax: -6776.4\n",
      "iter: 8400,\tmin: -6957.3,\tmean: -6838.8,\tmax: -6778.3\n",
      "iter: 8600,\tmin: -6957.3,\tmean: -6840.2,\tmax: -6780.3\n",
      "iter: 8800,\tmin: -6957.3,\tmean: -6841.6,\tmax: -6782.4\n",
      "iter: 9000,\tmin: -6957.3,\tmean: -6842.1,\tmax: -6783.3\n",
      "iter: 9200,\tmin: -6957.3,\tmean: -6843.3,\tmax: -6786.1\n",
      "iter: 9400,\tmin: -6957.3,\tmean: -6844.6,\tmax: -6787.5\n",
      "iter: 9600,\tmin: -6957.3,\tmean: -6845.8,\tmax: -6789.6\n",
      "iter: 9800,\tmin: -6957.3,\tmean: -6847.4,\tmax: -6792.6\n"
     ]
    },
    {
     "data": {
      "image/png": "[encoded data removed]",
      "text/plain": [
       "<Figure size 720x432 with 1 Axes>"
      ]
     },
     "metadata": {
      "needs_background": "light"
     },
     "output_type": "display_data"
    },
    {
     "name": "stdout",
     "output_type": "stream",
     "text": [
      "\n",
      "Best cost function: -6957.28648 at iter: 2498\n"
     ]
    }
   ],
   "source": [
    "dims = 2\n",
    "\n",
    "lr = 0.01\n",
    "tau0, tau = lr/np.sqrt(2 * np.sqrt(dims)), lr/np.sqrt(2*dims)\n",
    "domain = [(13, 100), (0, 100)]\n",
    "\n",
    "es = ES(domain=domain, dims=dims, population_size=1000, offspring_size=1000, \n",
    "        parent_choice_method='roulette', replacement_method='mulambda', tau=tau, \n",
    "        tau0=tau0, cost_func=g6p, max_iters=10000)\n",
    "\n",
    "es.run(verbose=True, with_tqdm=False, log_interv=200)\n",
    "es.history(glob_min=-6961.81388, with_plot=True)"
   ]
  },
  {
   "cell_type": "markdown",
   "metadata": {},
   "source": [
    "#### optimum = -6961.81388 at (14.095, 0.84296)"
   ]
  },
  {
   "cell_type": "code",
   "execution_count": 6,
   "metadata": {},
   "outputs": [
    {
     "data": {
      "text/plain": [
       "array([14.09706109,  0.84697958])"
      ]
     },
     "execution_count": 6,
     "metadata": {},
     "output_type": "execute_result"
    }
   ],
   "source": [
    "es.best_ind[0]"
   ]
  },
  {
   "cell_type": "markdown",
   "metadata": {},
   "source": [
    "### G8 Problem\n",
    "$f(x) = - \\frac{\\sin^3(2\\pi x_1) * \\sin(2\\pi x_2)}{x_1^3(x_1+x_2)} \\\\\\\\\n",
    "s.t. g_1(x) = x_1^2 - x_2 + 1 \\leq 0 \\\\\\\\\n",
    "\\qquad g(2) = 1 - x_1 + (x_2-4)^2 \\leq 0$"
   ]
  },
  {
   "cell_type": "code",
   "execution_count": 16,
   "metadata": {},
   "outputs": [],
   "source": [
    "def g8p(population):\n",
    "    costs = - np.array([np.sin(2*np.pi * x[0])**3 * np.sin(2*np.pi * x[1]) / (x[0]**3 * (x[0]+x[1])) \n",
    "                        for x in population[:,0]])\n",
    "    g1v = np.array([x[0]**2 - x[1] + 1 for x in population[:,0]])\n",
    "    g2v = np.array([1-x[0] + (x[1]-4)**2 for x in population[:,0]])\n",
    "    \n",
    "    not_good_constrains = np.sum(np.vstack((g1v > 0, g2v > 0)), axis=0)\n",
    "    costs += 1e10 * not_good_constrains\n",
    "    \n",
    "    return costs"
   ]
  },
  {
   "cell_type": "code",
   "execution_count": 17,
   "metadata": {},
   "outputs": [
    {
     "name": "stdout",
     "output_type": "stream",
     "text": [
      "iter: 0,\tmin: -0.053625,\tmean: 1.048e+10,\tmax: 2e+10\n",
      "iter: 200,\tmin: -0.095793,\tmean: -0.078936,\tmax: -0.062869\n",
      "iter: 400,\tmin: -0.095793,\tmean: -0.087492,\tmax: -0.07912\n",
      "iter: 600,\tmin: -0.095793,\tmean: -0.090247,\tmax: -0.084926\n",
      "iter: 800,\tmin: -0.095811,\tmean: -0.091559,\tmax: -0.087368\n",
      "iter: 1000,\tmin: -0.095824,\tmean: -0.092432,\tmax: -0.089107\n",
      "iter: 1200,\tmin: -0.095824,\tmean: -0.092973,\tmax: -0.090206\n",
      "iter: 1400,\tmin: -0.095824,\tmean: -0.093407,\tmax: -0.091006\n",
      "iter: 1600,\tmin: -0.095824,\tmean: -0.093763,\tmax: -0.091607\n",
      "iter: 1800,\tmin: -0.095824,\tmean: -0.094025,\tmax: -0.092182\n",
      "iter: 2000,\tmin: -0.095824,\tmean: -0.094236,\tmax: -0.092621\n",
      "iter: 2200,\tmin: -0.095824,\tmean: -0.094358,\tmax: -0.092868\n",
      "iter: 2400,\tmin: -0.095824,\tmean: -0.094488,\tmax: -0.093139\n",
      "iter: 2600,\tmin: -0.095824,\tmean: -0.094588,\tmax: -0.093398\n",
      "iter: 2800,\tmin: -0.095824,\tmean: -0.094659,\tmax: -0.09354\n",
      "iter: 3000,\tmin: -0.095824,\tmean: -0.09477,\tmax: -0.093682\n",
      "iter: 3200,\tmin: -0.095824,\tmean: -0.094842,\tmax: -0.093847\n",
      "iter: 3400,\tmin: -0.095824,\tmean: -0.094901,\tmax: -0.093928\n",
      "iter: 3600,\tmin: -0.095824,\tmean: -0.094939,\tmax: -0.094042\n",
      "iter: 3800,\tmin: -0.095824,\tmean: -0.094998,\tmax: -0.094142\n",
      "iter: 4000,\tmin: -0.095824,\tmean: -0.095031,\tmax: -0.094219\n"
     ]
    },
    {
     "data": {
      "image/png": "[encoded data removed]",
      "text/plain": [
       "<Figure size 720x432 with 1 Axes>"
      ]
     },
     "metadata": {
      "needs_background": "light"
     },
     "output_type": "display_data"
    },
    {
     "name": "stdout",
     "output_type": "stream",
     "text": [
      "\n",
      "Best cost function: -0.09582 at iter: 983\n"
     ]
    }
   ],
   "source": [
    "dims = 2\n",
    "\n",
    "lr = 0.01\n",
    "tau0, tau = lr/np.sqrt(2 * np.sqrt(dims)), lr/np.sqrt(2*dims)\n",
    "\n",
    "es = ES(domain=(0, 10), dims=dims, population_size=1000, offspring_size=500, \n",
    "        parent_choice_method='roulette', replacement_method='mulambda', tau=tau, \n",
    "        tau0=tau0, cost_func=g8p, max_iters=10000)\n",
    "\n",
    "es.run(verbose=True, with_tqdm=False, log_interv=200)\n",
    "es.history(glob_min=-0.095825, with_plot=True)"
   ]
  },
  {
   "cell_type": "markdown",
   "metadata": {},
   "source": [
    " #### optimum = - 0.095825 at (1.2279713, 4.2453733)"
   ]
  },
  {
   "cell_type": "code",
   "execution_count": 18,
   "metadata": {},
   "outputs": [
    {
     "data": {
      "text/plain": [
       "array([1.22830983, 4.24515066])"
      ]
     },
     "execution_count": 18,
     "metadata": {},
     "output_type": "execute_result"
    }
   ],
   "source": [
    "es.best_ind[0]"
   ]
  },
  {
   "cell_type": "markdown",
   "metadata": {},
   "source": [
    "### G10 Problem\n",
    "$f(x) = x_1 + x_2 + x_3 \\\\\\\\\n",
    "s.t. g_1(x) = -1 + 0.0025(x_4 + x_6) \\leq 0 \\\\\\\\\n",
    "\\qquad g_2(x) = -1 + 0.0025(-x_4 + x_5 + x_7) \\leq 0 \\\\\\\\\n",
    "\\qquad g_3(x) = -1 + 0.01(-x_5 + x_8) \\leq 0 \\\\\\\\\n",
    "\\qquad g_4(x) = 100x_1 - x_1x_6 + 833.33252x_4 - 83333.333 \\leq 0 \\\\\\\\\n",
    "\\qquad g_5(x) = x_2x_4 - x_2x_7 - 1250x_4 + 1250x_5 \\leq 0 \\\\\\\\\n",
    "\\qquad g_6(x) = x_3x_5 - x_3x_8 - 2500x_5 + 1250000 \\leq 0$"
   ]
  },
  {
   "cell_type": "code",
   "execution_count": 2,
   "metadata": {},
   "outputs": [],
   "source": [
    "def g10p(population):\n",
    "    costs = np.array([x[0]+x[1]+x[2] for x in population[:,0]])\n",
    "    \n",
    "    g1v = np.array([-1 + 0.0025*(x[3] + x[5]) for x in population[:,0]])\n",
    "    g2v = np.array([-1 + 0.0025*(-x[3] + x[4] + x[6]) for x in population[:,0]])\n",
    "    g3v = np.array([-1 + 0.01*(-x[4] + x[7]) for x in population[:,0]])\n",
    "    g4v = np.array([100*x[0] - x[0]*x[5] + 833.33242*x[3] - 83333.333 for x in population[:,0]])\n",
    "    g5v = np.array([x[1]*x[3] - x[1]*x[6] - 1250*x[3] + 1250*x[4] for x in population[:,0]])\n",
    "    g6v = np.array([x[2]*x[4] - x[2]*x[7] - 2500*x[4] + 1250000 for x in population[:,0]])\n",
    "    \n",
    "    not_good_constrains = np.sum(np.vstack((g1v > 0, g2v > 0, g3v > 0, g4v > 0, g5v > 0, g6v > 0)), axis=0)\n",
    "    costs += 1e10 * not_good_constrains\n",
    "    \n",
    "    return costs"
   ]
  },
  {
   "cell_type": "code",
   "execution_count": 7,
   "metadata": {},
   "outputs": [
    {
     "name": "stdout",
     "output_type": "stream",
     "text": [
      "iter: 0,\tmin: 1e+10,\tmean: 2.711e+10,\tmax: 3e+10\n",
      "iter: 200,\tmin: 1e+10,\tmean: 1e+10,\tmax: 1e+10\n",
      "iter: 400,\tmin: 1e+10,\tmean: 1e+10,\tmax: 1e+10\n",
      "iter: 600,\tmin: 1e+10,\tmean: 1e+10,\tmax: 1e+10\n",
      "iter: 800,\tmin: 1e+10,\tmean: 1e+10,\tmax: 1e+10\n",
      "iter: 1000,\tmin: 1e+10,\tmean: 1e+10,\tmax: 1e+10\n",
      "iter: 1200,\tmin: 1e+10,\tmean: 1e+10,\tmax: 1e+10\n",
      "iter: 1400,\tmin: 1e+10,\tmean: 1e+10,\tmax: 1e+10\n",
      "iter: 1600,\tmin: 1e+10,\tmean: 1e+10,\tmax: 1e+10\n",
      "iter: 1800,\tmin: 1e+10,\tmean: 1e+10,\tmax: 1e+10\n",
      "iter: 2000,\tmin: 1e+10,\tmean: 1e+10,\tmax: 1e+10\n",
      "iter: 2200,\tmin: 1e+10,\tmean: 1e+10,\tmax: 1e+10\n",
      "iter: 2400,\tmin: 2.3943e+04,\tmean: 2.3957e+04,\tmax: 2.3961e+04\n",
      "iter: 2600,\tmin: 2.3399e+04,\tmean: 2.3414e+04,\tmax: 2.3419e+04\n",
      "iter: 2800,\tmin: 2.2808e+04,\tmean: 2.2824e+04,\tmax: 2.283e+04\n",
      "iter: 3000,\tmin: 2.2165e+04,\tmean: 2.218e+04,\tmax: 2.2185e+04\n",
      "iter: 3200,\tmin: 2.1477e+04,\tmean: 2.1497e+04,\tmax: 2.1503e+04\n",
      "iter: 3400,\tmin: 2.0811e+04,\tmean: 2.0828e+04,\tmax: 2.0834e+04\n",
      "iter: 3600,\tmin: 2.0136e+04,\tmean: 2.0154e+04,\tmax: 2.0159e+04\n",
      "iter: 3800,\tmin: 1.9391e+04,\tmean: 1.941e+04,\tmax: 1.9416e+04\n",
      "iter: 4000,\tmin: 1.8582e+04,\tmean: 1.8615e+04,\tmax: 1.8622e+04\n",
      "iter: 4200,\tmin: 1.7735e+04,\tmean: 1.7761e+04,\tmax: 1.7769e+04\n",
      "iter: 4400,\tmin: 1.6857e+04,\tmean: 1.6883e+04,\tmax: 1.6891e+04\n",
      "iter: 4600,\tmin: 1.5942e+04,\tmean: 1.597e+04,\tmax: 1.5977e+04\n",
      "iter: 4800,\tmin: 1.5118e+04,\tmean: 1.515e+04,\tmax: 1.5158e+04\n",
      "iter: 5000,\tmin: 1.4265e+04,\tmean: 1.4294e+04,\tmax: 1.4305e+04\n",
      "iter: 5200,\tmin: 1.3579e+04,\tmean: 1.3611e+04,\tmax: 1.3622e+04\n",
      "iter: 5400,\tmin: 1.3023e+04,\tmean: 1.3049e+04,\tmax: 1.3056e+04\n",
      "iter: 5600,\tmin: 1.2569e+04,\tmean: 1.2588e+04,\tmax: 1.2596e+04\n",
      "iter: 5800,\tmin: 1.2122e+04,\tmean: 1.2144e+04,\tmax: 1.2151e+04\n",
      "iter: 6000,\tmin: 1.186e+04,\tmean: 1.1882e+04,\tmax: 1.1889e+04\n",
      "iter: 6200,\tmin: 1.1749e+04,\tmean: 1.1768e+04,\tmax: 1.1775e+04\n",
      "iter: 6400,\tmin: 1.1684e+04,\tmean: 1.1708e+04,\tmax: 1.1715e+04\n",
      "iter: 6600,\tmin: 1.1652e+04,\tmean: 1.1672e+04,\tmax: 1.1679e+04\n",
      "iter: 6800,\tmin: 1.1628e+04,\tmean: 1.1647e+04,\tmax: 1.1654e+04\n",
      "iter: 7000,\tmin: 1.161e+04,\tmean: 1.1629e+04,\tmax: 1.1635e+04\n",
      "iter: 7200,\tmin: 1.1594e+04,\tmean: 1.1614e+04,\tmax: 1.162e+04\n",
      "iter: 7400,\tmin: 1.1579e+04,\tmean: 1.1603e+04,\tmax: 1.1609e+04\n",
      "iter: 7600,\tmin: 1.1578e+04,\tmean: 1.1594e+04,\tmax: 1.16e+04\n",
      "iter: 7800,\tmin: 1.1555e+04,\tmean: 1.1587e+04,\tmax: 1.1593e+04\n",
      "iter: 8000,\tmin: 1.1547e+04,\tmean: 1.158e+04,\tmax: 1.1586e+04\n",
      "iter: 8200,\tmin: 1.1543e+04,\tmean: 1.1574e+04,\tmax: 1.1581e+04\n",
      "iter: 8400,\tmin: 1.1543e+04,\tmean: 1.1568e+04,\tmax: 1.1576e+04\n",
      "iter: 8600,\tmin: 1.1543e+04,\tmean: 1.1563e+04,\tmax: 1.1571e+04\n",
      "iter: 8800,\tmin: 1.1541e+04,\tmean: 1.156e+04,\tmax: 1.1566e+04\n",
      "iter: 9000,\tmin: 1.1541e+04,\tmean: 1.1557e+04,\tmax: 1.1563e+04\n",
      "iter: 9200,\tmin: 1.1538e+04,\tmean: 1.1554e+04,\tmax: 1.156e+04\n",
      "iter: 9400,\tmin: 1.153e+04,\tmean: 1.1552e+04,\tmax: 1.1558e+04\n",
      "iter: 9600,\tmin: 1.1526e+04,\tmean: 1.155e+04,\tmax: 1.1555e+04\n",
      "iter: 9800,\tmin: 1.1526e+04,\tmean: 1.1548e+04,\tmax: 1.1553e+04\n"
     ]
    },
    {
     "data": {
      "image/png": "[encoded data removed]",
      "text/plain": [
       "<Figure size 720x432 with 1 Axes>"
      ]
     },
     "metadata": {
      "needs_background": "light"
     },
     "output_type": "display_data"
    },
    {
     "name": "stdout",
     "output_type": "stream",
     "text": [
      "\n",
      "Best cost function: 11525.81443 at iter: 9411\n"
     ]
    }
   ],
   "source": [
    "dims = 8\n",
    "\n",
    "lr = 0.01\n",
    "tau0, tau = lr/np.sqrt(2 * np.sqrt(dims)), lr/np.sqrt(2*dims)\n",
    "\n",
    "domain = [(100, 10000), (1000, 10000), (1000, 10000), (10, 1000), (10, 1000), (10, 1000), (10, 1000), (10, 1000)]\n",
    "\n",
    "es = ES(domain=domain, dims=dims, population_size=1000, offspring_size=500, \n",
    "        parent_choice_method='roulette', replacement_method='mulambda', tau=tau, \n",
    "        tau0=tau0, cost_func=g10p, max_iters=10000)\n",
    "\n",
    "es.run(verbose=True, with_tqdm=False, log_interv=200)\n",
    "es.history(glob_min=7049.330, with_plot=True)"
   ]
  },
  {
   "cell_type": "markdown",
   "metadata": {},
   "source": [
    "##### optimum x = 7049.3307 at (579.3167, 1359.943, 5110.071, 182.0174, 295.5985, 217.9799, 286.4162,395.5979)"
   ]
  },
  {
   "cell_type": "code",
   "execution_count": 8,
   "metadata": {},
   "outputs": [
    {
     "data": {
      "text/plain": [
       "array([ 100.31336884, 7927.79442314, 3497.70663993,  120.80627758,\n",
       "        360.94059792,  274.08789259,  159.43226381,  460.67847581])"
      ]
     },
     "execution_count": 8,
     "metadata": {},
     "output_type": "execute_result"
    }
   ],
   "source": [
    "es.best_ind[0]"
   ]
  },
  {
   "cell_type": "code",
   "execution_count": null,
   "metadata": {},
   "outputs": [],
   "source": []
  }
 ],
 "metadata": {
  "kernelspec": {
   "display_name": "Python 3",
   "language": "python",
   "name": "python3"
  },
  "language_info": {
   "codemirror_mode": {
    "name": "ipython",
    "version": 3
   },
   "file_extension": ".py",
   "mimetype": "text/x-python",
   "name": "python",
   "nbconvert_exporter": "python",
   "pygments_lexer": "ipython3",
   "version": "3.7.3"
  }
 },
 "nbformat": 4,
 "nbformat_minor": 4
}
