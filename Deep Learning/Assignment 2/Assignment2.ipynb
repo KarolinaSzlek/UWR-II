{
  "nbformat": 4,
  "nbformat_minor": 0,
  "metadata": {
    "colab": {
      "name": "Assignment2_Grodzicki_Jakub.ipynb",
      "provenance": [],
      "collapsed_sections": [],
      "toc_visible": true
    },
    "kernelspec": {
      "name": "python3",
      "display_name": "Python 3"
    }
  },
  "cells": [
    {
      "cell_type": "markdown",
      "metadata": {
        "id": "CGXgWugfJ0Vl",
        "colab_type": "text"
      },
      "source": [
        "# Assignment 2\n",
        "\n",
        "**Submission deadline: last lab session before or on Thursday, 26.03.2020**\n",
        "\n",
        "**Points: 6 + 1 bonus points**\n",
        "\n",
        "## Submission instructions\n",
        "The class is held remotely. To sumbmit your solutions please save the notebook to your Google Drive, then:\n",
        "1. Rename it it to: Assignment2_Surname_FirstName\n",
        "2. Rerun the whole notebook `Runtime -> Restart and run all`\n",
        "3. Make a pinned revision `File->Save and pin revision`\n",
        "4. Share the notebook with your instructor using his `cs.uni.wroc.pl` email\n",
        "\n",
        "We will use the commenting system and video conferences to check and discuss the solutions.\n",
        "\n",
        "As always, please submit corrections using GitHub's Pull Requests."
      ]
    },
    {
      "cell_type": "code",
      "metadata": {
        "id": "nfVDe-bMqVT_",
        "colab_type": "code",
        "colab": {}
      },
      "source": [
        "%matplotlib inline"
      ],
      "execution_count": 0,
      "outputs": []
    },
    {
      "cell_type": "code",
      "metadata": {
        "id": "YiTEWD2oqW0Y",
        "colab_type": "code",
        "colab": {}
      },
      "source": [
        "import numpy as np\n",
        "import matplotlib.pyplot as plt\n",
        "\n",
        "from tqdm import tqdm"
      ],
      "execution_count": 0,
      "outputs": []
    },
    {
      "cell_type": "markdown",
      "metadata": {
        "id": "RZCM_hdELE04",
        "colab_type": "text"
      },
      "source": [
        "The code below contains a mock-up of a two-layer neural network. Fill in the code and manually set weights to solve the XOR problem.\n",
        "\n",
        "Please note: the shapes are set to be compatible with PyTorch's conventions:\n",
        "* a batch containing $N$ $D$-dimensional examples has shape $N\\times D$ (each example is a row!)\n",
        "* a weight matrix in a linear layer with $I$ inputs and $O$ outputs has shape $O \\times I$\n",
        "* a bias vector is a 1D vector. Please note that [broadcasting rules](https://docs.scipy.org/doc/numpy/user/basics.broadcasting.html) allow us to think about it as a $1 \\times D` matrix."
      ]
    },
    {
      "cell_type": "code",
      "metadata": {
        "id": "lYEbCfbSpv5M",
        "colab_type": "code",
        "outputId": "0dd12175-bed4-4e56-8b3b-73d18512f522",
        "colab": {
          "base_uri": "https://localhost:8080/",
          "height": 296
        }
      },
      "source": [
        "# Let's define a XOR dataset\n",
        "\n",
        "# X will be matrix of N 2-dimensional inputs\n",
        "X = np.array(\n",
        "    [[0, 0],\n",
        "     [0, 1],\n",
        "     [1, 0],\n",
        "     [1, 1],\n",
        "    ], dtype=np.float32)\n",
        "# Y is a matrix of N numners - answers\n",
        "Y = np.array(\n",
        "    [[0],\n",
        "     [1],\n",
        "     [1],\n",
        "     [0],\n",
        "    ], dtype=np.float32)\n",
        "\n",
        "plt.scatter(X[:,0], X[:,1], c=Y[:,0], )\n",
        "plt.xlabel('X[0]')\n",
        "plt.ylabel('X[1]')"
      ],
      "execution_count": 0,
      "outputs": [
        {
          "output_type": "execute_result",
          "data": {
            "text/plain": [
              "Text(0, 0.5, 'X[1]')"
            ]
          },
          "metadata": {
            "tags": []
          },
          "execution_count": 3
        },
        {
          "output_type": "display_data",
          "data": {
            "image/png": "[encoded data removed]",
            "text/plain": [
              "<Figure size 432x288 with 1 Axes>"
            ]
          },
          "metadata": {
            "tags": []
          }
        }
      ]
    },
    {
      "cell_type": "markdown",
      "metadata": {
        "id": "Rb3azMn929_I",
        "colab_type": "text"
      },
      "source": [
        "# Problem 1 [2p]\n",
        "\n",
        "Fill in the details of a forward pass, then manually set the weights and biases in the network to solve the 2D XOR task defined above."
      ]
    },
    {
      "cell_type": "code",
      "metadata": {
        "id": "lrrRuk6zLiF0",
        "colab_type": "code",
        "colab": {}
      },
      "source": [
        "def sigmoid(X):\n",
        "    return 1 / (1 + np.exp(-X))\n",
        "\n",
        "class SmallNet:\n",
        "    def __init__(self, in_features, num_hidden, dtype=np.float32, activate_func=sigmoid):\n",
        "        self.W1 = np.zeros((num_hidden, in_features), dtype=dtype)\n",
        "        self.b1 = np.zeros((num_hidden,), dtype=dtype)\n",
        "        self.W2 = np.zeros((1, num_hidden), dtype=dtype)\n",
        "        self.b2 = np.zeros((1,), dtype=dtype)\n",
        "        self.activate_func = activate_func\n",
        "        self.init_params()\n",
        "\n",
        "    def init_params(self):\n",
        "        # TODO Problem 2:\n",
        "        # set all parameters to small random values, e.g. from N(0, 0.5)\n",
        "        self.W1 = np.random.normal(0, 0.5, self.W1.shape)\n",
        "        self.b1 = np.random.normal(0, 0.5, self.b1.shape)\n",
        "        self.W2 = np.random.normal(0, 0.5, self.W2.shape)\n",
        "        self.b2 = np.random.normal(0, 0.5, self.b2.shape)\n",
        "\n",
        "    def forward(self, X, Y=None, do_backward=False):\n",
        "        # TODO Problem 1: Fill in details of forward propagation\n",
        "\n",
        "        # # Input to neurons in 1st layer\n",
        "        A1 = np.dot(X, self.W1.T) + self.b1\n",
        "\n",
        "        # # Outputs after the sigmoid non-linearity\n",
        "        O1 = self.activate_func(A1)\n",
        "\n",
        "        # # Inputs to neuron in the second layer\n",
        "        A2 = np.dot(O1, self.W2.T) + self.b2\n",
        "\n",
        "        # # Outputs after the sigmoid non-linearity\n",
        "        O2 = self.activate_func(A2)\n",
        "\n",
        "        if Y is not None:\n",
        "            loss = -Y*np.log(O2 + 1e-20) - (1-Y)*np.log(1-O2 + 1e-20)\n",
        "            \n",
        "            # normalize loss by batch size\n",
        "            loss = loss.sum() / X.shape[0]\n",
        "        else:\n",
        "            loss = np.nan\n",
        "\n",
        "        if do_backward:\n",
        "            # TODO in Problem 2: fill in the gradient computation\n",
        "            # Please note, that there is a correspondance between\n",
        "            # the forward and backward pass: with backward computations happening\n",
        "            # in reversed order. \n",
        "\n",
        "            # A2_grad is the gradient of loss with respect to A2\n",
        "            # Hint: there is a concise formula for the gradient \n",
        "            # of logistic sigmoid and cross-entropy loss \n",
        "            A2_grad = O2 - Y\n",
        "            self.b2_grad = A2_grad.T.sum(axis=1)\n",
        "            self.b2_grad /= X.shape[0]\n",
        "            self.W2_grad = np.dot(A2_grad.T, O1)\n",
        "            self.W2_grad /= X.shape[0]\n",
        "            \n",
        "            O1_grad = np.dot(A2_grad, self.W2)\n",
        "            A1_grad = O1_grad * O1 * (np.ones(O1.shape) - O1)\n",
        "            self.b1_grad = A1_grad.sum(axis=0) \n",
        "            self.b1_grad /= X.shape[0]\n",
        "            self.W1_grad = np.dot(X.T, A1_grad).T\n",
        "            self.W1_grad /= X.shape[0]\n",
        "\n",
        "        return O2, loss"
      ],
      "execution_count": 0,
      "outputs": []
    },
    {
      "cell_type": "code",
      "metadata": {
        "id": "jJswvBk0oiIY",
        "colab_type": "code",
        "outputId": "c0a52f40-804f-4ab5-9f82-b43b6dcb7810",
        "colab": {
          "base_uri": "https://localhost:8080/",
          "height": 85
        }
      },
      "source": [
        "# TODO Problem 1:\n",
        "# Set by hand the weight values to solve the XOR problem\n",
        "\n",
        "net = SmallNet(2, 2, dtype=np.float64)\n",
        "\n",
        "net.W1 = np.ones((2,2)) * 40\n",
        "net.b1 = np.array([-1,-2.5]) * 20\n",
        "net.W2 = np.array([[1,-1]]) * 40\n",
        "net.b2 = np.array([-1]) * 20 \n",
        "\n",
        "# Hint: since we use the logistic sigmoid activation, the weights may need to \n",
        "# be fairly large \n",
        "\n",
        "net.forward(X, Y, do_backward=True)"
      ],
      "execution_count": 0,
      "outputs": [
        {
          "output_type": "execute_result",
          "data": {
            "text/plain": [
              "(array([[2.06115379e-09],\n",
              "        [9.99999998e-01],\n",
              "        [9.99999998e-01],\n",
              "        [2.06115362e-09]]), 2.063026862582939e-09)"
            ]
          },
          "metadata": {
            "tags": []
          },
          "execution_count": 17
        }
      ]
    },
    {
      "cell_type": "markdown",
      "metadata": {
        "id": "wmxCi5Vl6_xB",
        "colab_type": "text"
      },
      "source": [
        "# Problem 2 [2p]\n",
        "\n",
        "1. Fill in the backward pass.\n",
        "2. Implement random initialization of network parameters.\n",
        "3. Using `float64` verify correctness of your backward pass."
      ]
    },
    {
      "cell_type": "code",
      "metadata": {
        "id": "eSM5hgJ1mrhY",
        "colab_type": "code",
        "colab": {}
      },
      "source": [
        "def check_grad(net, param_name, X, Y, eps=1e-5):\n",
        "    \"\"\"A gradient checking routine\"\"\"\n",
        "    \n",
        "    param = getattr(net, param_name)\n",
        "    param_flat_accessor = param.reshape(-1)\n",
        "\n",
        "    grad = np.empty_like(param)\n",
        "    grad_flat_accessor = grad.reshape(-1)\n",
        "\n",
        "    net.forward(X, Y, do_backward=True)\n",
        "    orig_grad = getattr(net, param_name + '_grad')\n",
        "    assert (param.shape == orig_grad.shape)\n",
        "\n",
        "    for i in range(param_flat_accessor.shape[0]):\n",
        "        orig_val = param_flat_accessor[i]\n",
        "        param_flat_accessor[i] = orig_val + eps\n",
        "        _, loss_positive = net.forward(X, Y)\n",
        "        param_flat_accessor[i] = orig_val - eps\n",
        "        _, loss_negative = net.forward(X, Y)\n",
        "        param_flat_accessor[i] = orig_val\n",
        "        grad_flat_accessor[i] = (\n",
        "            loss_positive - loss_negative) / (2 * eps)\n",
        "    assert np.allclose(grad, orig_grad)\n",
        "    return grad, orig_grad"
      ],
      "execution_count": 0,
      "outputs": []
    },
    {
      "cell_type": "code",
      "metadata": {
        "id": "TTZu0jFEvgXF",
        "colab_type": "code",
        "colab": {}
      },
      "source": [
        "net = SmallNet(2, 2, dtype=np.float64)\n",
        "\n",
        "for param_name in ['W1', 'b1', 'W2', 'b2']:\n",
        "    check_grad(net, param_name, X, Y)"
      ],
      "execution_count": 0,
      "outputs": []
    },
    {
      "cell_type": "markdown",
      "metadata": {
        "id": "8mUOs3cVvjM2",
        "colab_type": "text"
      },
      "source": [
        "# Problem 3 [2p]\n",
        "\n",
        "Fill in the details of batch gradient descent below, then train a network to solve 2D XOR problem.\n",
        "\n",
        "Then test the reliability of solving the 3D XOR task."
      ]
    },
    {
      "cell_type": "code",
      "metadata": {
        "id": "nn2AAoZo0vjU",
        "colab_type": "code",
        "outputId": "0a5cd790-f321-45a3-e4c1-dbcc6cd06f03",
        "colab": {
          "base_uri": "https://localhost:8080/",
          "height": 357
        }
      },
      "source": [
        "net = SmallNet(2, 10, dtype=np.float64)\n",
        "\n",
        "alpha = 1e-1\n",
        "\n",
        "for i in range(100000):\n",
        "    _, loss = net.forward(X, Y, do_backward=True)\n",
        "    if (i % 5000) == 0:\n",
        "        print(i, loss)\n",
        "    for param_name in ['W1', 'b1', 'W2', 'b2']:\n",
        "        param = getattr(net, param_name)\n",
        "        # Hint: use the construct `param[:]` to change the contents of the array!\n",
        "        # Doing instead `param = new_val` simply changes to what the variable\n",
        "        # param points to, without affecting the network!\n",
        "        grad = getattr(net, param_name + '_grad')\n",
        "        param[:] = param[:] - alpha * grad"
      ],
      "execution_count": 0,
      "outputs": [
        {
          "output_type": "stream",
          "text": [
            "0 0.7182378852440441\n",
            "5000 0.04142092623066047\n",
            "10000 0.010555237423259613\n",
            "15000 0.005724731082606601\n",
            "20000 0.0038535574749833544\n",
            "25000 0.002875756701647397\n",
            "30000 0.002279852370453057\n",
            "35000 0.001880760725155274\n",
            "40000 0.0015958270735295212\n",
            "45000 0.0013827623289844352\n",
            "50000 0.0012177539835130562\n",
            "55000 0.0010864008551264668\n",
            "60000 0.0009794974310324222\n",
            "65000 0.0008908930066557375\n",
            "70000 0.0008163263690735018\n",
            "75000 0.0007527548233708288\n",
            "80000 0.0006979494635119083\n",
            "85000 0.00065024129137279\n",
            "90000 0.0006083565438726876\n",
            "95000 0.0005713067489624625\n"
          ],
          "name": "stdout"
        }
      ]
    },
    {
      "cell_type": "code",
      "metadata": {
        "id": "TwpEjpkU1JvK",
        "colab_type": "code",
        "outputId": "540f8f55-4fb8-48a6-e5b1-b333a7759b89",
        "colab": {
          "base_uri": "https://localhost:8080/",
          "height": 85
        }
      },
      "source": [
        "net.forward(X, Y, do_backward=True)"
      ],
      "execution_count": 0,
      "outputs": [
        {
          "output_type": "execute_result",
          "data": {
            "text/plain": [
              "(array([[3.23594384e-04],\n",
              "        [9.99438003e-01],\n",
              "        [9.99492708e-01],\n",
              "        [7.59742960e-04]]), 0.0005383134440106893)"
            ]
          },
          "metadata": {
            "tags": []
          },
          "execution_count": 21
        }
      ]
    },
    {
      "cell_type": "markdown",
      "metadata": {
        "id": "w3NiL0ku2Unr",
        "colab_type": "text"
      },
      "source": [
        "Generate below data for a 3D XOR task. Try a few values of hidden layer size. Plot the reliability of training, i.e. how many trainings succeed for a given hiden layer size.\n",
        "\n",
        "What is easier to train: a smaller, or large network?"
      ]
    },
    {
      "cell_type": "code",
      "metadata": {
        "id": "U0ZMyHqz8xrC",
        "colab_type": "code",
        "outputId": "b5d358f8-a84a-4c0b-e586-7ba2f6ded523",
        "colab": {
          "base_uri": "https://localhost:8080/",
          "height": 34
        }
      },
      "source": [
        "losses = {}\n",
        "X3 = np.array(np.meshgrid([0, 1], [0, 1], [0, 1])).reshape(8, 3)\n",
        "Y3 = np.array([x.sum()%2 for x in X3]).reshape(1,-1).T\n",
        "\n",
        "iters = 100000\n",
        "x_progress = np.linspace(0, iters, 20).astype(int)\n",
        "\n",
        "for hidden_dim in tqdm([2, 3, 5, 10, 20], position=0, leave=True):\n",
        "    # TODO: run a few trainings and record the fraction of successful ones\n",
        "    net = SmallNet(3, hidden_dim, dtype=np.float64)\n",
        "    loss_progress = []\n",
        "    for i in range(iters):\n",
        "        _, loss = net.forward(X3, Y3, do_backward=True)\n",
        "        if i in x_progress:\n",
        "            loss_progress.append(loss)\n",
        "        for param_name in ['W1', 'b1', 'W2', 'b2']:\n",
        "            param = getattr(net, param_name)\n",
        "            grad = getattr(net, param_name + '_grad')\n",
        "            param[:] = param[:] - alpha * grad \n",
        "\n",
        "    _, loss = net.forward(X3, Y3, do_backward=True)\n",
        "    loss_progress.append(loss)\n",
        "    losses[hidden_dim] = loss_progress"
      ],
      "execution_count": 0,
      "outputs": [
        {
          "output_type": "stream",
          "text": [
            "100%|██████████| 5/5 [00:49<00:00,  9.89s/it]\n"
          ],
          "name": "stderr"
        }
      ]
    },
    {
      "cell_type": "code",
      "metadata": {
        "id": "bPELyM7PDhmn",
        "colab_type": "code",
        "outputId": "973a4727-b9f8-44f8-abe2-7809adf13a4c",
        "colab": {
          "base_uri": "https://localhost:8080/",
          "height": 519
        }
      },
      "source": [
        "plt.subplots(figsize=(15, 8))\n",
        "plt.title('Training losses for nets with different #hidden layers')\n",
        "for hd in losses.keys():\n",
        "    plt.plot(x_progress, losses[hd], label=hd)\n",
        "plt.legend()\n",
        "plt.show()"
      ],
      "execution_count": 0,
      "outputs": [
        {
          "output_type": "display_data",
          "data": {
            "image/png": "[encoded data removed]",
            "text/plain": [
              "<Figure size 1080x576 with 1 Axes>"
            ]
          },
          "metadata": {
            "tags": []
          }
        }
      ]
    },
    {
      "cell_type": "markdown",
      "metadata": {
        "id": "UuaLEoV-9DLG",
        "colab_type": "text"
      },
      "source": [
        "# Problem 4 [1bp]\n",
        "\n",
        "Replace the first nonlinearity with the [ReLU](https://en.wikipedia.org/wiki/Rectifier_(neural_networks)) activation function. Verify ho"
      ]
    },
    {
      "cell_type": "code",
      "metadata": {
        "id": "Db77CPTE288d",
        "colab_type": "code",
        "colab": {}
      },
      "source": [
        "def relu(x):\n",
        "    return np.max((np.zeros_like(x), x), axis=0)"
      ],
      "execution_count": 0,
      "outputs": []
    },
    {
      "cell_type": "code",
      "metadata": {
        "id": "48fQHdTD3jEX",
        "colab_type": "code",
        "outputId": "11daeef5-7340-4519-9830-1b17e4b8f580",
        "colab": {
          "base_uri": "https://localhost:8080/",
          "height": 85
        }
      },
      "source": [
        "net = SmallNet(2, 2, dtype=np.float64, activate_func=relu)\n",
        "\n",
        "net.W1 = np.ones((2,2))\n",
        "net.b1 = np.array([0, -1])\n",
        "net.W2 = np.array([[1,-2]])\n",
        "net.b2 = np.array([0])\n",
        "\n",
        "net.forward(X, Y, do_backward=True)"
      ],
      "execution_count": 0,
      "outputs": [
        {
          "output_type": "execute_result",
          "data": {
            "text/plain": [
              "(array([[0.],\n",
              "        [1.],\n",
              "        [1.],\n",
              "        [0.]]), 0.0)"
            ]
          },
          "metadata": {
            "tags": []
          },
          "execution_count": 97
        }
      ]
    },
    {
      "cell_type": "code",
      "metadata": {
        "id": "Oh3ooVIpG0Kl",
        "colab_type": "code",
        "colab": {}
      },
      "source": [
        "net = SmallNet(2, 2, dtype=np.float64, activate_func=relu)"
      ],
      "execution_count": 0,
      "outputs": []
    },
    {
      "cell_type": "code",
      "metadata": {
        "id": "fBX9WIsPHGAk",
        "colab_type": "code",
        "outputId": "6246f427-eac7-48c1-ed53-af0699efa04e",
        "colab": {
          "base_uri": "https://localhost:8080/",
          "height": 357
        }
      },
      "source": [
        "for i in range(100000):\n",
        "    _, loss = net.forward(X, Y, do_backward=True)\n",
        "    if (i % 5000) == 0:\n",
        "        print(i, loss)\n",
        "    for param_name in ['W1', 'b1', 'W2', 'b2']:\n",
        "        param = getattr(net, param_name)\n",
        "        grad = getattr(net, param_name + '_grad')\n",
        "        param[:] = param[:] - 0.01 * grad"
      ],
      "execution_count": 0,
      "outputs": [
        {
          "output_type": "stream",
          "text": [
            "0 23.025850929940457\n",
            "5000 0.44825942922365997\n",
            "10000 0.35602856533250815\n",
            "15000 0.3472692012614711\n",
            "20000 0.3466236617600181\n",
            "25000 0.3465771887231357\n",
            "30000 0.3465738488560995\n",
            "35000 0.34657360886052296\n",
            "40000 0.3465735916151169\n",
            "45000 0.3465735903759125\n",
            "50000 0.3465735902868672\n",
            "55000 0.34657359028047097\n",
            "60000 0.34657359028007784\n",
            "65000 0.34657359028007784\n",
            "70000 0.34657359028007784\n",
            "75000 0.34657359028007784\n",
            "80000 0.34657359028007784\n",
            "85000 0.34657359028007784\n",
            "90000 0.34657359028007784\n",
            "95000 0.34657359028007784\n"
          ],
          "name": "stdout"
        }
      ]
    },
    {
      "cell_type": "code",
      "metadata": {
        "id": "54eGt0P9HJQ-",
        "colab_type": "code",
        "outputId": "cdcd9535-b1ed-47cc-937a-ac9310457124",
        "colab": {
          "base_uri": "https://localhost:8080/",
          "height": 85
        }
      },
      "source": [
        "net.forward(X, Y, do_backward=True)"
      ],
      "execution_count": 0,
      "outputs": [
        {
          "output_type": "execute_result",
          "data": {
            "text/plain": [
              "(array([[9.11493103e-14],\n",
              "        [5.00000000e-01],\n",
              "        [1.00000000e+00],\n",
              "        [5.00000000e-01]]), 0.34657359028007784)"
            ]
          },
          "metadata": {
            "tags": []
          },
          "execution_count": 101
        }
      ]
    },
    {
      "cell_type": "code",
      "metadata": {
        "id": "60fBfV_WHg8f",
        "colab_type": "code",
        "colab": {}
      },
      "source": [
        ""
      ],
      "execution_count": 0,
      "outputs": []
    }
  ]
}