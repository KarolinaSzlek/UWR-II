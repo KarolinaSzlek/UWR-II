{
 "cells": [
  {
   "cell_type": "code",
   "execution_count": 6,
   "metadata": {},
   "outputs": [],
   "source": [
    "#setup\n",
    "import numpy as np\n",
    "import matplotlib.pyplot as plt\n",
    "from sklearn.ensemble import RandomForestClassifier, ExtraTreesClassifier\n",
    "import pandas as pd"
   ]
  },
  {
   "cell_type": "markdown",
   "metadata": {},
   "source": [
    "## Zadanie 3.\n",
    "Zapoznaj się z implementacją algorytmów Random Forest i Extremely Randomized Trees w pakiecie SciKit (http://scikitlearn.org/stable/modules/ensemble.html#forest). Użyj ich do klasyfikacji danych IRIS oraz Titanic. Oceń ich skuteczność dzieląc dane na dwa zestawy lub robiąc cross validation."
   ]
  },
  {
   "cell_type": "code",
   "execution_count": 26,
   "metadata": {},
   "outputs": [],
   "source": [
    "#load dataframes\n",
    "iris_df = pd.read_csv('https://archive.ics.uci.edu/ml/machine-learning-databases/iris/iris.data')\n",
    "iris_X = np.array(iris_df)[:,:-1]\n",
    "iris_Y = np.array(iris_df)[:, -1]\n",
    "\n",
    "titanic_df = pd.read_csv('data/titanic_train.csv')\n",
    "titanic_df = titanic_df.drop(['PassengerId', 'Name', 'Ticket', 'Cabin'], axis = 1).dropna()\n",
    "titanic_df['Sex'] = pd.Categorical(titanic_df['Sex']).codes\n",
    "titanic_df['Embarked'] = pd.Categorical(titanic_df['Embarked']).codes\n",
    "titanic_X = np.array(titanic_df)[:,:-1]\n",
    "titanic_Y = np.array(titanic_df)[:, -1]"
   ]
  },
  {
   "cell_type": "code",
   "execution_count": 21,
   "metadata": {},
   "outputs": [],
   "source": [
    "def crossvalidation(X, Y, k=10):\n",
    "    '''\n",
    "    X, Y - np.arrays\n",
    "    k - # of times crossvalidating\n",
    "    returns average score on testing set\n",
    "    '''\n",
    "    size = len(X) // k\n",
    "    score_f = score_et = 0\n",
    "    \n",
    "    for i in range(k):\n",
    "        test_X = X[i*size : (i+1)*size]\n",
    "        test_Y = Y[i*size : (i+1)*size]\n",
    "        \n",
    "        train_X = np.append(X[:i*size], X[(i+1)*size:]).reshape(-1, test_X.shape[1])\n",
    "        train_Y = np.append(Y[:i*size], Y[(i+1)*size:])\n",
    "\n",
    "        f = build_forest(train_X, train_Y)\n",
    "        et = build_extra_trees(train_X, train_Y)\n",
    "        \n",
    "        score_f += f.score(test_X, test_Y)\n",
    "        score_et += et.score(test_X, test_Y)\n",
    "    return score_f/k, score_et/k\n",
    "\n",
    "def build_forest(X, Y):\n",
    "    f = RandomForestClassifier(n_estimators=10)\n",
    "    f.fit(X, Y)\n",
    "    return f\n",
    "\n",
    "def build_extra_trees(X, Y):\n",
    "    et = ExtraTreesClassifier(n_estimators=10)\n",
    "    et.fit(X, Y)\n",
    "    return et"
   ]
  },
  {
   "cell_type": "code",
   "execution_count": 27,
   "metadata": {},
   "outputs": [
    {
     "name": "stdout",
     "output_type": "stream",
     "text": [
      "Avg score for CV for IRIS with RF: 0.9428571428571428, and ET: 0.9357142857142857\n",
      "Avg score for CV for Titanic with RF: 0.811267605633803, and ET: 0.7746478873239436\n"
     ]
    }
   ],
   "source": [
    "crs = crossvalidation(iris_X, iris_Y)\n",
    "print(f'Avg score for CV for IRIS with RF: {crs[0]}, and ET: {crs[1]}')\n",
    "\n",
    "crs = crossvalidation(titanic_X, titanic_Y)\n",
    "print(f'Avg score for CV for Titanic with RF: {crs[0]}, and ET: {crs[1]}')"
   ]
  },
  {
   "cell_type": "code",
   "execution_count": null,
   "metadata": {},
   "outputs": [],
   "source": []
  }
 ],
 "metadata": {
  "kernelspec": {
   "display_name": "Python 3",
   "language": "python",
   "name": "python3"
  },
  "language_info": {
   "codemirror_mode": {
    "name": "ipython",
    "version": 3
   },
   "file_extension": ".py",
   "mimetype": "text/x-python",
   "name": "python",
   "nbconvert_exporter": "python",
   "pygments_lexer": "ipython3",
   "version": "3.7.3"
  }
 },
 "nbformat": 4,
 "nbformat_minor": 4
}
