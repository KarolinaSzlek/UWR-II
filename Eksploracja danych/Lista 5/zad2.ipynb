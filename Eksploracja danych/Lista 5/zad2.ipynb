{
 "cells": [
  {
   "cell_type": "code",
   "execution_count": 22,
   "metadata": {},
   "outputs": [],
   "source": [
    "#setup\n",
    "import numpy as np\n",
    "import matplotlib.pyplot as plt\n",
    "import random\n",
    "import seaborn as sns\n",
    "import pandas as pd\n",
    "import scipy.stats as sstats\n",
    "from sklearn import tree\n",
    "\n",
    "\n",
    "import graphviz\n",
    "from sklearn.model_selection import train_test_split"
   ]
  },
  {
   "cell_type": "code",
   "execution_count": 2,
   "metadata": {},
   "outputs": [],
   "source": [
    "#load Titanic data\n",
    "titanic_df = pd.read_csv('data/titanic_train.csv')\n",
    "titanic_df = titanic_df.drop(['PassengerId', 'Name', 'Ticket', 'Cabin'], axis = 1).dropna()\n",
    "titanic_df['Sex'] = pd.Categorical(titanic_df['Sex']).codes\n",
    "titanic_df['Embarked'] = pd.Categorical(titanic_df['Embarked']).codes"
   ]
  },
  {
   "cell_type": "code",
   "execution_count": 95,
   "metadata": {},
   "outputs": [],
   "source": [
    "def crossvalidation(X, Y, k=10, criterion='gini', max_depth=100):\n",
    "    '''\n",
    "    X, Y - np.arrays\n",
    "    k - # of times crossvalidating\n",
    "    returns average score on testing set\n",
    "    '''\n",
    "    size = len(X) // k\n",
    "    score = 0\n",
    "    \n",
    "    for i in range(k):\n",
    "        test_X = X[i*size : (i+1)*size]\n",
    "        test_Y = Y[i*size : (i+1)*size]\n",
    "        \n",
    "        train_X = np.append(X[:i*size], X[(i+1)*size:]).reshape(-1, test_X.shape[1])\n",
    "        train_Y = np.append(Y[:i*size], Y[(i+1)*size:])\n",
    "\n",
    "        t = build_tree(train_X, train_Y, criterion=criterion, max_depth=max_depth)\n",
    "        \n",
    "        score += t.score(test_X, test_Y)\n",
    "    return score / k"
   ]
  },
  {
   "cell_type": "markdown",
   "metadata": {},
   "source": [
    "## Zadanie 2.\n",
    "W pakiecie SciKit do Pythona dostępnych jest kilka popularnych algorytmów klasyfikacji danych przy użyciu drzew klasyfikacyjnych. Zapoznaj się z nimi wykonując skrypt umieszczony w materiałach do wykładu. Do rysowania drzew użyj programu Graphviz.\n",
    "\n",
    "a) Jaką miarę różnorodności stosuje algorytm konstrukcji drzew klasyfikujących użyty w skrypcie? Dla danych Titanic sporządź drzewa klasyfikacyjne stosując indeks Giniego oraz entropię.\n",
    "\n",
    "b) Podziel dane Titanic na dane uczące i dane testowe (jak w zadaniu 1b), stwórz drzewa klasyfikacyjne na danych uczących i przetestuj na danych testowych.\n",
    "\n",
    "c) Spróbuj ograniczyć głębokość drzewa. Zobacz jak wpływa to na wyniki (zarówno na danych uczących jak i na danych testowych).\n",
    "\n",
    "d) Spróbuj przyciąć drzewo techniką omawianą na wykładzie lub własną. Zobacz jak wpływa to na wyniki (zarówno na danych uczących jak i na danych testowych).\n",
    "\n",
    "e) Zrób cross validation wszystkich tworzonych w tym zadaniu klasyfikatorów na zestawie danych Titanic."
   ]
  },
  {
   "cell_type": "markdown",
   "metadata": {},
   "source": [
    "### a) Jaką miarę różnorodności stosuje algorytm konstrukcji drzew klasyfikujących użyty w skrypcie? Dla danych Titanic sporządź drzewa klasyfikacyjne stosując indeks Giniego oraz entropię."
   ]
  },
  {
   "cell_type": "code",
   "execution_count": 96,
   "metadata": {},
   "outputs": [],
   "source": [
    "def build_tree(X, Y, criterion='gini', max_depth=100):\n",
    "    t = tree.DecisionTreeClassifier(criterion=criterion, max_depth=max_depth)\n",
    "    t.fit(X, Y)\n",
    "    return t\n",
    "\n",
    "def draw_tree(tree_, feature_names, target_names, name):\n",
    "    dot_data = tree.export_graphviz(tree_, out_file=None) \n",
    "    graph = graphviz.Source(dot_data) \n",
    "    graph.render(name) \n",
    "    dot_data = tree.export_graphviz(tree_, out_file=None, \n",
    "                     feature_names=feature_names,  \n",
    "                     class_names=target_names,  \n",
    "                     filled=True, rounded=True,  \n",
    "                     special_characters=True)  \n",
    "    graph = graphviz.Source(dot_data)  \n",
    "    return graph"
   ]
  },
  {
   "cell_type": "code",
   "execution_count": 97,
   "metadata": {},
   "outputs": [],
   "source": [
    "X = titanic_df.drop(['Survived'], axis=1).dropna()\n",
    "Y = titanic_df['Survived']"
   ]
  },
  {
   "cell_type": "code",
   "execution_count": 101,
   "metadata": {},
   "outputs": [
    {
     "name": "stdout",
     "output_type": "stream",
     "text": [
      "Score: 0.9859550561797753\n",
      "Crossvalidation: 0.7633802816901407\n"
     ]
    }
   ],
   "source": [
    "c = 'gini'\n",
    "t = build_tree(X, Y, criterion=c)\n",
    "print(f'Score: {t.score(X, Y)}')\n",
    "print(f'Crossvalidation: {crossvalidation(X, Y, criterion=c)}')\n",
    "# draw_tree(t, X.columns, ['0', '1'], 'titanic-gini')"
   ]
  },
  {
   "cell_type": "code",
   "execution_count": 102,
   "metadata": {},
   "outputs": [
    {
     "name": "stdout",
     "output_type": "stream",
     "text": [
      "Score: 0.9859550561797753\n",
      "Crossvalidation: 0.7746478873239437\n"
     ]
    }
   ],
   "source": [
    "c = 'entropy'\n",
    "t = build_tree(X, Y, criterion=c)\n",
    "\n",
    "print(f'Score: {t.score(X, Y)}')\n",
    "print(f'Crossvalidation: {crossvalidation(X, Y, criterion=c)}')\n",
    "# draw_tree(t, X.columns, ['0', '1'], 'titanic-entropy')"
   ]
  },
  {
   "cell_type": "markdown",
   "metadata": {},
   "source": [
    "### b) Podziel dane Titanic na dane uczące i dane testowe (jak w zadaniu 1b), stwórz drzewa klasyfikacyjne na danych uczących i przetestuj na danych testowych."
   ]
  },
  {
   "cell_type": "code",
   "execution_count": 10,
   "metadata": {},
   "outputs": [],
   "source": [
    "train_df, test_df = train_test_split(titanic_df, test_size=0.3333)\n",
    "train_X = train_df.drop(['Survived'], axis=1).dropna()\n",
    "train_Y = train_df['Survived']\n",
    "test_X = test_df.drop(['Survived'], axis=1).dropna()\n",
    "test_Y = test_df['Survived']"
   ]
  },
  {
   "cell_type": "code",
   "execution_count": 103,
   "metadata": {},
   "outputs": [
    {
     "name": "stdout",
     "output_type": "stream",
     "text": [
      "Score of training set: 0.989451476793249\n",
      "Score of training set: 0.7436974789915967\n",
      "Crossvalidation: 0.7676056338028169\n"
     ]
    }
   ],
   "source": [
    "c = 'gini'\n",
    "t = build_tree(train_X, train_Y, criterion=c)\n",
    "print(f'Score of training set: {t.score(train_X, train_Y)}')\n",
    "print(f'Score of training set: {t.score(test_X, test_Y)}')\n",
    "print(f'Crossvalidation: {crossvalidation(X, Y, criterion=c)}')\n",
    "# draw_tree(t, train_X.columns, ['0', '1'], 'titanic-gini')"
   ]
  },
  {
   "cell_type": "code",
   "execution_count": 104,
   "metadata": {},
   "outputs": [
    {
     "name": "stdout",
     "output_type": "stream",
     "text": [
      "Score of training set: 0.989451476793249\n",
      "Score of training set: 0.7352941176470589\n",
      "Crossvalidation: 0.7718309859154929\n"
     ]
    }
   ],
   "source": [
    "c = 'entropy'\n",
    "t = build_tree(train_X, train_Y, criterion=c)\n",
    "print(f'Score of training set: {t.score(train_X, train_Y)}')\n",
    "print(f'Score of training set: {t.score(test_X, test_Y)}')\n",
    "print(f'Crossvalidation: {crossvalidation(X, Y, criterion=c)}')\n",
    "# draw_tree(t, train_X.columns, ['0', '1'], 'titanic-gini')"
   ]
  },
  {
   "cell_type": "markdown",
   "metadata": {},
   "source": [
    "### c) Spróbuj ograniczyć głębokość drzewa. Zobacz jak wpływa to na wyniki (zarówno na danych uczących jak i na danych testowych)."
   ]
  },
  {
   "cell_type": "code",
   "execution_count": 105,
   "metadata": {},
   "outputs": [
    {
     "data": {
      "image/png": "[encoded data removed]",
      "text/plain": [
       "<Figure size 432x288 with 1 Axes>"
      ]
     },
     "metadata": {
      "needs_background": "light"
     },
     "output_type": "display_data"
    },
    {
     "data": {
      "image/png": "[encoded data removed]",
      "text/plain": [
       "<Figure size 432x288 with 1 Axes>"
      ]
     },
     "metadata": {
      "needs_background": "light"
     },
     "output_type": "display_data"
    }
   ],
   "source": [
    "MAX_DEPTHS = np.arange(1, 50)\n",
    "score_tra = np.zeros(len(MAX_DEPTHS))\n",
    "score_tes = np.zeros(len(MAX_DEPTHS))\n",
    "score_cross = np.zeros(len(MAX_DEPTHS))\n",
    "CRITERIONS = ['gini', 'entropy']\n",
    "\n",
    "for criterion in CRITERIONS:\n",
    "    for i, md in enumerate(MAX_DEPTHS):\n",
    "        t = build_tree(train_X, train_Y, criterion=criterion, max_depth=md)\n",
    "        score_tra[i] = t.score(train_X, train_Y)\n",
    "        score_tes[i] = t.score(test_X, test_Y)\n",
    "        score_cross[i] = crossvalidation(X, Y, max_depth=md)\n",
    "\n",
    "    plt.figure()\n",
    "    plt.title(f'Error rates for criterion {criterion}')\n",
    "    plt.plot(MAX_DEPTHS, score_tra, label='training')\n",
    "    plt.plot(MAX_DEPTHS, score_tes, label='test')\n",
    "    plt.plot(MAX_DEPTHS, score_cross, label='cross')\n",
    "    plt.legend(loc='right')"
   ]
  },
  {
   "cell_type": "markdown",
   "metadata": {},
   "source": [
    "### d) Spróbuj przyciąć drzewo techniką omawianą na wykładzie lub własną. Zobacz jak wpływa to na wyniki (zarówno na danych uczących jak i na danych testowych)."
   ]
  },
  {
   "cell_type": "code",
   "execution_count": 38,
   "metadata": {},
   "outputs": [
    {
     "ename": "NameError",
     "evalue": "name 'TODO' is not defined",
     "output_type": "error",
     "traceback": [
      "\u001b[0;31m---------------------------------------------------------------------------\u001b[0m",
      "\u001b[0;31mNameError\u001b[0m                                 Traceback (most recent call last)",
      "\u001b[0;32m<ipython-input-38-2494f9b4f745>\u001b[0m in \u001b[0;36m<module>\u001b[0;34m\u001b[0m\n\u001b[0;32m----> 1\u001b[0;31m \u001b[0mTODO\u001b[0m\u001b[0;34m\u001b[0m\u001b[0;34m\u001b[0m\u001b[0m\n\u001b[0m",
      "\u001b[0;31mNameError\u001b[0m: name 'TODO' is not defined"
     ]
    }
   ],
   "source": [
    "TODO"
   ]
  },
  {
   "cell_type": "code",
   "execution_count": null,
   "metadata": {},
   "outputs": [],
   "source": []
  }
 ],
 "metadata": {
  "kernelspec": {
   "display_name": "Python 3",
   "language": "python",
   "name": "python3"
  },
  "language_info": {
   "codemirror_mode": {
    "name": "ipython",
    "version": 3
   },
   "file_extension": ".py",
   "mimetype": "text/x-python",
   "name": "python",
   "nbconvert_exporter": "python",
   "pygments_lexer": "ipython3",
   "version": "3.7.3"
  }
 },
 "nbformat": 4,
 "nbformat_minor": 4
}
