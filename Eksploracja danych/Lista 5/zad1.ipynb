{
 "cells": [
  {
   "cell_type": "code",
   "execution_count": 1,
   "metadata": {},
   "outputs": [],
   "source": [
    "#setup\n",
    "import numpy as np\n",
    "import matplotlib.pyplot as plt\n",
    "import random\n",
    "\n",
    "import pandas as pd\n",
    "import scipy.stats as sstats\n",
    "from sklearn.model_selection import train_test_split"
   ]
  },
  {
   "cell_type": "code",
   "execution_count": 2,
   "metadata": {},
   "outputs": [],
   "source": [
    "def KNN(train_X, train_Y, test_X, ks, verbose=False):\n",
    "    \"\"\"\n",
    "    Compute predictions for various k\n",
    "    Args:\n",
    "        train_X: array of shape Ntrain x D\n",
    "        train_Y: array of shape Ntrain\n",
    "        test_X: array of shape Ntest x D\n",
    "        ks: list of integers\n",
    "    Returns:\n",
    "        preds: dict k: predictions for k\n",
    "    \"\"\"\n",
    "    # Cats data to float32\n",
    "    train_X = train_X.astype(np.float32)\n",
    "    test_X = test_X.astype(np.float32)\n",
    "\n",
    "    # Alloc space for results\n",
    "    preds = {}\n",
    "    \n",
    "\n",
    "    if verbose:\n",
    "        print(\"Computing distances... \", end='')\n",
    "    dists = -2 * np.dot(train_X, test_X.T) + np.sum(test_X**2, axis=1) + np.sum(train_X**2, axis=1)[:, np.newaxis]\n",
    "    \n",
    "    if verbose:\n",
    "        print(\"Sorting... \", end='')\n",
    "\n",
    "    closest = np.argsort(dists, axis=0)\n",
    "\n",
    "    if verbose:\n",
    "        print(\"Computing predictions...\", end='')\n",
    "    \n",
    "    targets = train_Y[closest]\n",
    "\n",
    "    for k in ks:\n",
    "        predictions = sstats.mode(targets[:k])[0]\n",
    "        predictions = predictions.ravel()\n",
    "        preds[k] = predictions\n",
    "    if verbose:\n",
    "        print(\"Done\")\n",
    "    return preds"
   ]
  },
  {
   "cell_type": "markdown",
   "metadata": {},
   "source": [
    "## Zadanie 1.\n",
    "a) Napisz własny klasyfikator K-Nearest Neighbours (KNN). Zadanie można wykonać w Matlabie, Pythonie lub innym języku programowania. W zadaniu można użyć wcześniej zaimplementowanej funkcji liczenia odległości (na przykład z zadania 0 z listy 3).\n",
    "\n",
    "b) Napisany klasyfikator KNN przetestuj na danych IRIS. Podziel dane losowo na dwie części: 100 wektorów danych użyj jako dane uczące do stworzenia klasyfikatora i 50 wektorów danych użyj jako dane testowe do przetestowania stworzonego klasyfikatora. Powtórz ten eksperyment kilkukrotnie i porównaj wyniki.\n",
    "\n",
    "c) Przeprowadź też podobny test klasyfikatora KNN na danych Optical Recognition of Handwritten Digits (https://archive.ics.uci.edu/ml/datasets/Optical+Recognition+of+Handwritten+Digits).\n",
    "\n",
    "d) Zrób cross validation klasyfikatora KNN na obu zestawach danych: podziel dane na 10 części, kolejno bierz jedną z nich, traktuj ją jako dane testowe, a pozostałe 9 części jako dane uczące, stwórz klasyfikator na danych uczących i przetestuj na danych testowych, odnotuj liczbę błędów, powtórz obliczenia dla kolejnych części danych, policz całkowity błąd klasyfikatora sumując odnotowane liczby błędów."
   ]
  },
  {
   "cell_type": "code",
   "execution_count": 16,
   "metadata": {},
   "outputs": [],
   "source": [
    "#load iris\n",
    "iris_url = 'https://archive.ics.uci.edu/ml/machine-learning-databases/iris/iris.data'\n",
    "iris_df = pd.read_csv(iris_url)\n",
    "\n",
    "# Set the column names\n",
    "iris_df.columns = ['sepal_length', 'sepal_width', 'petal_length', 'petal_width', 'target']"
   ]
  },
  {
   "cell_type": "code",
   "execution_count": 17,
   "metadata": {},
   "outputs": [
    {
     "name": "stdout",
     "output_type": "stream",
     "text": [
      "Error rates:  {1: 0.04, 3: 0.02, 5: 0.0, 7: 0.02, 9: 0.02}\n",
      "Error rates:  {1: 0.04, 3: 0.04, 5: 0.04, 7: 0.04, 9: 0.04}\n",
      "Error rates:  {1: 0.06, 3: 0.04, 5: 0.04, 7: 0.0, 9: 0.02}\n",
      "Error rates:  {1: 0.04, 3: 0.02, 5: 0.02, 7: 0.02, 9: 0.02}\n",
      "Error rates:  {1: 0.04, 3: 0.04, 5: 0.02, 7: 0.0, 9: 0.0}\n"
     ]
    }
   ],
   "source": [
    "ks = np.arange(1, 10, 2)\n",
    "for _ in range(5):\n",
    "    train_iris_df, test_iris_df = train_test_split(iris_df, test_size=0.3333)\n",
    "\n",
    "    train_x = np.array(train_iris_df.drop(['target'], axis=1))\n",
    "    train_y = np.array(train_iris_df['target'])\n",
    "\n",
    "    test_x = np.array(test_iris_df.drop(['target'], axis=1))\n",
    "    test_y = np.array(test_iris_df['target'])\n",
    "\n",
    "    err_rate = {}\n",
    "    knn = KNN(train_x, train_y, test_x, ks)\n",
    "    for k, clas in knn.items():\n",
    "        err_rate[k] = np.count_nonzero(clas != test_y) / len(clas)\n",
    "\n",
    "    print('Error rates: ', err_rate)"
   ]
  },
  {
   "cell_type": "code",
   "execution_count": 13,
   "metadata": {},
   "outputs": [],
   "source": [
    "#load Optical Recognition\n",
    "digits_train_url = 'https://archive.ics.uci.edu/ml/machine-learning-databases/optdigits/optdigits.tra'\n",
    "digits_test_url = 'https://archive.ics.uci.edu/ml/machine-learning-databases/optdigits/optdigits.tes'\n",
    "digits_train_df = pd.read_csv(digits_train_url, header=None)\n",
    "digits_test_df = pd.read_csv(digits_test_url, header=None)\n",
    "\n",
    "train_x = np.array(digits_train_df)[:, :-1]\n",
    "train_y = np.array(digits_train_df)[:, -1]\n",
    "\n",
    "test_x = np.array(digits_test_df)[:, :-1]\n",
    "test_y = np.array(digits_test_df)[:, -1]"
   ]
  },
  {
   "cell_type": "code",
   "execution_count": 15,
   "metadata": {},
   "outputs": [
    {
     "name": "stdout",
     "output_type": "stream",
     "text": [
      "Error rates:  {1: 0.02003338898163606, 3: 0.021702838063439065, 5: 0.021146355036171398, 7: 0.02337228714524207, 9: 0.022259321090706732}\n"
     ]
    }
   ],
   "source": [
    "ks = np.arange(1, 10, 2)\n",
    "err_rate = {}\n",
    "knn = KNN(train_x, train_y, test_x, ks)\n",
    "for k,  clas in knn.items():\n",
    "    err_rate[k] = np.count_nonzero(clas != test_y) / len(clas)\n",
    "\n",
    "print('Error rates: ', err_rate)"
   ]
  },
  {
   "cell_type": "code",
   "execution_count": null,
   "metadata": {},
   "outputs": [],
   "source": []
  }
 ],
 "metadata": {
  "kernelspec": {
   "display_name": "Python 3",
   "language": "python",
   "name": "python3"
  },
  "language_info": {
   "codemirror_mode": {
    "name": "ipython",
    "version": 3
   },
   "file_extension": ".py",
   "mimetype": "text/x-python",
   "name": "python",
   "nbconvert_exporter": "python",
   "pygments_lexer": "ipython3",
   "version": "3.7.3"
  }
 },
 "nbformat": 4,
 "nbformat_minor": 4
}
