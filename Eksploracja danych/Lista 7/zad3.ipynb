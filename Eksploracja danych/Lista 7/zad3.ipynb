{
 "cells": [
  {
   "cell_type": "code",
   "execution_count": 1,
   "metadata": {},
   "outputs": [],
   "source": [
    "#setup\n",
    "import numpy as np\n",
    "import random\n",
    "import pandas as pd"
   ]
  },
  {
   "cell_type": "markdown",
   "metadata": {},
   "source": [
    "## Zadanie 3. (2 punkty)\n",
    "Zaimplementuj prostą metodę rozpoznawania twarzy:\n",
    "- wczytane są zdjęcia wzorcowe (5 zdjęć każdej z 50 osób), czyli 250 wektorów 4920-wymiarowych x1, x2, ..., x250 ∈ R4920,\n",
    "- wiadomo które zdjęcia wzorcowe odpowiadają którym osobom (w zbiorze danych zdjęcia osób są zapisane kolejno: 5 zdjęć osoby nr 1, 5 zdjęć osoby nr 2, ..., 5 zdjęć osoby nr 50), co można określić funkcją osoba(xk) = (k-1) div 5 + 1,\n",
    "- na wejściu podawane jest zdjęcie nieznanej osoby, czyli wektor 4920 wymiarowy y ∈ R4920,\n",
    "- dla wektora y należy wyznaczyć najbliższy mu wektor xk, dla k = 1, 2, ..., 250, (najbliższy w sensie odległości euklidesowej w R4920),\n",
    "- jeżeli odległość między y a xk nie przekracza pewnego ustalonego progu, to można uznać, że y jest zdjęciem twarzy osoby osoba(xk).\n",
    "Wczytaj drugi zestaw danych (zawierający 100 zdjęć – po 2 zdjęcia każdej z 50 osób). Przetestuj na tym zestawie danych efektywność zaimplementowanej metody (zdjęcia wzorcowe pochodzą z pierwszego zestawu danych, drugi zestaw danych jest używany tylko do testów). Dokładnie przeanalizuj wyniki."
   ]
  },
  {
   "cell_type": "code",
   "execution_count": 2,
   "metadata": {},
   "outputs": [],
   "source": [
    "train = pd.read_csv('data/ri_train.csv', header=None).T.astype(np.uint8).values\n",
    "test = pd.read_csv('data/ri_test.csv', header=None).T.astype(np.uint8).values"
   ]
  },
  {
   "cell_type": "code",
   "execution_count": 168,
   "metadata": {},
   "outputs": [],
   "source": [
    "err = 0\n",
    "for i in range(len(train) // 5):\n",
    "    arr = train[5*i:5*(i+1)]\n",
    "    err += np.mean([(((arr - arr[j])**2).sum(axis=1).sum() / 4).mean() for j in range(5)])\n",
    "epsilon = 1.15 * err / (len(train)//5)"
   ]
  },
  {
   "cell_type": "code",
   "execution_count": 170,
   "metadata": {},
   "outputs": [],
   "source": [
    "def nearest(img):\n",
    "    close = ((train - img)**2).sum(axis=1)\n",
    "    if close.min() < epsilon:\n",
    "        return close.argmin() // 5\n",
    "    return None"
   ]
  },
  {
   "cell_type": "code",
   "execution_count": 188,
   "metadata": {},
   "outputs": [],
   "source": [
    "preds = np.array(list(map(lambda x: nearest(test[x]), range(len(test)))))"
   ]
  },
  {
   "cell_type": "code",
   "execution_count": 193,
   "metadata": {},
   "outputs": [
    {
     "name": "stdout",
     "output_type": "stream",
     "text": [
      "Train error: 0.0\n",
      "Test error: 0.27\n",
      "Unclassified faces: 8\n"
     ]
    }
   ],
   "source": [
    "err_tr = 0\n",
    "for i in range(len(train)):\n",
    "    if nearest(train[i]) != i//5:\n",
    "        err_tr += 1\n",
    "\n",
    "err_te = 0\n",
    "for i in range(len(test)):\n",
    "    if preds[i] != i//2:\n",
    "        err_te += 1\n",
    "\n",
    "print(f'Train error: {err_tr / len(train)}\\nTest error: {err_te / len(test)}')\n",
    "\n",
    "print(f'Unclassified faces: {np.count_nonzero(preds == None)}')"
   ]
  },
  {
   "cell_type": "code",
   "execution_count": null,
   "metadata": {},
   "outputs": [],
   "source": []
  }
 ],
 "metadata": {
  "kernelspec": {
   "display_name": "Python 3",
   "language": "python",
   "name": "python3"
  },
  "language_info": {
   "codemirror_mode": {
    "name": "ipython",
    "version": 3
   },
   "file_extension": ".py",
   "mimetype": "text/x-python",
   "name": "python",
   "nbconvert_exporter": "python",
   "pygments_lexer": "ipython3",
   "version": "3.7.3"
  }
 },
 "nbformat": 4,
 "nbformat_minor": 4
}
