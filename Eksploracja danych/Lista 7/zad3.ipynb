{
 "cells": [
  {
   "cell_type": "code",
   "execution_count": 2,
   "metadata": {},
   "outputs": [],
   "source": [
    "#setup\n",
    "import numpy as np\n",
    "import random\n",
    "import pandas as pd"
   ]
  },
  {
   "cell_type": "markdown",
   "metadata": {},
   "source": [
    "## Zadanie 3. (2 punkty)\n",
    "Zaimplementuj prostą metodę rozpoznawania twarzy:\n",
    "- wczytane są zdjęcia wzorcowe (5 zdjęć każdej z 50 osób), czyli 250 wektorów 4920-wymiarowych x1, x2, ..., x250 ∈ R4920,\n",
    "- wiadomo które zdjęcia wzorcowe odpowiadają którym osobom (w zbiorze danych zdjęcia osób są zapisane kolejno: 5 zdjęć osoby nr 1, 5 zdjęć osoby nr 2, ..., 5 zdjęć osoby nr 50), co można określić funkcją osoba(xk) = (k-1) div 5 + 1,\n",
    "- na wejściu podawane jest zdjęcie nieznanej osoby, czyli wektor 4920 wymiarowy y ∈ R4920,\n",
    "- dla wektora y należy wyznaczyć najbliższy mu wektor xk, dla k = 1, 2, ..., 250, (najbliższy w sensie odległości euklidesowej w R4920),\n",
    "- jeżeli odległość między y a xk nie przekracza pewnego ustalonego progu, to można uznać, że y jest zdjęciem twarzy osoby osoba(xk).\n",
    "Wczytaj drugi zestaw danych (zawierający 100 zdjęć – po 2 zdjęcia każdej z 50 osób). Przetestuj na tym zestawie danych efektywność zaimplementowanej metody (zdjęcia wzorcowe pochodzą z pierwszego zestawu danych, drugi zestaw danych jest używany tylko do testów). Dokładnie przeanalizuj wyniki."
   ]
  },
  {
   "cell_type": "code",
   "execution_count": 183,
   "metadata": {},
   "outputs": [],
   "source": [
    "train = pd.read_csv('data/ri_train.csv', header=None).T.astype(np.uint8).values\n",
    "test = pd.read_csv('data/ri_test.csv', header=None).T.astype(np.uint8).values"
   ]
  },
  {
   "cell_type": "code",
   "execution_count": 198,
   "metadata": {},
   "outputs": [
    {
     "data": {
      "text/plain": [
       "98.33935999999999"
      ]
     },
     "execution_count": 198,
     "metadata": {},
     "output_type": "execute_result"
    }
   ],
   "source": [
    "err = 0\n",
    "\n",
    "for i in range(len(train)):\n",
    "    if i%5 == 0:\n",
    "        arr = train[i:i+5]\n",
    "    idx = i%5\n",
    "    \n",
    "    err += (((arr[:idx] - arr[idx])**2).sum() + ((arr[idx+1:] - arr[idx])**2).sum())\\\n",
    "        / (4 * train.shape[1])\n",
    "epsilon = 1.2 * err / len(train)\n",
    "epsilon"
   ]
  },
  {
   "cell_type": "code",
   "execution_count": 199,
   "metadata": {},
   "outputs": [],
   "source": [
    "def nearest(img):\n",
    "    err = ((train - img)**2).mean(axis=1)\n",
    "    if err.min() < epsilon:\n",
    "        return err.argmin() // 5\n",
    "    return None"
   ]
  },
  {
   "cell_type": "code",
   "execution_count": 200,
   "metadata": {},
   "outputs": [],
   "source": [
    "preds = np.array(list(map(lambda x: nearest(test[x]), range(len(test)))))"
   ]
  },
  {
   "cell_type": "code",
   "execution_count": 201,
   "metadata": {},
   "outputs": [
    {
     "data": {
      "text/plain": [
       "array([29,  0,  1,  1, 31,  2,  3,  3,  4,  4, 29,  5, 49,  6,  7,  7, 20,\n",
       "        8,  9,  9, 10, 10,  3, 11, 12, 12, 13, 13, 22, 14, 15, 15,  6, 16,\n",
       "       17, 17, 18, 18, 19, 19, 20, 20, 21, 21, 22, 22, 32, 23,  1, 24, 25,\n",
       "       25, 26, 26, 27, 27,  6, 28, 29, 29, 30, 30, 28, 31, 31, 32, 33, 33,\n",
       "       49, 34, 35, 35, 23, 36, 49, 37, 46, 38, 48, 39, 46, 40, 31, 41, 42,\n",
       "       42, 22, 43, 44, 44,  5, 12, 41, 46, 47, 47, 49, 48, 49, 49])"
      ]
     },
     "execution_count": 201,
     "metadata": {},
     "output_type": "execute_result"
    }
   ],
   "source": [
    "preds"
   ]
  },
  {
   "cell_type": "code",
   "execution_count": 202,
   "metadata": {},
   "outputs": [
    {
     "name": "stdout",
     "output_type": "stream",
     "text": [
      "Train error: 0.0\n",
      "Test error: 0.25\n",
      "Unclassified faces: 0.0\n",
      "Misclassified faces: 0.25\n"
     ]
    }
   ],
   "source": [
    "err_tr = 0\n",
    "for i in range(len(train)):\n",
    "    if nearest(train[i]) != i//5:\n",
    "        err_tr += 1\n",
    "\n",
    "miss_te = none_te = 0\n",
    "for i in range(len(test)):\n",
    "    if preds[i] != i//2:\n",
    "        if preds[i] == None:\n",
    "            none_te += 1\n",
    "        else:\n",
    "            miss_te += 1\n",
    "\n",
    "print(f'Train error: {err_tr / len(train)}\\nTest error: {(miss_te + none_te) / len(test)}')\n",
    "\n",
    "print(f'Unclassified faces: {none_te / len(test)}\\nMisclassified faces: {miss_te / len(test)}')"
   ]
  },
  {
   "cell_type": "code",
   "execution_count": null,
   "metadata": {},
   "outputs": [],
   "source": []
  }
 ],
 "metadata": {
  "kernelspec": {
   "display_name": "Python 3",
   "language": "python",
   "name": "python3"
  },
  "language_info": {
   "codemirror_mode": {
    "name": "ipython",
    "version": 3
   },
   "file_extension": ".py",
   "mimetype": "text/x-python",
   "name": "python",
   "nbconvert_exporter": "python",
   "pygments_lexer": "ipython3",
   "version": "3.7.3"
  }
 },
 "nbformat": 4,
 "nbformat_minor": 4
}
