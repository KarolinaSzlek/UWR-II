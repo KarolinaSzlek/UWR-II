{
 "cells": [
  {
   "cell_type": "code",
   "execution_count": 134,
   "metadata": {},
   "outputs": [],
   "source": [
    "#setup\n",
    "import numpy as np\n",
    "import random\n",
    "import pandas as pd\n",
    "import itertools\n",
    "import matplotlib.pyplot as plt\n",
    "from tqdm import tqdm\n",
    "\n",
    "from sklearn.decomposition import PCA\n",
    "\n",
    "from KNN import KNN"
   ]
  },
  {
   "cell_type": "markdown",
   "metadata": {},
   "source": [
    "## Zadanie 5. (2 punkty)\n",
    "Zamiast proponowanej prostej metody rozpoznawania twarzy użyj klasyfikatora KNN. Porównaj skuteczność klasyfikacji dla różnych k, dla danych oryginalnych i danych zredukowanych (dla różnej liczby wymiarów). Porównanie zrób metodą cross-validation dla połączonych obu zestawów danych."
   ]
  },
  {
   "cell_type": "code",
   "execution_count": 105,
   "metadata": {},
   "outputs": [],
   "source": [
    "train_x = pd.read_csv('data/ri_train.csv', header=None).T.astype(np.uint8).values\n",
    "test_x = pd.read_csv('data/ri_test.csv', header=None).T.astype(np.uint8).values\n",
    "train_y = np.arange(len(train_x)) // 5\n",
    "test_y = np.arange(len(test_x)) // 2"
   ]
  },
  {
   "cell_type": "code",
   "execution_count": 106,
   "metadata": {},
   "outputs": [],
   "source": [
    "x = np.vstack((train_x, test_x))\n",
    "y = np.append(train_y, test_y)"
   ]
  },
  {
   "cell_type": "code",
   "execution_count": 109,
   "metadata": {},
   "outputs": [],
   "source": [
    "perm = np.random.permutation(len(x))\n",
    "x = x[perm, :]\n",
    "y = y[perm]"
   ]
  },
  {
   "cell_type": "code",
   "execution_count": 135,
   "metadata": {},
   "outputs": [
    {
     "name": "stderr",
     "output_type": "stream",
     "text": [
      "100%|██████████| 5/5 [00:31<00:00,  6.27s/it]\n"
     ]
    }
   ],
   "source": [
    "df = pd.DataFrame({'no_attrs': [], 'k': [], 'mean_err': []})\n",
    "ks = np.arange(1, 20, 2)\n",
    "no_attrs = [16, 32, 64, 128, 256]\n",
    "splits = 35\n",
    "\n",
    "elems_in_split = len(x) // splits\n",
    "\n",
    "for attr in tqdm(no_attrs):\n",
    "    pca = PCA(attr)\n",
    "    \n",
    "    err = {k: 0 for k in ks}\n",
    "    for j in range(splits):\n",
    "        train_x = np.vstack((x[:j * elems_in_split], x[(j+1) * elems_in_split:]))\n",
    "        train_y = np.append(y[:j * elems_in_split], y[(j+1) * elems_in_split:])\n",
    "        test_x = x[j * elems_in_split : (j+1) * elems_in_split]\n",
    "        test_y = y[j * elems_in_split : (j+1) * elems_in_split]\n",
    "        \n",
    "        train_x_proj = pca.fit_transform(train_x)\n",
    "        test_x_proj = pca.transform(test_x)\n",
    "        \n",
    "        knn = KNN(train_x_proj, train_y, test_x_proj, ks)\n",
    "        for k in ks:\n",
    "            err[k] += np.count_nonzero(knn[k] != test_y) / len(test_y)\n",
    "    for k in ks:\n",
    "        df.loc[len(df)] = [attr, k, err[k]/splits]\n",
    "\n",
    "err = {k: 0 for k in ks}\n",
    "for j in range(splits):\n",
    "    train_x = np.vstack((x[:j * elems_in_split], x[(j+1) * elems_in_split:]))\n",
    "    train_y = np.append(y[:j * elems_in_split], y[(j+1) * elems_in_split:])\n",
    "    test_x = x[j * elems_in_split : (j+1) * elems_in_split]\n",
    "    test_y = y[j * elems_in_split : (j+1) * elems_in_split]\n",
    "\n",
    "    knn = KNN(train_x, train_y, test_x, ks)\n",
    "    for k in ks:\n",
    "        err[k] += np.count_nonzero(knn[k] != test_y) / len(test_y)\n",
    "for k in ks:\n",
    "    df.loc[len(df)] = [x.shape[1], k, err[k]/splits]"
   ]
  },
  {
   "cell_type": "code",
   "execution_count": 118,
   "metadata": {},
   "outputs": [
    {
     "data": {
      "text/html": [
       "<div>\n",
       "<style scoped>\n",
       "    .dataframe tbody tr th:only-of-type {\n",
       "        vertical-align: middle;\n",
       "    }\n",
       "\n",
       "    .dataframe tbody tr th {\n",
       "        vertical-align: top;\n",
       "    }\n",
       "\n",
       "    .dataframe thead th {\n",
       "        text-align: right;\n",
       "    }\n",
       "</style>\n",
       "<table border=\"1\" class=\"dataframe\">\n",
       "  <thead>\n",
       "    <tr style=\"text-align: right;\">\n",
       "      <th></th>\n",
       "      <th># attributes</th>\n",
       "      <th>k</th>\n",
       "      <th>mean err</th>\n",
       "    </tr>\n",
       "  </thead>\n",
       "  <tbody>\n",
       "    <tr>\n",
       "      <th>0</th>\n",
       "      <td>16.0</td>\n",
       "      <td>1.0</td>\n",
       "      <td>0.551429</td>\n",
       "    </tr>\n",
       "    <tr>\n",
       "      <th>1</th>\n",
       "      <td>16.0</td>\n",
       "      <td>3.0</td>\n",
       "      <td>0.588571</td>\n",
       "    </tr>\n",
       "    <tr>\n",
       "      <th>2</th>\n",
       "      <td>16.0</td>\n",
       "      <td>5.0</td>\n",
       "      <td>0.662857</td>\n",
       "    </tr>\n",
       "    <tr>\n",
       "      <th>3</th>\n",
       "      <td>16.0</td>\n",
       "      <td>7.0</td>\n",
       "      <td>0.708571</td>\n",
       "    </tr>\n",
       "    <tr>\n",
       "      <th>4</th>\n",
       "      <td>32.0</td>\n",
       "      <td>1.0</td>\n",
       "      <td>0.505714</td>\n",
       "    </tr>\n",
       "  </tbody>\n",
       "</table>\n",
       "</div>"
      ],
      "text/plain": [
       "   # attributes    k  mean err\n",
       "0          16.0  1.0  0.551429\n",
       "1          16.0  3.0  0.588571\n",
       "2          16.0  5.0  0.662857\n",
       "3          16.0  7.0  0.708571\n",
       "4          32.0  1.0  0.505714"
      ]
     },
     "execution_count": 118,
     "metadata": {},
     "output_type": "execute_result"
    }
   ],
   "source": [
    "df.head()"
   ]
  },
  {
   "cell_type": "code",
   "execution_count": 136,
   "metadata": {},
   "outputs": [
    {
     "data": {
      "text/plain": [
       "<matplotlib.legend.Legend at 0x11c9e9748>"
      ]
     },
     "execution_count": 136,
     "metadata": {},
     "output_type": "execute_result"
    },
    {
     "data": {
      "image/png": "[encoded data removed]",
      "text/plain": [
       "<Figure size 432x288 with 1 Axes>"
      ]
     },
     "metadata": {
      "needs_background": "light"
     },
     "output_type": "display_data"
    }
   ],
   "source": [
    "plt.xlabel('K')\n",
    "plt.ylabel('Mean error')\n",
    "for attr in no_attrs + [x.shape[1]]:\n",
    "    data = df[df['no_attrs'] == attr]\n",
    "    plt.plot(data['k'], data['mean_err'], label=attr)\n",
    "plt.legend()"
   ]
  },
  {
   "cell_type": "code",
   "execution_count": null,
   "metadata": {},
   "outputs": [],
   "source": []
  }
 ],
 "metadata": {
  "kernelspec": {
   "display_name": "Python 3",
   "language": "python",
   "name": "python3"
  },
  "language_info": {
   "codemirror_mode": {
    "name": "ipython",
    "version": 3
   },
   "file_extension": ".py",
   "mimetype": "text/x-python",
   "name": "python",
   "nbconvert_exporter": "python",
   "pygments_lexer": "ipython3",
   "version": "3.7.3"
  }
 },
 "nbformat": 4,
 "nbformat_minor": 4
}
