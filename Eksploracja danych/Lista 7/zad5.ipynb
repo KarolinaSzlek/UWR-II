{
 "cells": [
  {
   "cell_type": "code",
   "execution_count": 1,
   "metadata": {},
   "outputs": [],
   "source": [
    "#setup\n",
    "import numpy as np\n",
    "import random\n",
    "import pandas as pd\n",
    "import itertools\n",
    "import matplotlib.pyplot as plt\n",
    "from tqdm import tqdm\n",
    "\n",
    "from sklearn.decomposition import PCA\n",
    "\n",
    "from KNN import KNN"
   ]
  },
  {
   "cell_type": "markdown",
   "metadata": {},
   "source": [
    "## Zadanie 5. (2 punkty)\n",
    "Zamiast proponowanej prostej metody rozpoznawania twarzy użyj klasyfikatora KNN. Porównaj skuteczność klasyfikacji dla różnych k, dla danych oryginalnych i danych zredukowanych (dla różnej liczby wymiarów). Porównanie zrób metodą cross-validation dla połączonych obu zestawów danych."
   ]
  },
  {
   "cell_type": "code",
   "execution_count": 2,
   "metadata": {},
   "outputs": [],
   "source": [
    "train_x = pd.read_csv('data/ri_train.csv', header=None).T.astype(np.uint8).values\n",
    "test_x = pd.read_csv('data/ri_test.csv', header=None).T.astype(np.uint8).values\n",
    "train_y = np.arange(len(train_x)) // 5\n",
    "test_y = np.arange(len(test_x)) // 2"
   ]
  },
  {
   "cell_type": "code",
   "execution_count": 3,
   "metadata": {},
   "outputs": [],
   "source": [
    "x = np.vstack((train_x, test_x))\n",
    "y = np.append(train_y, test_y)"
   ]
  },
  {
   "cell_type": "code",
   "execution_count": 4,
   "metadata": {},
   "outputs": [],
   "source": [
    "perm = np.random.permutation(len(x))\n",
    "x = x[perm, :]\n",
    "y = y[perm]"
   ]
  },
  {
   "cell_type": "code",
   "execution_count": 5,
   "metadata": {},
   "outputs": [
    {
     "name": "stderr",
     "output_type": "stream",
     "text": [
      "100%|██████████| 5/5 [00:30<00:00,  6.15s/it]\n"
     ]
    }
   ],
   "source": [
    "df = pd.DataFrame({'no_attrs': [], 'k': [], 'mean_score': []})\n",
    "ks = np.arange(1, 20, 2)\n",
    "no_attrs = [16, 32, 64, 128, 256]\n",
    "splits = 35\n",
    "\n",
    "elems_in_split = len(x) // splits\n",
    "\n",
    "for attr in tqdm(no_attrs):\n",
    "    pca = PCA(attr, whiten=True)\n",
    "    \n",
    "    score = {k: 0 for k in ks}\n",
    "    for j in range(splits):\n",
    "        train_x = np.vstack((x[:j * elems_in_split], x[(j+1) * elems_in_split:]))\n",
    "        train_y = np.append(y[:j * elems_in_split], y[(j+1) * elems_in_split:])\n",
    "        test_x = x[j * elems_in_split : (j+1) * elems_in_split]\n",
    "        test_y = y[j * elems_in_split : (j+1) * elems_in_split]\n",
    "        \n",
    "        train_x_proj = pca.fit_transform(train_x)\n",
    "        test_x_proj = pca.transform(test_x)\n",
    "        \n",
    "        knn = KNN(train_x_proj, train_y, test_x_proj, ks)\n",
    "        for k in ks:\n",
    "            score[k] += np.count_nonzero(knn[k] == test_y) / len(test_y)\n",
    "    for k in ks:\n",
    "        df.loc[len(df)] = [attr, k, score[k]/splits]\n",
    "\n",
    "score = {k: 0 for k in ks}\n",
    "for j in range(splits):\n",
    "    train_x = np.vstack((x[:j * elems_in_split], x[(j+1) * elems_in_split:]))\n",
    "    train_y = np.append(y[:j * elems_in_split], y[(j+1) * elems_in_split:])\n",
    "    test_x = x[j * elems_in_split : (j+1) * elems_in_split]\n",
    "    test_y = y[j * elems_in_split : (j+1) * elems_in_split]\n",
    "\n",
    "    knn = KNN(train_x, train_y, test_x, ks)\n",
    "    for k in ks:\n",
    "        score[k] += np.count_nonzero(knn[k] == test_y) / len(test_y)\n",
    "for k in ks:\n",
    "    df.loc[len(df)] = [x.shape[1], k, score[k]/splits]"
   ]
  },
  {
   "cell_type": "code",
   "execution_count": 6,
   "metadata": {},
   "outputs": [
    {
     "data": {
      "text/plain": [
       "<matplotlib.legend.Legend at 0x101e2ef98>"
      ]
     },
     "execution_count": 6,
     "metadata": {},
     "output_type": "execute_result"
    },
    {
     "data": {
      "image/png": "[encoded data removed]",
      "text/plain": [
       "<Figure size 432x288 with 1 Axes>"
      ]
     },
     "metadata": {
      "needs_background": "light"
     },
     "output_type": "display_data"
    }
   ],
   "source": [
    "plt.xlabel('K')\n",
    "plt.ylabel('Mean score')\n",
    "for attr in no_attrs + [x.shape[1]]:\n",
    "    data = df[df['no_attrs'] == attr]\n",
    "    plt.plot(data['k'], data['mean_score'], label=attr)\n",
    "plt.legend()"
   ]
  },
  {
   "cell_type": "code",
   "execution_count": null,
   "metadata": {},
   "outputs": [],
   "source": []
  }
 ],
 "metadata": {
  "kernelspec": {
   "display_name": "Python 3",
   "language": "python",
   "name": "python3"
  },
  "language_info": {
   "codemirror_mode": {
    "name": "ipython",
    "version": 3
   },
   "file_extension": ".py",
   "mimetype": "text/x-python",
   "name": "python",
   "nbconvert_exporter": "python",
   "pygments_lexer": "ipython3",
   "version": "3.7.3"
  }
 },
 "nbformat": 4,
 "nbformat_minor": 4
}
