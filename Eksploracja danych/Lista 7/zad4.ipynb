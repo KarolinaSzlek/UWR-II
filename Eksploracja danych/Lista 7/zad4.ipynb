{
 "cells": [
  {
   "cell_type": "code",
   "execution_count": 10,
   "metadata": {},
   "outputs": [],
   "source": [
    "#setup\n",
    "import numpy as np\n",
    "import random\n",
    "import pandas as pd\n",
    "\n",
    "from PIL import Image\n",
    "from IPython.display import display\n",
    "\n",
    "from sklearn.decomposition import PCA"
   ]
  },
  {
   "cell_type": "markdown",
   "metadata": {},
   "source": [
    "## Zadanie 4. (2 punkty)\n",
    "Zmień metodę rozpoznawania twarzy z poprzedniego zadania w taki sposób, że zamiast pracować w przestrzeni R4920 będziemy pracować w przestrzeni mniej wymiarowej (wyznaczonej przez redukcję wymiarowości pierwszego zestawu danych metodą PCA). Porównaj tę metodę z metodą oryginalną (używając do testów drugiego zestawu danych). Dokładnie przeanalizuj wyniki."
   ]
  },
  {
   "cell_type": "code",
   "execution_count": 80,
   "metadata": {},
   "outputs": [],
   "source": [
    "def nearest(img):\n",
    "    err = ((train_proj - img)**2).mean(axis=1)\n",
    "    if err.min() < epsilon:\n",
    "        return err.argmin() // 5\n",
    "    return None"
   ]
  },
  {
   "cell_type": "code",
   "execution_count": 81,
   "metadata": {},
   "outputs": [],
   "source": [
    "train = pd.read_csv('data/ri_train.csv', header=None).T.astype(np.uint8).values\n",
    "test = pd.read_csv('data/ri_test.csv', header=None).T.astype(np.uint8).values"
   ]
  },
  {
   "cell_type": "code",
   "execution_count": 82,
   "metadata": {},
   "outputs": [],
   "source": [
    "pca = PCA(128)\n",
    "train_proj = pca.fit_transform(train)\n",
    "test_proj = pca.transform(test)"
   ]
  },
  {
   "cell_type": "code",
   "execution_count": 83,
   "metadata": {},
   "outputs": [
    {
     "data": {
      "text/plain": [
       "106184.42321590259"
      ]
     },
     "execution_count": 83,
     "metadata": {},
     "output_type": "execute_result"
    }
   ],
   "source": [
    "err = 0\n",
    "\n",
    "for i in range(len(train_proj)):\n",
    "    if i%5 == 0:\n",
    "        arr = train_proj[i:i+5]\n",
    "    idx = i%5\n",
    "    \n",
    "    err += (((arr[:idx] - arr[idx])**2).sum() + ((arr[idx+1:] - arr[idx])**2).sum())\\\n",
    "        / (4 * train_proj.shape[1])\n",
    "epsilon = 1.6 * err / len(train_proj)\n",
    "epsilon"
   ]
  },
  {
   "cell_type": "code",
   "execution_count": 84,
   "metadata": {},
   "outputs": [
    {
     "name": "stdout",
     "output_type": "stream",
     "text": [
      "[31, 31, None, 1, 31, 31, 24, 34, 38, 31, None, 5, 31, 31, 12, 12, None, None, 29, 29, 29, 29, 32, 32, None, 31, 24, 32, 32, 32, 18, 18, 31, 31, 24, 1, 18, 18, 32, 31, 31, 31, None, 31, 0, 0, 32, 32, None, 31, 8, 25, 32, 32, None, 29, 24, 12, 29, 29, 32, 32, 31, 31, 32, 32, 29, 31, 32, 32, 31, 31, 32, 32, None, 37, 31, 31, 0, 32, 29, 46, None, 31, 21, 21, 18, 12, 31, 32, None, None, 31, 31, 49, 47, None, 31, 31, 31]\n"
     ]
    }
   ],
   "source": [
    "print(list(map(lambda x: nearest(test_proj[x]), range(len(test_proj)))))"
   ]
  },
  {
   "cell_type": "code",
   "execution_count": 85,
   "metadata": {},
   "outputs": [
    {
     "name": "stdout",
     "output_type": "stream",
     "text": [
      "Train error: 0.0\n",
      "Test error: 0.87\n",
      "Unclassified faces: 0.13\n",
      "Misclassified faces: 0.74\n"
     ]
    }
   ],
   "source": [
    "err_tr = 0\n",
    "for i in range(len(train_proj)):\n",
    "    if nearest(train_proj[i]) != i//5:\n",
    "        err_tr += 1\n",
    "\n",
    "miss_te = none_te = 0\n",
    "for i in range(len(test_proj)):\n",
    "    pred = nearest(test_proj[i])\n",
    "    if pred != i//2:\n",
    "        if pred == None:\n",
    "            none_te += 1\n",
    "        else:\n",
    "            miss_te += 1\n",
    "\n",
    "print(f'Train error: {err_tr / len(train_proj)}\\nTest error: {(miss_te + none_te) / len(test_proj)}')\n",
    "\n",
    "print(f'Unclassified faces: {none_te / len(test_proj)}\\nMisclassified faces: {miss_te / len(test_proj)}')"
   ]
  },
  {
   "cell_type": "code",
   "execution_count": null,
   "metadata": {},
   "outputs": [],
   "source": []
  },
  {
   "cell_type": "code",
   "execution_count": null,
   "metadata": {},
   "outputs": [],
   "source": []
  }
 ],
 "metadata": {
  "kernelspec": {
   "display_name": "Python 3",
   "language": "python",
   "name": "python3"
  },
  "language_info": {
   "codemirror_mode": {
    "name": "ipython",
    "version": 3
   },
   "file_extension": ".py",
   "mimetype": "text/x-python",
   "name": "python",
   "nbconvert_exporter": "python",
   "pygments_lexer": "ipython3",
   "version": "3.7.3"
  }
 },
 "nbformat": 4,
 "nbformat_minor": 4
}
