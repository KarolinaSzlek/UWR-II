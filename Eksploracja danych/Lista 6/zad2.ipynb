{
 "cells": [
  {
   "cell_type": "code",
   "execution_count": 1,
   "metadata": {},
   "outputs": [],
   "source": [
    "#setup\n",
    "import numpy as np\n",
    "import pandas as pd\n",
    "\n",
    "from Apriori import Apriori\n",
    "\n",
    "from tqdm import trange, tqdm\n",
    "import itertools\n",
    "\n",
    "from collections import deque"
   ]
  },
  {
   "cell_type": "markdown",
   "metadata": {},
   "source": [
    "## Zadanie 2.\n",
    "Znajdź ciekawe reguły asocjacyjne w zbiorze danych Retail (stworzonym przez Toma Brijsa). Użyj własnej implementacji algorytmu APRIORI lub jego modyfikacji. Uzasadnij dlaczego wskazane reguły uznajesz za ciekawe."
   ]
  },
  {
   "cell_type": "code",
   "execution_count": 2,
   "metadata": {},
   "outputs": [],
   "source": [
    "#load df\n",
    "df = pd.read_csv('http://fimi.uantwerpen.be/data/retail.dat', header=None, names=['items'])"
   ]
  },
  {
   "cell_type": "code",
   "execution_count": 3,
   "metadata": {},
   "outputs": [
    {
     "name": "stderr",
     "output_type": "stream",
     "text": [
      "Find single group counts: 100%|██████████| 88162/88162 [00:10<00:00, 8544.43it/s]\n"
     ]
    }
   ],
   "source": [
    "A = Apriori(df, delimiter=' ', supp_count=1500, min_lift=1.2, min_leverage=0)"
   ]
  },
  {
   "cell_type": "code",
   "execution_count": 5,
   "metadata": {},
   "outputs": [
    {
     "name": "stderr",
     "output_type": "stream",
     "text": [
      "Extending common groups:  14%|█▍        | 3/21 [00:09<00:55,  3.09s/it]\n"
     ]
    }
   ],
   "source": [
    "A.find_common_groups()"
   ]
  },
  {
   "cell_type": "code",
   "execution_count": 6,
   "metadata": {},
   "outputs": [
    {
     "name": "stderr",
     "output_type": "stream",
     "text": [
      "Find rules: 90it [00:00, 12752.95it/s]\n"
     ]
    }
   ],
   "source": [
    "A.find_rules()"
   ]
  },
  {
   "cell_type": "code",
   "execution_count": 7,
   "metadata": {},
   "outputs": [
    {
     "data": {
      "text/plain": [
       "[None,\n",
       " [{'32'},\n",
       "  {'36'},\n",
       "  {'38'},\n",
       "  {'39'},\n",
       "  {'41'},\n",
       "  {'48'},\n",
       "  {'65'},\n",
       "  {'79'},\n",
       "  {'89'},\n",
       "  {'101'},\n",
       "  {'110'},\n",
       "  {'147'},\n",
       "  {'170'},\n",
       "  {'225'},\n",
       "  {'237'},\n",
       "  {'270'},\n",
       "  {'271'},\n",
       "  {'310'},\n",
       "  {'413'},\n",
       "  {'438'},\n",
       "  {'475'},\n",
       "  {'1327'},\n",
       "  {'2238'}],\n",
       " array([{'32', '38'}, {'39', '32'}, {'32', '41'}, {'32', '48'},\n",
       "        {'36', '38'}, {'36', '39'}, {'39', '38'}, {'41', '38'},\n",
       "        {'48', '38'}, {'110', '38'}, {'170', '38'}, {'39', '41'},\n",
       "        {'39', '48'}, {'39', '65'}, {'39', '89'}, {'39', '110'},\n",
       "        {'170', '39'}, {'39', '225'}, {'39', '237'}, {'39', '310'},\n",
       "        {'475', '39'}, {'48', '41'}, {'65', '48'}, {'89', '48'},\n",
       "        {'170', '48'}, {'225', '48'}, {'237', '48'}, {'310', '48'}],\n",
       "       dtype=object),\n",
       " array([{'39', '32', '38'}, {'48', '32', '38'}, {'39', '32', '41'},\n",
       "        {'39', '32', '48'}, {'48', '32', '41'}, {'36', '39', '38'},\n",
       "        {'39', '41', '38'}, {'39', '48', '38'}, {'39', '110', '38'},\n",
       "        {'170', '39', '38'}, {'48', '41', '38'}, {'170', '48', '38'},\n",
       "        {'39', '48', '41'}, {'39', '65', '48'}, {'39', '89', '48'}],\n",
       "       dtype=object),\n",
       " array([{'39', '41', '32', '48'}, {'38', '39', '41', '48'}], dtype=object)]"
      ]
     },
     "execution_count": 7,
     "metadata": {},
     "output_type": "execute_result"
    }
   ],
   "source": [
    "A.common_groups"
   ]
  },
  {
   "cell_type": "code",
   "execution_count": 8,
   "metadata": {},
   "outputs": [
    {
     "data": {
      "text/plain": [
       "[(({'41'}, {'39'}),\n",
       "  {'confidence': 0.7637336901973905,\n",
       "   'lift': 1.3287082307880087,\n",
       "   'leverage': 0.03202855813442558}),\n",
       " (({'170'}, {'38'}),\n",
       "  {'confidence': 0.9780574378831881,\n",
       "   'lift': 5.528821482345321,\n",
       "   'leverage': 0.028161587775906993}),\n",
       " (({'36'}, {'38'}),\n",
       "  {'confidence': 0.9502724795640326,\n",
       "   'lift': 5.37175701098514,\n",
       "   'leverage': 0.025755051659543816}),\n",
       " (({'110'}, {'38'}),\n",
       "  {'confidence': 0.9753042233357193,\n",
       "   'lift': 5.513257946763509,\n",
       "   'leverage': 0.025302702904268913}),\n",
       " (({'41', '48'}, {'39'}),\n",
       "  {'confidence': 0.8168108227988469,\n",
       "   'lift': 1.4210493489806006,\n",
       "   'leverage': 0.02475563785723845}),\n",
       " (({'170', '39'}, {'38'}),\n",
       "  {'confidence': 0.9805730937348227,\n",
       "   'lift': 5.543042131947258,\n",
       "   'leverage': 0.018769533120357073}),\n",
       " (({'36', '39'}, {'38'}),\n",
       "  {'confidence': 0.9548355424644084,\n",
       "   'lift': 5.397551365397997,\n",
       "   'leverage': 0.017974313359969102}),\n",
       " (({'38', '48'}, {'39'}),\n",
       "  {'confidence': 0.7681268882175226,\n",
       "   'lift': 1.336351311673078,\n",
       "   'leverage': 0.017420605695253243}),\n",
       " (({'110', '39'}, {'38'}),\n",
       "  {'confidence': 0.9891984081864696,\n",
       "   'lift': 5.591799824476502,\n",
       "   'leverage': 0.016206869885425294}),\n",
       " (({'170', '48'}, {'38'}),\n",
       "  {'confidence': 0.9877970456005138,\n",
       "   'lift': 5.583878118378591,\n",
       "   'leverage': 0.014320956746134473}),\n",
       " (({'89'}, {'48'}),\n",
       "  {'confidence': 0.7292155329684649,\n",
       "   'lift': 1.5257885325160983,\n",
       "   'leverage': 0.010936617914439943}),\n",
       " (({'39', '89'}, {'48'}),\n",
       "  {'confidence': 0.7730083666787922,\n",
       "   'lift': 1.6174193336450855,\n",
       "   'leverage': 0.009201001365957381}),\n",
       " (({'38', '41'}, {'39'}),\n",
       "  {'confidence': 0.7829099307159353,\n",
       "   'lift': 1.3620701590878794,\n",
       "   'leverage': 0.009199284037643134}),\n",
       " (({'38', '41', '48'}, {'39'}),\n",
       "  {'confidence': 0.8386689132266217,\n",
       "   'lift': 1.4590770345907336,\n",
       "   'leverage': 0.007105541364512842}),\n",
       " (({'89'}, {'39'}),\n",
       "  {'confidence': 0.7164451394318477,\n",
       "   'lift': 1.246437817120682,\n",
       "   'leverage': 0.006164956864250844}),\n",
       " (({'32', '41'}, {'39'}),\n",
       "  {'confidence': 0.73811013767209,\n",
       "   'lift': 1.2841295699545496,\n",
       "   'leverage': 0.0059204415025584}),\n",
       " (({'48', '89'}, {'39'}),\n",
       "  {'confidence': 0.7594710507505361,\n",
       "   'lift': 1.3212922896155652,\n",
       "   'leverage': 0.005861096924825886}),\n",
       " (({'225'}, {'39'}),\n",
       "  {'confidence': 0.7218299048203868,\n",
       "   'lift': 1.2558059806369006,\n",
       "   'leverage': 0.005431994758287869}),\n",
       " (({'32', '41', '48'}, {'39'}),\n",
       "  {'confidence': 0.7978671837130392,\n",
       "   'lift': 1.3880920897979077,\n",
       "   'leverage': 0.005219932758943913}),\n",
       " (({'310'}, {'39'}),\n",
       "  {'confidence': 0.7139552814186585,\n",
       "   'lift': 1.2421060783508984,\n",
       "   'leverage': 0.004094553542347293}),\n",
       " (({'48', '65'}, {'39'}),\n",
       "  {'confidence': 0.7105575326215896,\n",
       "   'lift': 1.2361948335665434,\n",
       "   'leverage': 0.003894485694344047})]"
      ]
     },
     "execution_count": 8,
     "metadata": {},
     "output_type": "execute_result"
    }
   ],
   "source": [
    "sorted(A.rules, key=lambda x: x[1]['leverage'], reverse=True)"
   ]
  },
  {
   "cell_type": "code",
   "execution_count": null,
   "metadata": {},
   "outputs": [],
   "source": []
  }
 ],
 "metadata": {
  "kernelspec": {
   "display_name": "Python 3",
   "language": "python",
   "name": "python3"
  },
  "language_info": {
   "codemirror_mode": {
    "name": "ipython",
    "version": 3
   },
   "file_extension": ".py",
   "mimetype": "text/x-python",
   "name": "python",
   "nbconvert_exporter": "python",
   "pygments_lexer": "ipython3",
   "version": "3.7.3"
  }
 },
 "nbformat": 4,
 "nbformat_minor": 4
}
