{
 "cells": [
  {
   "cell_type": "code",
   "execution_count": 1,
   "metadata": {},
   "outputs": [],
   "source": [
    "#setup\n",
    "from Apriori import Apriori\n",
    "import pandas as pd\n",
    "import numpy as np"
   ]
  },
  {
   "cell_type": "markdown",
   "metadata": {},
   "source": [
    "## Zadanie 4.\n",
    "Znajdź ciekawe reguły asocjacyjne w zbiorze danych Ta-Feng. Użyj własnej implementacji algorytmu APRIORI lub jego modyfikacji. Uzasadnij dlaczego wskazane reguły uznajesz za ciekawe."
   ]
  },
  {
   "cell_type": "code",
   "execution_count": 2,
   "metadata": {},
   "outputs": [],
   "source": [
    "#load data\n",
    "columns = ['date', 'customer_id', 'age', 'residence_area', 'product_subclass', 'product_id', \n",
    "           'amount', 'asset', 'sales_price']\n",
    "tafeng_df01 = pd.read_csv('Data/Ta-Feng/D01', sep=';', names=columns)\n",
    "tafeng_df02 = pd.read_csv('Data/Ta-Feng/D02', sep=';', names=columns)\n",
    "tafeng_df11 = pd.read_csv('Data/Ta-Feng/D11', sep=';', names=columns)\n",
    "tafeng_df12 = pd.read_csv('Data/Ta-Feng/D12', sep=';', names=columns)"
   ]
  },
  {
   "cell_type": "code",
   "execution_count": 3,
   "metadata": {},
   "outputs": [
    {
     "data": {
      "text/html": [
       "<div>\n",
       "<style scoped>\n",
       "    .dataframe tbody tr th:only-of-type {\n",
       "        vertical-align: middle;\n",
       "    }\n",
       "\n",
       "    .dataframe tbody tr th {\n",
       "        vertical-align: top;\n",
       "    }\n",
       "\n",
       "    .dataframe thead th {\n",
       "        text-align: right;\n",
       "    }\n",
       "</style>\n",
       "<table border=\"1\" class=\"dataframe\">\n",
       "  <thead>\n",
       "    <tr style=\"text-align: right;\">\n",
       "      <th></th>\n",
       "      <th>date</th>\n",
       "      <th>customer_id</th>\n",
       "      <th>age</th>\n",
       "      <th>residence_area</th>\n",
       "      <th>product_subclass</th>\n",
       "      <th>product_id</th>\n",
       "      <th>amount</th>\n",
       "      <th>asset</th>\n",
       "      <th>sales_price</th>\n",
       "    </tr>\n",
       "  </thead>\n",
       "  <tbody>\n",
       "    <tr>\n",
       "      <th>0</th>\n",
       "      <td>2001-01-01 00:00:00</td>\n",
       "      <td>141833</td>\n",
       "      <td>F</td>\n",
       "      <td>F</td>\n",
       "      <td>130207</td>\n",
       "      <td>4710105011011</td>\n",
       "      <td>2</td>\n",
       "      <td>44</td>\n",
       "      <td>52</td>\n",
       "    </tr>\n",
       "    <tr>\n",
       "      <th>1</th>\n",
       "      <td>2001-01-01 00:00:00</td>\n",
       "      <td>1376753</td>\n",
       "      <td>E</td>\n",
       "      <td>E</td>\n",
       "      <td>110217</td>\n",
       "      <td>4710265849066</td>\n",
       "      <td>1</td>\n",
       "      <td>150</td>\n",
       "      <td>129</td>\n",
       "    </tr>\n",
       "    <tr>\n",
       "      <th>2</th>\n",
       "      <td>2001-01-01 00:00:00</td>\n",
       "      <td>1603071</td>\n",
       "      <td>E</td>\n",
       "      <td>G</td>\n",
       "      <td>100201</td>\n",
       "      <td>4712019100607</td>\n",
       "      <td>1</td>\n",
       "      <td>35</td>\n",
       "      <td>39</td>\n",
       "    </tr>\n",
       "    <tr>\n",
       "      <th>3</th>\n",
       "      <td>2001-01-01 00:00:00</td>\n",
       "      <td>1738667</td>\n",
       "      <td>E</td>\n",
       "      <td>F</td>\n",
       "      <td>530105</td>\n",
       "      <td>4710168702901</td>\n",
       "      <td>1</td>\n",
       "      <td>94</td>\n",
       "      <td>119</td>\n",
       "    </tr>\n",
       "    <tr>\n",
       "      <th>4</th>\n",
       "      <td>2001-01-01 00:00:00</td>\n",
       "      <td>2141497</td>\n",
       "      <td>A</td>\n",
       "      <td>B</td>\n",
       "      <td>320407</td>\n",
       "      <td>4710431339148</td>\n",
       "      <td>1</td>\n",
       "      <td>100</td>\n",
       "      <td>159</td>\n",
       "    </tr>\n",
       "  </tbody>\n",
       "</table>\n",
       "</div>"
      ],
      "text/plain": [
       "                  date  customer_id age residence_area  product_subclass  \\\n",
       "0  2001-01-01 00:00:00       141833  F              F             130207   \n",
       "1  2001-01-01 00:00:00      1376753  E              E             110217   \n",
       "2  2001-01-01 00:00:00      1603071  E              G             100201   \n",
       "3  2001-01-01 00:00:00      1738667  E              F             530105   \n",
       "4  2001-01-01 00:00:00      2141497  A              B             320407   \n",
       "\n",
       "      product_id  amount  asset  sales_price  \n",
       "0  4710105011011       2     44           52  \n",
       "1  4710265849066       1    150          129  \n",
       "2  4712019100607       1     35           39  \n",
       "3  4710168702901       1     94          119  \n",
       "4  4710431339148       1    100          159  "
      ]
     },
     "execution_count": 3,
     "metadata": {},
     "output_type": "execute_result"
    }
   ],
   "source": [
    "tafeng_df01.head()"
   ]
  },
  {
   "cell_type": "code",
   "execution_count": 4,
   "metadata": {},
   "outputs": [],
   "source": [
    "df01 = tafeng_df01.groupby(['customer_id', 'date']).agg(lambda x: x.tolist())[['product_id']]\n",
    "df02 = tafeng_df02.groupby(['customer_id', 'date']).agg(lambda x: x.tolist())[['product_id']]\n",
    "df11 = tafeng_df11.groupby(['customer_id', 'date']).agg(lambda x: x.tolist())[['product_id']]\n",
    "df12 = tafeng_df12.groupby(['customer_id', 'date']).agg(lambda x: x.tolist())[['product_id']]"
   ]
  },
  {
   "cell_type": "code",
   "execution_count": 5,
   "metadata": {},
   "outputs": [
    {
     "data": {
      "text/html": [
       "<div>\n",
       "<style scoped>\n",
       "    .dataframe tbody tr th:only-of-type {\n",
       "        vertical-align: middle;\n",
       "    }\n",
       "\n",
       "    .dataframe tbody tr th {\n",
       "        vertical-align: top;\n",
       "    }\n",
       "\n",
       "    .dataframe thead th {\n",
       "        text-align: right;\n",
       "    }\n",
       "</style>\n",
       "<table border=\"1\" class=\"dataframe\">\n",
       "  <thead>\n",
       "    <tr style=\"text-align: right;\">\n",
       "      <th></th>\n",
       "      <th></th>\n",
       "      <th>product_id</th>\n",
       "    </tr>\n",
       "    <tr>\n",
       "      <th>customer_id</th>\n",
       "      <th>date</th>\n",
       "      <th></th>\n",
       "    </tr>\n",
       "  </thead>\n",
       "  <tbody>\n",
       "    <tr>\n",
       "      <th>1069</th>\n",
       "      <th>2001-01-21 00:00:00</th>\n",
       "      <td>[4710320224661, 4710022101208, 4712603661644]</td>\n",
       "    </tr>\n",
       "    <tr>\n",
       "      <th>1113</th>\n",
       "      <th>2001-01-06 00:00:00</th>\n",
       "      <td>[4710088620750, 4710008251125, 4710254015021, ...</td>\n",
       "    </tr>\n",
       "    <tr>\n",
       "      <th>1823</th>\n",
       "      <th>2001-01-24 00:00:00</th>\n",
       "      <td>[78698703015, 4710114128038, 4710126392175]</td>\n",
       "    </tr>\n",
       "    <tr>\n",
       "      <th>2189</th>\n",
       "      <th>2001-01-03 00:00:00</th>\n",
       "      <td>[4710114105046, 4710036009071, 4902704881052, ...</td>\n",
       "    </tr>\n",
       "    <tr>\n",
       "      <th>4282</th>\n",
       "      <th>2001-01-13 00:00:00</th>\n",
       "      <td>[4710363609005, 4710466101130, 4714058833126, ...</td>\n",
       "    </tr>\n",
       "  </tbody>\n",
       "</table>\n",
       "</div>"
      ],
      "text/plain": [
       "                                                                        product_id\n",
       "customer_id date                                                                  \n",
       "1069        2001-01-21 00:00:00      [4710320224661, 4710022101208, 4712603661644]\n",
       "1113        2001-01-06 00:00:00  [4710088620750, 4710008251125, 4710254015021, ...\n",
       "1823        2001-01-24 00:00:00        [78698703015, 4710114128038, 4710126392175]\n",
       "2189        2001-01-03 00:00:00  [4710114105046, 4710036009071, 4902704881052, ...\n",
       "4282        2001-01-13 00:00:00  [4710363609005, 4710466101130, 4714058833126, ..."
      ]
     },
     "execution_count": 5,
     "metadata": {},
     "output_type": "execute_result"
    }
   ],
   "source": [
    "df01.head()"
   ]
  },
  {
   "cell_type": "code",
   "execution_count": 6,
   "metadata": {},
   "outputs": [],
   "source": [
    "df01['product_id'] = df01['product_id'].apply(lambda r: ' '.join(list(map(str, r))))\n",
    "df02['product_id'] = df02['product_id'].apply(lambda r: ' '.join(list(map(str, r))))\n",
    "df11['product_id'] = df11['product_id'].apply(lambda r: ' '.join(list(map(str, r))))\n",
    "df12['product_id'] = df12['product_id'].apply(lambda r: ' '.join(list(map(str, r))))"
   ]
  },
  {
   "cell_type": "code",
   "execution_count": 7,
   "metadata": {},
   "outputs": [
    {
     "name": "stderr",
     "output_type": "stream",
     "text": [
      "Find single group counts: 100%|██████████| 29901/29901 [00:04<00:00, 6828.46it/s]\n",
      "Find single group counts: 100%|██████████| 31051/31051 [00:04<00:00, 6475.45it/s]\n",
      "Find single group counts: 100%|██████████| 31860/31860 [00:04<00:00, 6964.81it/s]\n",
      "Find single group counts: 100%|██████████| 26766/26766 [00:04<00:00, 6527.02it/s]\n"
     ]
    }
   ],
   "source": [
    "A01 = Apriori(df01, supp_count=150, min_confidence=0.6, min_lift=1.5, min_leverage=0.005)\n",
    "A02 = Apriori(df02, supp_count=150, min_confidence=0.6, min_lift=1.5, min_leverage=0.005)\n",
    "A11 = Apriori(df11, supp_count=150, min_confidence=0.6, min_lift=1.5, min_leverage=0.005)\n",
    "A12 = Apriori(df12, supp_count=150, min_confidence=0.6, min_lift=1.5, min_leverage=0.005)"
   ]
  },
  {
   "cell_type": "code",
   "execution_count": 8,
   "metadata": {},
   "outputs": [
    {
     "name": "stderr",
     "output_type": "stream",
     "text": [
      "Extending common groups:   1%|          | 1/116 [00:38<1:13:44, 38.47s/it]"
     ]
    }
   ],
   "source": [
    "A01.find_common_groups()"
   ]
  },
  {
   "cell_type": "code",
   "execution_count": null,
   "metadata": {},
   "outputs": [],
   "source": [
    "A02.find_common_groups()"
   ]
  },
  {
   "cell_type": "code",
   "execution_count": null,
   "metadata": {},
   "outputs": [],
   "source": [
    "A11.find_common_groups()"
   ]
  },
  {
   "cell_type": "code",
   "execution_count": null,
   "metadata": {},
   "outputs": [],
   "source": [
    "A12.find_common_groups()"
   ]
  },
  {
   "cell_type": "code",
   "execution_count": 9,
   "metadata": {},
   "outputs": [
    {
     "name": "stderr",
     "output_type": "stream",
     "text": [
      "Find rules: 173it [00:00, 14594.61it/s]\n",
      "Find rules: 152it [00:00, 16127.45it/s]\n",
      "Find rules: 170it [00:00, 18422.21it/s]\n",
      "Find rules: 122it [00:00, 21295.31it/s]\n"
     ]
    }
   ],
   "source": [
    "A01.find_rules()\n",
    "A02.find_rules()\n",
    "A11.find_rules()\n",
    "A12.find_rules()"
   ]
  },
  {
   "cell_type": "code",
   "execution_count": 10,
   "metadata": {},
   "outputs": [
    {
     "data": {
      "text/plain": [
       "[(({'4710085120697'}, {'4710085120680'}),\n",
       "  {'confidence': 0.76,\n",
       "   'lift': 56.180046403712296,\n",
       "   'leverage': 0.006443183237713332})]"
      ]
     },
     "execution_count": 10,
     "metadata": {},
     "output_type": "execute_result"
    }
   ],
   "source": [
    "sorted(A11.rules, key=lambda r: r[1]['leverage'], reverse=True)"
   ]
  },
  {
   "cell_type": "code",
   "execution_count": 27,
   "metadata": {},
   "outputs": [
    {
     "name": "stdout",
     "output_type": "stream",
     "text": [
      "110411  -->  110411  \n"
     ]
    }
   ],
   "source": [
    "for r in A11.rules:\n",
    "    As, Bs = r[0]\n",
    "    res = ''\n",
    "    for a in As:\n",
    "        res += str(tafeng_df11[tafeng_df11['product_id'] == int(a)].iloc[0]['product_subclass']) + '  '\n",
    "    res += '-->  '\n",
    "    for b in Bs:\n",
    "        res += str(tafeng_df11[tafeng_df11['product_id'] == int(b)].iloc[0]['product_subclass']) + '  '\n",
    "    print(res)"
   ]
  },
  {
   "cell_type": "code",
   "execution_count": 11,
   "metadata": {},
   "outputs": [
    {
     "data": {
      "text/plain": [
       "[(({'4710011401135'}, {'4710011401128'}),\n",
       "  {'confidence': 0.7352941176470588,\n",
       "   'lift': 54.5176796480365,\n",
       "   'leverage': 0.00550133000705526})]"
      ]
     },
     "execution_count": 11,
     "metadata": {},
     "output_type": "execute_result"
    }
   ],
   "source": [
    "sorted(A12.rules, key=lambda r: r[1]['leverage'], reverse=True)"
   ]
  },
  {
   "cell_type": "code",
   "execution_count": 28,
   "metadata": {},
   "outputs": [
    {
     "name": "stdout",
     "output_type": "stream",
     "text": [
      "120103  -->  120103  \n"
     ]
    }
   ],
   "source": [
    "for r in A12.rules:\n",
    "    As, Bs = r[0]\n",
    "    res = ''\n",
    "    for a in As:\n",
    "        res += str(tafeng_df11[tafeng_df11['product_id'] == int(a)].iloc[0]['product_subclass']) + '  '\n",
    "    res += '-->  '\n",
    "    for b in Bs:\n",
    "        res += str(tafeng_df11[tafeng_df11['product_id'] == int(b)].iloc[0]['product_subclass']) + '  '\n",
    "    print(res)"
   ]
  },
  {
   "cell_type": "code",
   "execution_count": 12,
   "metadata": {},
   "outputs": [
    {
     "data": {
      "text/plain": [
       "[(({'4710011401135'}, {'4710011401128'}),\n",
       "  {'confidence': 0.772972972972973,\n",
       "   'lift': 37.520559845559845,\n",
       "   'leverage': 0.009309973327239133}),\n",
       " (({'4710011405133'}, {'4710011401128'}),\n",
       "  {'confidence': 0.6932668329177057,\n",
       "   'lift': 33.65157722576675,\n",
       "   'leverage': 0.009021065235598981}),\n",
       " (({'4710018004704'}, {'4710018004605'}),\n",
       "  {'confidence': 0.6184538653366584,\n",
       "   'lift': 30.515493444606307,\n",
       "   'leverage': 0.008022239417971349}),\n",
       " (({'4710011406123'}, {'4710011401128'}),\n",
       "  {'confidence': 0.6051282051282052,\n",
       "   'lift': 29.373276723276724,\n",
       "   'leverage': 0.007624008765731704}),\n",
       " (({'4710011409056'}, {'4710011401128'}),\n",
       "  {'confidence': 0.7266881028938906,\n",
       "   'lift': 35.27386520232179,\n",
       "   'leverage': 0.007344001545132157}),\n",
       " (({'4710011401135', '4710011405133'}, {'4710011401128'}),\n",
       "  {'confidence': 0.7817258883248731,\n",
       "   'lift': 37.94543147208122,\n",
       "   'leverage': 0.005014599525658288})]"
      ]
     },
     "execution_count": 12,
     "metadata": {},
     "output_type": "execute_result"
    }
   ],
   "source": [
    "sorted(A01.rules, key=lambda r: r[1]['leverage'], reverse=True)"
   ]
  },
  {
   "cell_type": "code",
   "execution_count": 25,
   "metadata": {},
   "outputs": [
    {
     "name": "stdout",
     "output_type": "stream",
     "text": [
      "120103  -->  120103  \n",
      "120103  -->  120103  \n",
      "120103  -->  120103  \n",
      "120103  -->  120103  \n",
      "100505  -->  100505  \n",
      "120103  120103  -->  120103  \n"
     ]
    }
   ],
   "source": [
    "for r in A01.rules:\n",
    "    As, Bs = r[0]\n",
    "    res = ''\n",
    "    for a in As:\n",
    "        res += str(tafeng_df11[tafeng_df11['product_id'] == int(a)].iloc[0]['product_subclass']) + '  '\n",
    "    res += '-->  '\n",
    "    for b in Bs:\n",
    "        res += str(tafeng_df11[tafeng_df11['product_id'] == int(b)].iloc[0]['product_subclass']) + '  '\n",
    "    print(res)"
   ]
  },
  {
   "cell_type": "code",
   "execution_count": 13,
   "metadata": {},
   "outputs": [
    {
     "data": {
      "text/plain": [
       "[]"
      ]
     },
     "execution_count": 13,
     "metadata": {},
     "output_type": "execute_result"
    }
   ],
   "source": [
    "sorted(A02.rules, key=lambda r: r[1]['leverage'], reverse=True)"
   ]
  },
  {
   "cell_type": "code",
   "execution_count": 29,
   "metadata": {},
   "outputs": [],
   "source": [
    "for r in A02.rules:\n",
    "    As, Bs = r[0]\n",
    "    res = ''\n",
    "    for a in As:\n",
    "        res += str(tafeng_df11[tafeng_df11['product_id'] == int(a)].iloc[0]['product_subclass']) + '  '\n",
    "    res += '-->  '\n",
    "    for b in Bs:\n",
    "        res += str(tafeng_df11[tafeng_df11['product_id'] == int(b)].iloc[0]['product_subclass']) + '  '\n",
    "    print(res)"
   ]
  },
  {
   "cell_type": "code",
   "execution_count": null,
   "metadata": {},
   "outputs": [],
   "source": []
  }
 ],
 "metadata": {
  "kernelspec": {
   "display_name": "Python 3",
   "language": "python",
   "name": "python3"
  },
  "language_info": {
   "codemirror_mode": {
    "name": "ipython",
    "version": 3
   },
   "file_extension": ".py",
   "mimetype": "text/x-python",
   "name": "python",
   "nbconvert_exporter": "python",
   "pygments_lexer": "ipython3",
   "version": "3.7.3"
  }
 },
 "nbformat": 4,
 "nbformat_minor": 4
}
