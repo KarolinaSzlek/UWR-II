{
 "cells": [
  {
   "cell_type": "code",
   "execution_count": 1,
   "metadata": {},
   "outputs": [],
   "source": [
    "#setup\n",
    "from Apriori import Apriori\n",
    "import numpy as np\n",
    "import pandas as pd\n",
    "import pickle"
   ]
  },
  {
   "cell_type": "markdown",
   "metadata": {},
   "source": [
    "## Zadanie 3.\n",
    "Znajdź ciekawe reguły asocjacyjne w zbiorze danych Kosarak (stworzonym przez Ferenca Bodona). Użyj własnej implementacji algorytmu APRIORI lub jego modyfikacji. Uzasadnij dlaczego wskazane reguły uznajesz za ciekawe."
   ]
  },
  {
   "cell_type": "code",
   "execution_count": 2,
   "metadata": {},
   "outputs": [],
   "source": [
    "df = pd.read_csv('http://fimi.ua.ac.be/data/kosarak.dat.gz')"
   ]
  },
  {
   "cell_type": "code",
   "execution_count": 3,
   "metadata": {},
   "outputs": [
    {
     "name": "stderr",
     "output_type": "stream",
     "text": [
      "Find single group counts: 100%|██████████| 990001/990001 [01:51<00:00, 8869.42it/s]\n"
     ]
    },
    {
     "name": "stdout",
     "output_type": "stream",
     "text": [
      "CPU times: user 1min 52s, sys: 1.58 s, total: 1min 54s\n",
      "Wall time: 1min 55s\n"
     ]
    }
   ],
   "source": [
    "%%time\n",
    "A = Apriori(df, supp_count=10000, min_confidence=0.8, min_lift=1.5, min_leverage=0.05)"
   ]
  },
  {
   "cell_type": "code",
   "execution_count": 4,
   "metadata": {},
   "outputs": [
    {
     "name": "stderr",
     "output_type": "stream",
     "text": [
      "Extending common groups:   8%|▊         | 4/52 [20:55<3:44:54, 281.13s/it]"
     ]
    }
   ],
   "source": [
    "A.find_common_groups()"
   ]
  },
  {
   "cell_type": "code",
   "execution_count": null,
   "metadata": {},
   "outputs": [],
   "source": [
    "A.common_groups[-1]"
   ]
  },
  {
   "cell_type": "code",
   "execution_count": null,
   "metadata": {},
   "outputs": [],
   "source": [
    "A.find_rules()"
   ]
  },
  {
   "cell_type": "code",
   "execution_count": 5,
   "metadata": {},
   "outputs": [],
   "source": [
    "with open('zad3-A.pkl', 'wb') as output:\n",
    "    pickle.dump(A, output, pickle.HIGHEST_PROTOCOL)"
   ]
  },
  {
   "cell_type": "code",
   "execution_count": null,
   "metadata": {},
   "outputs": [],
   "source": [
    "with open('zad3-A.pkl', 'rb') as input:\n",
    "    A = pickle.load(input)"
   ]
  },
  {
   "cell_type": "code",
   "execution_count": 12,
   "metadata": {},
   "outputs": [
    {
     "name": "stderr",
     "output_type": "stream",
     "text": [
      "Find rules: 715it [00:00, 4033.40it/s]\n"
     ]
    },
    {
     "data": {
      "text/plain": [
       "[(({'148'}, {'218'}),\n",
       "  {'confidence': 0.8412659820943337,\n",
       "   'lift': 9.400372057375703,\n",
       "   'leverage': 0.053096392547790694}),\n",
       " (({'148'}, {'218', '6'}),\n",
       "  {'confidence': 0.8128772060295759,\n",
       "   'lift': 10.360466647524767,\n",
       "   'leverage': 0.05187060788097595}),\n",
       " (({'148', '6'}, {'218'}),\n",
       "  {'confidence': 0.8778069498069498,\n",
       "   'lift': 9.808683696198901,\n",
       "   'leverage': 0.05155887588141435})]"
      ]
     },
     "execution_count": 12,
     "metadata": {},
     "output_type": "execute_result"
    }
   ],
   "source": [
    "sorted(A.rules, key=lambda r: r[1]['leverage'], reverse=True)"
   ]
  },
  {
   "cell_type": "code",
   "execution_count": null,
   "metadata": {},
   "outputs": [],
   "source": []
  }
 ],
 "metadata": {
  "kernelspec": {
   "display_name": "Python 3",
   "language": "python",
   "name": "python3"
  },
  "language_info": {
   "codemirror_mode": {
    "name": "ipython",
    "version": 3
   },
   "file_extension": ".py",
   "mimetype": "text/x-python",
   "name": "python",
   "nbconvert_exporter": "python",
   "pygments_lexer": "ipython3",
   "version": "3.7.3"
  }
 },
 "nbformat": 4,
 "nbformat_minor": 4
}
