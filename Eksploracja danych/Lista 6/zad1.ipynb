{
 "cells": [
  {
   "cell_type": "code",
   "execution_count": 1,
   "metadata": {},
   "outputs": [],
   "source": [
    "#setup\n",
    "from Apriori import Apriori\n",
    "import numpy as np\n",
    "import pandas as pd\n",
    "\n",
    "import matplotlib.pyplot as plt\n",
    "import seaborn as sns"
   ]
  },
  {
   "cell_type": "markdown",
   "metadata": {},
   "source": [
    "## Zadanie 1.\n",
    "Zaimplementuj (w dowolnym języku programowania) algorytm APRIORI do generowania reguł asocjacyjnych. Sprawdź działanie algorytmu na wybranych przez siebie danych (sztucznie wygenerowanych prostych danych testowych oraz wybranych przez siebie danych pochodzących z UCI Machine Learning Repository)."
   ]
  },
  {
   "cell_type": "code",
   "execution_count": 2,
   "metadata": {},
   "outputs": [],
   "source": [
    "iris_df = pd.read_csv('https://archive.ics.uci.edu/ml/machine-learning-databases/iris/iris.data')\n",
    "iris_df.columns = ['sepal_length', 'sepal_width', 'petal_length', 'petal_width', 'target']\n",
    "\n",
    "df = pd.DataFrame(columns=['items'])\n",
    "for i in range(len(iris_df)):\n",
    "    res = ''\n",
    "    row = iris_df.iloc[i]\n",
    "    for attr in iris_df.columns:\n",
    "        res += str(row[attr]) + ' ' + str(attr) + ','\n",
    "    \n",
    "    \n",
    "    df.loc[i] = res[:-1]"
   ]
  },
  {
   "cell_type": "code",
   "execution_count": 3,
   "metadata": {},
   "outputs": [
    {
     "name": "stderr",
     "output_type": "stream",
     "text": [
      "Find single group counts: 100%|██████████| 149/149 [00:00<00:00, 6639.87it/s]\n"
     ]
    }
   ],
   "source": [
    "A = Apriori(df, delimiter=',', supp_count=5, min_confidence=0.85, min_lift=1.2, min_leverage=0.02)"
   ]
  },
  {
   "cell_type": "code",
   "execution_count": 4,
   "metadata": {},
   "outputs": [
    {
     "name": "stderr",
     "output_type": "stream",
     "text": [
      "Extending common groups:   4%|▍         | 2/52 [00:00<00:03, 16.42it/s]\n"
     ]
    }
   ],
   "source": [
    "A.find_common_groups()"
   ]
  },
  {
   "cell_type": "code",
   "execution_count": 6,
   "metadata": {},
   "outputs": [
    {
     "name": "stderr",
     "output_type": "stream",
     "text": [
      "Find rules: 150it [00:00, 9198.57it/s]\n"
     ]
    }
   ],
   "source": [
    "A.find_rules()"
   ]
  },
  {
   "cell_type": "code",
   "execution_count": 9,
   "metadata": {},
   "outputs": [
    {
     "data": {
      "text/plain": [
       "[(({'0.2 petal_width'}, {'Iris-setosa target'}),\n",
       "  {'confidence': 1.0,\n",
       "   'lift': 3.040816326530612,\n",
       "   'leverage': 0.1216161434169632}),\n",
       " (({'1.5 petal_length'}, {'Iris-setosa target'}),\n",
       "  {'confidence': 1.0,\n",
       "   'lift': 3.040816326530612,\n",
       "   'leverage': 0.06306022251249943}),\n",
       " (({'1.3 petal_width'}, {'Iris-versicolor target'}),\n",
       "  {'confidence': 1.0, 'lift': 2.98, 'leverage': 0.05797036169541912}),\n",
       " (({'1.4 petal_length'}, {'Iris-setosa target'}),\n",
       "  {'confidence': 1.0,\n",
       "   'lift': 3.040816326530612,\n",
       "   'leverage': 0.04954731768839242}),\n",
       " (({'1.8 petal_width'}, {'Iris-virginica target'}),\n",
       "  {'confidence': 0.9166666666666667,\n",
       "   'lift': 2.731666666666667,\n",
       "   'leverage': 0.04679969370749066}),\n",
       " (({'2.3 petal_width'}, {'Iris-virginica target'}),\n",
       "  {'confidence': 1.0, 'lift': 2.98, 'leverage': 0.035674068735642536}),\n",
       " (({'1.3 petal_length'}, {'Iris-setosa target'}),\n",
       "  {'confidence': 1.0,\n",
       "   'lift': 3.040816326530612,\n",
       "   'leverage': 0.031530111256249715}),\n",
       " (({'0.4 petal_width'}, {'Iris-setosa target'}),\n",
       "  {'confidence': 1.0,\n",
       "   'lift': 3.040816326530612,\n",
       "   'leverage': 0.031530111256249715}),\n",
       " (({'0.3 petal_width'}, {'Iris-setosa target'}),\n",
       "  {'confidence': 1.0,\n",
       "   'lift': 3.040816326530612,\n",
       "   'leverage': 0.031530111256249715}),\n",
       " (({'1.6 petal_length'}, {'Iris-setosa target'}),\n",
       "  {'confidence': 1.0,\n",
       "   'lift': 3.040816326530612,\n",
       "   'leverage': 0.031530111256249715}),\n",
       " (({'0.2 petal_width', '1.4 petal_length'}, {'Iris-setosa target'}),\n",
       "  {'confidence': 1.0,\n",
       "   'lift': 3.040816326530612,\n",
       "   'leverage': 0.031530111256249715}),\n",
       " (({'1.0 petal_width'}, {'Iris-versicolor target'}),\n",
       "  {'confidence': 1.0, 'lift': 2.98, 'leverage': 0.03121481014368722}),\n",
       " (({'5.1 sepal_length'}, {'Iris-setosa target'}),\n",
       "  {'confidence': 0.875,\n",
       "   'lift': 2.6607142857142856,\n",
       "   'leverage': 0.02932300346831224}),\n",
       " (({'1.4 petal_width'}, {'Iris-versicolor target'}),\n",
       "  {'confidence': 0.875, 'lift': 2.6075, 'leverage': 0.028962659339669385}),\n",
       " (({'4.5 petal_length'}, {'Iris-versicolor target'}),\n",
       "  {'confidence': 0.875, 'lift': 2.6075, 'leverage': 0.028962659339669385}),\n",
       " (({'5.1 petal_length'}, {'Iris-virginica target'}),\n",
       "  {'confidence': 0.875, 'lift': 2.6075, 'leverage': 0.028962659339669385}),\n",
       " (({'3.2 sepal_width', 'Iris-setosa target'}, {'0.2 petal_width'}),\n",
       "  {'confidence': 1.0,\n",
       "   'lift': 5.518518518518519,\n",
       "   'leverage': 0.027476239809017613}),\n",
       " (({'0.1 petal_width'}, {'Iris-setosa target'}),\n",
       "  {'confidence': 1.0,\n",
       "   'lift': 3.040816326530612,\n",
       "   'leverage': 0.027025809648214043}),\n",
       " (({'0.2 petal_width', '1.5 petal_length'}, {'Iris-setosa target'}),\n",
       "  {'confidence': 1.0,\n",
       "   'lift': 3.040816326530612,\n",
       "   'leverage': 0.027025809648214043}),\n",
       " (({'0.2 petal_width', '3.4 sepal_width'}, {'Iris-setosa target'}),\n",
       "  {'confidence': 1.0,\n",
       "   'lift': 3.040816326530612,\n",
       "   'leverage': 0.027025809648214043}),\n",
       " (({'2.1 petal_width'}, {'Iris-virginica target'}),\n",
       "  {'confidence': 1.0, 'lift': 2.98, 'leverage': 0.026755551551731902}),\n",
       " (({'5.6 petal_length'}, {'Iris-virginica target'}),\n",
       "  {'confidence': 1.0, 'lift': 2.98, 'leverage': 0.026755551551731902}),\n",
       " (({'2.0 petal_width'}, {'Iris-virginica target'}),\n",
       "  {'confidence': 1.0, 'lift': 2.98, 'leverage': 0.026755551551731902}),\n",
       " (({'4.8 sepal_length'}, {'Iris-setosa target'}),\n",
       "  {'confidence': 1.0,\n",
       "   'lift': 3.040816326530612,\n",
       "   'leverage': 0.02252150804017837}),\n",
       " (({'3.5 sepal_width'}, {'Iris-setosa target'}),\n",
       "  {'confidence': 1.0,\n",
       "   'lift': 3.040816326530612,\n",
       "   'leverage': 0.02252150804017837}),\n",
       " (({'0.2 petal_width', '3.2 sepal_width'}, {'Iris-setosa target'}),\n",
       "  {'confidence': 1.0,\n",
       "   'lift': 3.040816326530612,\n",
       "   'leverage': 0.02252150804017837}),\n",
       " (({'0.2 petal_width', '5.0 sepal_length'}, {'Iris-setosa target'}),\n",
       "  {'confidence': 1.0,\n",
       "   'lift': 3.040816326530612,\n",
       "   'leverage': 0.02252150804017837}),\n",
       " (({'0.2 petal_width', '1.6 petal_length'}, {'Iris-setosa target'}),\n",
       "  {'confidence': 1.0,\n",
       "   'lift': 3.040816326530612,\n",
       "   'leverage': 0.02252150804017837}),\n",
       " (({'4.7 petal_length'}, {'Iris-versicolor target'}),\n",
       "  {'confidence': 1.0, 'lift': 2.98, 'leverage': 0.022296292959776587}),\n",
       " (({'4.0 petal_length'}, {'Iris-versicolor target'}),\n",
       "  {'confidence': 1.0, 'lift': 2.98, 'leverage': 0.022296292959776587}),\n",
       " (({'1.2 petal_width'}, {'Iris-versicolor target'}),\n",
       "  {'confidence': 1.0, 'lift': 2.98, 'leverage': 0.022296292959776587}),\n",
       " (({'1.9 petal_width'}, {'Iris-virginica target'}),\n",
       "  {'confidence': 1.0, 'lift': 2.98, 'leverage': 0.022296292959776587}),\n",
       " (({'1.3 petal_width', '2.9 sepal_width'}, {'Iris-versicolor target'}),\n",
       "  {'confidence': 1.0, 'lift': 2.98, 'leverage': 0.022296292959776587}),\n",
       " (({'1.5 petal_width', '4.5 petal_length'}, {'Iris-versicolor target'}),\n",
       "  {'confidence': 1.0, 'lift': 2.98, 'leverage': 0.022296292959776587})]"
      ]
     },
     "execution_count": 9,
     "metadata": {},
     "output_type": "execute_result"
    }
   ],
   "source": [
    "sorted(A.rules, key=lambda x: x[1]['leverage'], reverse=True)"
   ]
  },
  {
   "cell_type": "code",
   "execution_count": null,
   "metadata": {},
   "outputs": [],
   "source": []
  }
 ],
 "metadata": {
  "kernelspec": {
   "display_name": "Python 3",
   "language": "python",
   "name": "python3"
  },
  "language_info": {
   "codemirror_mode": {
    "name": "ipython",
    "version": 3
   },
   "file_extension": ".py",
   "mimetype": "text/x-python",
   "name": "python",
   "nbconvert_exporter": "python",
   "pygments_lexer": "ipython3",
   "version": "3.7.3"
  }
 },
 "nbformat": 4,
 "nbformat_minor": 4
}
