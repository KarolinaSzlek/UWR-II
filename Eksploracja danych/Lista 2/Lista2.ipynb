{
 "cells": [
  {
   "cell_type": "markdown",
   "metadata": {},
   "source": [
    "### Zadanie 0.\n",
    "Utwórz skrypt definiujący poniższe zmienne:\n",
    "\n",
    "a = [1, 2, 3, 4, ..., 100] (wektor złożony z liczb całkowitych od 1 do 100)\n",
    "\n",
    "b = [1, 3, 5, 7, ..., 99] (wektor złożony z liczb całkowitych nieparzystych od 1 do 99) \n",
    "\n",
    "c = [-1.00 * π, -0.99 * π, ..., -0.01 * π, 0, 0.01 * π, ..., 0.99 * π, 1.00 * π]\n",
    "\n",
    "d = [-1.00 * π, -0.99 * π, ..., -0.01 * π, 0.01 * π, ..., 0.99 * π, 1.00 * π]\n",
    "\n",
    "e = [e1, e2, ..., e100], gdzie ei = sin(i), jeśli sin(i) > 0, lub ei = 0 w przeciwnym przypadku\n",
    "\n",
    "A = macierz rozmiaru 10 x 10 zawierająca liczby całkowite od 1 do 100: w pierwszym wierszu od lewej 1, 2, ..., w drugim wierszu od lewej 11, 12, .., itd. (wskazówka: użyć polecenia reshape) \n",
    "\n",
    "B = macierz trójdiagonalna rozmiaru 100 x 100 mająca na głównej przekątnej liczby całkowite od 1 do 100, a poniżej i powyżej głównej przekątnej liczby od 99 do 1\n",
    "\n",
    "C = macierz trójkątna górna wypełniona jedynkami (łącznie z główną przekątną)\n",
    "\n",
    "D = macierz rozmiaru 2 x 100, w której pierwszy wiersz zawiera elementy d1i = 1 + 2 + ... + i, a\n",
    "drugi wiersz zawiera elementy d2i = i!\n",
    "\n",
    "E = macierz rozmiaru 100 x 100 mająca 1 w pozycji (i, j), jeśli i dzieli j, lub 0 w przeciwnym przypadku."
   ]
  },
  {
   "cell_type": "code",
   "execution_count": 7,
   "metadata": {
    "scrolled": true
   },
   "outputs": [],
   "source": [
    "a = 1:100;\n",
    "b = 1:2:99;\n",
    "c = -pi : 0.01*pi : pi;\n",
    "c = round(c * 10 ^ 6)/10 ^ 6;\n",
    "d = c(c~=0);\n",
    "e = max(0, sin(1 : 100));"
   ]
  },
  {
   "cell_type": "code",
   "execution_count": 8,
   "metadata": {},
   "outputs": [],
   "source": [
    "A = transpose(reshape(a, [10,10]));\n",
    "B = diag(1:100) + diag(99:-1:1, 1) + diag(99:-1:1, -1);\n",
    "C = triu(ones(10));\n",
    "D = [cumsum(1:100);cumprod(1:100)];\n",
    "\n",
    "E = ones(100);\n",
    "for i = 1:100\n",
    "    for j = 1:100\n",
    "        E(i, j) = mod(j, i) == 0;\n",
    "    endfor\n",
    "endfor"
   ]
  },
  {
   "cell_type": "markdown",
   "metadata": {},
   "source": [
    "### Zadanie 1.\n",
    "a) Niech x, y, w będą wektorami kolumnowymi ustalonej długości d. Policz:\n",
    "- długość wektora x,\n",
    "- średnią ważoną wektora x z wagami w,\n",
    "- odległość euklidesową między wektorami x i y,\n",
    "- iloczyn skalarny wektorów x i y.\n",
    "Obliczenia przeprowadź dla losowo wygenerowanych wektorów x, y, w (dla d = 100)."
   ]
  },
  {
   "cell_type": "code",
   "execution_count": 9,
   "metadata": {},
   "outputs": [
    {
     "name": "stdout",
     "output_type": "stream",
     "text": [
      "x_len =  5.5268\n",
      "xw =  0.48375\n",
      "xy_dist =  4.0664\n",
      "xy_dot =  24.196\n"
     ]
    }
   ],
   "source": [
    "d = 100;\n",
    "x = rand(d, 1);\n",
    "y = rand(d, 1);\n",
    "w = rand(d, 1);\n",
    "\n",
    "x_len = sqrt(dot(x, x))\n",
    "xw = dot(x, w) / sum(w)\n",
    "xy_dist = sqrt(dot(x-y, x-y))\n",
    "xy_dot = dot(x, y)"
   ]
  },
  {
   "cell_type": "markdown",
   "metadata": {},
   "source": [
    "b) Niech X będzie macierzą ustalonego rozmiaru d x N zawierającą N wektorów kolumnowych długości d. Niech y i w będą wektorami kolumnowymi długości d. Policz\n",
    "- długości kolejnych wektorów z macierzy X (wyznacz wektor długości N zawierający te długości),\n",
    "- średnią ważoną kolejnych wektorów z macierzy X z wagami w (wyznacz wektor długości N zawierający te średnie),\n",
    "- odległości euklidesowe między kolejnymi wektorami z macierzy X i wektorem y (wyznacz wektor długości N zawierający te odległości),\n",
    "- iloczyny skalarne kolejnych wektorów z macierzy X i wektora y (wyznacz wektor długości N zawierający te iloczyny).\n",
    "Obliczenia przeprowadź dla losowo wygenerowanej macierzy X i losowo wygenerowanych wektorów y i w (dla d = 100 i N = 1000)."
   ]
  },
  {
   "cell_type": "code",
   "execution_count": 10,
   "metadata": {},
   "outputs": [],
   "source": [
    "d = 100;\n",
    "N = 1000;\n",
    "\n",
    "X = rand(d, N);\n",
    "y = rand(d, 1);\n",
    "w = rand(d, 1);\n",
    "\n",
    "X_each_len = sqrt(dot(X, X));\n",
    "X_each_mean = sum(X .* w) ./ sum(w);\n",
    "Xy_dist = sqrt(sum((X.-y).**2));\n",
    "Xy_dot = sum(X.*y);"
   ]
  },
  {
   "cell_type": "markdown",
   "metadata": {},
   "source": [
    "### Zadanie 2.\n",
    "Napisz funkcję, która dla danych macierzy X i Y ustalonego rozmiaru d x N i d x M odpowiednio, zawierających N i M wektorów kolumnowych długości d, wyznacza macierz odległości euklidesowych między wektorami tych macierzy, tzn. macierz D rozmiaru N x M, gdzie D(i, j) to odległości między i-tym wektorem z macierzy X i j-tym wektorem z macierzy Y. Oblicz czas działania napisanej funkcji dla losowo wygenerowanych macierzy X i Y dla d = 100 i N = M = 1 000 oraz dla d = 100, N = 10 000 i M = 1 000."
   ]
  },
  {
   "cell_type": "code",
   "execution_count": 5,
   "metadata": {},
   "outputs": [],
   "source": [
    "function [dists] = calc_dists(X, Y)\n",
    "    dists = sqrt((-2 .* X' * Y) .+ (sum(X.**2)') .+ (sum(Y.**2)));\n",
    "end"
   ]
  },
  {
   "cell_type": "code",
   "execution_count": 6,
   "metadata": {},
   "outputs": [
    {
     "name": "stdout",
     "output_type": "stream",
     "text": [
      "Elapsed time is 0.0236959 seconds.\n",
      "Elapsed time is 0.168261 seconds.\n"
     ]
    }
   ],
   "source": [
    "d = 100;\n",
    "N = M = 1000;\n",
    "\n",
    "X = rand(d, N);\n",
    "Y = rand(d, M);\n",
    "\n",
    "tic;\n",
    "D = calc_dists(X, Y);\n",
    "toc\n",
    "\n",
    "N = 10000;\n",
    "\n",
    "X = rand(d, N);\n",
    "Y = rand(d, M);\n",
    "\n",
    "tic;\n",
    "D = calc_dists(X, Y);\n",
    "toc"
   ]
  },
  {
   "cell_type": "markdown",
   "metadata": {},
   "source": [
    "### Zadanie 3.\n",
    "Napisz funkcję, która dla danych macierzy X i Y ustalonego rozmiaru d x N i d x M odpowiednio, zawierających N i M wektorów kolumnowych długości d, wyznacza dla każdego wektora z macierzy X najbliższego sąsiada spośród wektorów z macierzy Y, tzn. zwraca wektor h rozmiaru 1 x N, gdzie h(i) to numer wektora z macierzy Y będącego najbliższym sąsiadem i-tego wektora z macierzy X. Napisz też wersję tej funkcji, która wyznacza k najbliższych sąsiadów, tzn. zwraca macierz H rozmiaru k x N, gdzie H(i, j) to numer wektora z macierzy Y będącego i-tym najbliższym sąsiadem j-tego wektora z macierzy X (czyli h(j) = H(1, j))."
   ]
  },
  {
   "cell_type": "code",
   "execution_count": 9,
   "metadata": {},
   "outputs": [],
   "source": [
    "function [nearest_vector] = find_nearest_vector(X, Y)\n",
    "    dists = calc_dists(X, Y);\n",
    "    [M, I] = min(dists);\n",
    "    nearest_vector = I;\n",
    "end"
   ]
  },
  {
   "cell_type": "code",
   "execution_count": 14,
   "metadata": {},
   "outputs": [],
   "source": [
    "function [nearest_k_vector] = find_k_nearest_vectors(k, X, Y)\n",
    "    dists = calc_dists(X, Y);\n",
    "    [S, I] = sort(dists);\n",
    "    nearest_k_vector = I(1:k, :);\n",
    "end"
   ]
  },
  {
   "cell_type": "code",
   "execution_count": 15,
   "metadata": {},
   "outputs": [
    {
     "name": "stdout",
     "output_type": "stream",
     "text": [
      "X =\n",
      "\n",
      "   0.744953   0.267229   0.039687   0.318376   0.877032\n",
      "   0.916590   0.972444   0.745530   0.856910   0.690580\n",
      "   0.364216   0.531060   0.201881   0.264682   0.195282\n",
      "\n",
      "Y =\n",
      "\n",
      "   0.26082   0.17798   0.62785   0.53209   0.37297\n",
      "   0.22481   0.62926   0.32814   0.83632   0.83290\n",
      "   0.90471   0.13191   0.23567   0.86966   0.14402\n",
      "\n",
      "nearest_n =\n",
      "\n",
      "   2   3   5   2   4\n",
      "\n",
      "k_nearest =\n",
      "\n",
      "   2   3   5   2   4\n",
      "   4   4   4   1   3\n",
      "   3   2   1   4   2\n",
      "\n"
     ]
    }
   ],
   "source": [
    "N = M = 5;\n",
    "d = 3;\n",
    "\n",
    "X = rand(d, N)\n",
    "Y = rand(d, M)\n",
    "nearest = find_nearest_vector(X, Y)\n",
    "k_nearest = find_k_nearest_vectors(3, X, Y)"
   ]
  },
  {
   "cell_type": "markdown",
   "metadata": {},
   "source": [
    "### Zadanie 4.\n",
    "Utwórz skrypt generujący losowe sudoku, tzn. macierz M rozmiaru 9x9 zawierającą liczby 1, 2, ..., 9, taką, że w każdym wierszu każda z liczb występuje dokładnie jeden raz, w każdej kolumnie każda z liczb występuje dokładnie jeden raz oraz w każdej klatce 3x3, powstałej przez podział macierzy M dwoma liniami pionowymi i dwoma liniami poziomymi, każda z liczb występuje dokładnie jeden raz."
   ]
  },
  {
   "cell_type": "code",
   "execution_count": 99,
   "metadata": {},
   "outputs": [
    {
     "name": "stdout",
     "output_type": "stream",
     "text": [
      "sud =\n",
      "\n",
      "   0   0   0   0   0   0   0   0   0\n",
      "   0   0   0   0   0   0   0   0   0\n",
      "   0   0   0   0   0   0   0   0   0\n",
      "   0   0   0   0   0   0   0   0   0\n",
      "   0   0   0   0   0   0   0   0   0\n",
      "   0   0   0   0   0   0   0   0   0\n",
      "   0   0   0   0   0   0   0   0   0\n",
      "   0   0   0   0   0   0   0   0   0\n",
      "   0   0   0   0   0   0   0   0   0\n",
      "\n",
      "ans =\n",
      "\n",
      "   9   7   2   1   6   5   3   4   8\n",
      "   4   1   6   3   5   2   8   7   9\n",
      "   1   9   5   8   2   6   4   3   7\n",
      "   5   6   8   4   7   9   1   2   3\n",
      "   3   4   9   6   1   7   5   8   2\n",
      "   6   5   4   7   3   8   2   9   1\n",
      "   7   8   3   2   9   4   6   1   5\n",
      "   8   2   1   9   4   3   7   5   6\n",
      "   2   3   7   5   8   1   9   6   4\n",
      "\n"
     ]
    }
   ],
   "source": [
    "function [sud] = generate(n)\n",
    "    sud = zeros(n)\n",
    "    for i = 1:n\n",
    "        x = randperm(n);\n",
    "        while !all(all(x .- sud(1:i-1, :)))\n",
    "            x = randperm(n);\n",
    "        endwhile\n",
    "        sud(i, :) = x;\n",
    "    endfor\n",
    "end\n",
    "\n",
    "generate(9)\n"
   ]
  },
  {
   "cell_type": "code",
   "execution_count": 193,
   "metadata": {
    "scrolled": true
   },
   "outputs": [
    {
     "name": "stdout",
     "output_type": "stream",
     "text": [
      "\n",
      "\n"
     ]
    }
   ],
   "source": [
    "function [sud] = generate(n)\n",
    "    flag = true;\n",
    "    while flag\n",
    "        try\n",
    "            flag = false;\n",
    "            pos = ones(n, n, n);\n",
    "            sud = zeros(n);\n",
    "            for i = 1:n\n",
    "                for j = 1:n\n",
    "                    [a, p] = find(pos(i, j, :)); % find all possible numbers in pos i,j\n",
    "                    x = p(randi(1:length(p)));\n",
    "                    sud(i, j) = x;\n",
    "\n",
    "                    % update array of possible\n",
    "                    for k = 1:n\n",
    "                        pos(i, k, x) = 0;\n",
    "                        pos(k, j, x) = 0;\n",
    "                    endfor\n",
    "                    i1 = i;\n",
    "                    while mod(i1, 3) != 0 || i1 == i\n",
    "                        j1 = j;\n",
    "                        while mod(j1, 3) != 0 || j1 == j\n",
    "                            pos(i1, j1, x) = 0;\n",
    "                            j1 += 1;\n",
    "                        endwhile\n",
    "                        i1 += 1;\n",
    "                    endwhile\n",
    "                endfor\n",
    "            endfor\n",
    "        catch\n",
    "            flag = true;\n",
    "        end\n",
    "    endwhile\n",
    "end\n",
    "\n",
    "generate(9)\n",
    "\n",
    "% a = [1 4]\n",
    "% a = a(randi(1:length(a)))"
   ]
  },
  {
   "cell_type": "code",
   "execution_count": 200,
   "metadata": {},
   "outputs": [
    {
     "name": "stdout",
     "output_type": "stream",
     "text": [
      "ans = 0\r\n",
      "ans =  3\r\n",
      "ans =  6\r\n",
      "ans =  1\r\n",
      "ans =  4\r\n",
      "ans =  7\r\n",
      "ans =  2\r\n",
      "ans =  5\r\n",
      "ans =  8\r\n"
     ]
    }
   ],
   "source": [
    "for i = 0:8\n",
    "    3*mod(i, 3) + fix(i/3)\n",
    "endfor"
   ]
  },
  {
   "cell_type": "markdown",
   "metadata": {},
   "source": [
    "### Zadanie 5.\n",
    "Zapoznaj się z paradoksem Monty’ego Halla (który był podstawą teleturniejów telewizyjnych \"Let’s make a deal\", w polskiej wersji \"Idź na całość\"). Napisz skrypt symulujący taki teleturniej. Przeprowadź minimum 10000 prób i oszacuj prawdopodobieństwo wygranej dla strategii pozostawania przy swoim wyborze oraz dla strategii zmiany wyboru."
   ]
  },
  {
   "cell_type": "code",
   "execution_count": 1,
   "metadata": {},
   "outputs": [
    {
     "name": "stdout",
     "output_type": "stream",
     "text": [
      "wins_stay =  0.32810\n",
      "wins_change =  0.67190\n"
     ]
    }
   ],
   "source": [
    "wins_stay = 0;\n",
    "wins_change = 0;\n",
    "N = 10000;\n",
    "\n",
    "for i = 1:N\n",
    "    w = randi(3);\n",
    "    g1 = randi(3);\n",
    "    \n",
    "    wins_stay += w == g1;\n",
    "    wins_change += w != g1;\n",
    "endfor\n",
    "wins_stay/=N\n",
    "wins_change/=N"
   ]
  }
 ],
 "metadata": {
  "kernelspec": {
   "display_name": "Octave",
   "language": "octave",
   "name": "octave"
  },
  "language_info": {
   "file_extension": ".m",
   "help_links": [
    {
     "text": "GNU Octave",
     "url": "https://www.gnu.org/software/octave/support.html"
    },
    {
     "text": "Octave Kernel",
     "url": "https://github.com/Calysto/octave_kernel"
    },
    {
     "text": "MetaKernel Magics",
     "url": "https://metakernel.readthedocs.io/en/latest/source/README.html"
    }
   ],
   "mimetype": "text/x-octave",
   "name": "octave",
   "version": "5.1.0"
  }
 },
 "nbformat": 4,
 "nbformat_minor": 2
}
